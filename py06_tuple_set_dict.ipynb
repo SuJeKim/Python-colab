{
  "nbformat": 4,
  "nbformat_minor": 0,
  "metadata": {
    "colab": {
      "provenance": [],
      "authorship_tag": "ABX9TyMi3+YFFzgIlgyMQi4d12MB",
      "include_colab_link": true
    },
    "kernelspec": {
      "name": "python3",
      "display_name": "Python 3"
    },
    "language_info": {
      "name": "python"
    }
  },
  "cells": [
    {
      "cell_type": "markdown",
      "metadata": {
        "id": "view-in-github",
        "colab_type": "text"
      },
      "source": [
        "<a href=\"https://colab.research.google.com/github/SuJeKim/Python-colab/blob/main/py06_tuple_set_dict.ipynb\" target=\"_parent\"><img src=\"https://colab.research.google.com/assets/colab-badge.svg\" alt=\"Open In Colab\"/></a>"
      ]
    },
    {
      "cell_type": "markdown",
      "source": [
        "list []\n",
        "\n",
        "tuple ()\n",
        "\n",
        "set {}\n",
        "\n",
        "dict {a: b , c:d, ...}"
      ],
      "metadata": {
        "id": "n3OxEgZMriS4"
      }
    },
    {
      "cell_type": "markdown",
      "source": [
        "# tuple(튜플)\n",
        "\n",
        "* 하나의 변수에 여러 개의 값들을 저장하기 위한 자료 타입.\n",
        "* 저장된 원소(아이템)들을 변경할 수 없는 리스트. <- 리스트와 다른 점.\n",
        "  * 추가, 삭제, 변경이 되지 않음.\n",
        "  * `append()`, `remove()`와 같은 원소를 변경하는 메서드(기능)은 제공하지 않음\n",
        "* 인덱스 기반 자료 타입\n",
        "  * indexing, slicing\n",
        "  * 음수 인덱스도 사용 가능"
      ],
      "metadata": {
        "id": "XyRn_yEzWvQ2"
      }
    },
    {
      "cell_type": "code",
      "execution_count": 7,
      "metadata": {
        "colab": {
          "base_uri": "https://localhost:8080/"
        },
        "id": "ZnV_NtV-WcDk",
        "outputId": "cce2929b-657d-46ba-d2f9-1e7d13329d12"
      },
      "outputs": [
        {
          "output_type": "execute_result",
          "data": {
            "text/plain": [
              "(1, 2, 3, 10, 20, 30, 1)"
            ]
          },
          "metadata": {},
          "execution_count": 7
        }
      ],
      "source": [
        "# 숫자들을 저장하는 튜플\n",
        "numbers = (1, 2, 3, 10, 20, 30,1)\n",
        "numbers"
      ]
    },
    {
      "cell_type": "code",
      "source": [
        "type(numbers)\n"
      ],
      "metadata": {
        "colab": {
          "base_uri": "https://localhost:8080/"
        },
        "id": "wZo5MlUAYAgS",
        "outputId": "e306d796-5936-45d9-86b2-90377ab3345a"
      },
      "execution_count": 4,
      "outputs": [
        {
          "output_type": "execute_result",
          "data": {
            "text/plain": [
              "tuple"
            ]
          },
          "metadata": {},
          "execution_count": 4
        }
      ]
    },
    {
      "cell_type": "code",
      "source": [
        "numbers.count(1) # 튜플내 n 원소의 개수"
      ],
      "metadata": {
        "colab": {
          "base_uri": "https://localhost:8080/"
        },
        "id": "xj_JGwkgYRnd",
        "outputId": "0da2921d-8a0b-4e96-8bde-f04fe412a384"
      },
      "execution_count": 8,
      "outputs": [
        {
          "output_type": "execute_result",
          "data": {
            "text/plain": [
              "2"
            ]
          },
          "metadata": {},
          "execution_count": 8
        }
      ]
    },
    {
      "cell_type": "markdown",
      "source": [
        "indexing: 인덱스를 사용해서 원소 1개를 참조하는 방법\n",
        "\n",
        "* ()는 함수호출처럼 보여서 indexing은 리스트나 튜플다 [] 사용"
      ],
      "metadata": {
        "id": "3LPtvwHMYx2E"
      }
    },
    {
      "cell_type": "code",
      "source": [
        "numbers[0] # 튜플의 첫번째 원소"
      ],
      "metadata": {
        "colab": {
          "base_uri": "https://localhost:8080/"
        },
        "id": "foCGShxzYUX-",
        "outputId": "2447af61-8c6d-498a-d40a-2f5c4a083568"
      },
      "execution_count": 9,
      "outputs": [
        {
          "output_type": "execute_result",
          "data": {
            "text/plain": [
              "1"
            ]
          },
          "metadata": {},
          "execution_count": 9
        }
      ]
    },
    {
      "cell_type": "code",
      "source": [
        "numbers[-1] # 튜플의 마지막 원소"
      ],
      "metadata": {
        "colab": {
          "base_uri": "https://localhost:8080/"
        },
        "id": "tPMAkr2WZHBQ",
        "outputId": "829f87d2-050d-4806-ca01-f53ba24bd992"
      },
      "execution_count": 10,
      "outputs": [
        {
          "output_type": "execute_result",
          "data": {
            "text/plain": [
              "1"
            ]
          },
          "metadata": {},
          "execution_count": 10
        }
      ]
    },
    {
      "cell_type": "markdown",
      "source": [
        "slicing: 자르기, 부분집합."
      ],
      "metadata": {
        "id": "2zTxPFH7ZPPs"
      }
    },
    {
      "cell_type": "code",
      "source": [
        "# 튜플에서 첫 3개의 원소들을 잘라내기. [start, end) 범위\n",
        "numbers[:3]"
      ],
      "metadata": {
        "colab": {
          "base_uri": "https://localhost:8080/"
        },
        "id": "NDUsnhp5ZJvt",
        "outputId": "78e957ca-b597-45ab-b1a0-bc233cad02b9"
      },
      "execution_count": 11,
      "outputs": [
        {
          "output_type": "execute_result",
          "data": {
            "text/plain": [
              "(1, 2, 3)"
            ]
          },
          "metadata": {},
          "execution_count": 11
        }
      ]
    },
    {
      "cell_type": "code",
      "source": [
        "numbers[-3:] # 튜플에서 마지막  3개의 원소들을 잘라내기."
      ],
      "metadata": {
        "colab": {
          "base_uri": "https://localhost:8080/"
        },
        "id": "aMC4hCwqZcX1",
        "outputId": "7d2d77e1-a0fc-4947-a316-576aa4b67c83"
      },
      "execution_count": 12,
      "outputs": [
        {
          "output_type": "execute_result",
          "data": {
            "text/plain": [
              "(20, 30, 1)"
            ]
          },
          "metadata": {},
          "execution_count": 12
        }
      ]
    },
    {
      "cell_type": "markdown",
      "source": [
        "## decomposition(분해)\n",
        "`indexing`을 좀 더 간단히 사용하는 것\n",
        "* 리스트도 가능."
      ],
      "metadata": {
        "id": "3zfWwAaPZ5U8"
      }
    },
    {
      "cell_type": "code",
      "source": [
        "odds = (1, 3, 5)\n",
        "a = odds[0]\n",
        "b = odds[1]\n",
        "c = odds[2]\n",
        "print(a, b, c)"
      ],
      "metadata": {
        "colab": {
          "base_uri": "https://localhost:8080/"
        },
        "id": "ErADAhvcZzJF",
        "outputId": "ae3ee293-6b69-4baa-91c4-00497b9a24ae"
      },
      "execution_count": 14,
      "outputs": [
        {
          "output_type": "stream",
          "name": "stdout",
          "text": [
            "1 3 5\n"
          ]
        }
      ]
    },
    {
      "cell_type": "code",
      "source": [
        "# 튜플의 원소의 개수와 decomposition할 변수의 개수가 동일해야 함.\n",
        "# 튜플의 원소의 개수가 작을 떄 사용.\n",
        "\n",
        "x, y = (1, 3)\n",
        "print(x, y)"
      ],
      "metadata": {
        "colab": {
          "base_uri": "https://localhost:8080/"
        },
        "id": "dJdgwT35aWWg",
        "outputId": "99a0b935-2682-4b3b-dede-7a00a3a5aedb"
      },
      "execution_count": 17,
      "outputs": [
        {
          "output_type": "stream",
          "name": "stdout",
          "text": [
            "1 3\n"
          ]
        }
      ]
    },
    {
      "cell_type": "markdown",
      "source": [
        "## tuple & for"
      ],
      "metadata": {
        "id": "_NhrwvVcbMW0"
      }
    },
    {
      "cell_type": "code",
      "source": [
        "for x in odds:\n",
        "  print(x)"
      ],
      "metadata": {
        "colab": {
          "base_uri": "https://localhost:8080/"
        },
        "id": "ljkYv-QOaqWR",
        "outputId": "1d70d38a-9e25-4f69-dfe0-d74adbd29c05"
      },
      "execution_count": 18,
      "outputs": [
        {
          "output_type": "stream",
          "name": "stdout",
          "text": [
            "1\n",
            "3\n",
            "5\n"
          ]
        }
      ]
    },
    {
      "cell_type": "markdown",
      "source": [
        "tuple은 comprasion이 없음\n",
        "즉, 값이 변경이 안되기에 빈 배열을 만들어도 append가 안됨."
      ],
      "metadata": {
        "id": "eaKmv0_Gb419"
      }
    },
    {
      "cell_type": "markdown",
      "source": [
        "## 2차원 리스트/ 튜플\n",
        "\n",
        "* 다차원 리스트: 2차원 이상 리스트들.\n"
      ],
      "metadata": {
        "id": "_2bx_P_UcF_b"
      }
    },
    {
      "cell_type": "code",
      "source": [
        "numbers = [\n",
        "    [1, 2, 3],\n",
        "    [4, 5, 6]\n",
        "]\n",
        "numbers\n"
      ],
      "metadata": {
        "colab": {
          "base_uri": "https://localhost:8080/"
        },
        "id": "vdETDdSkbVe3",
        "outputId": "21525d60-e20a-470f-b2d2-b951be33a9cd"
      },
      "execution_count": 20,
      "outputs": [
        {
          "output_type": "execute_result",
          "data": {
            "text/plain": [
              "[[1, 2, 3], [4, 5, 6]]"
            ]
          },
          "metadata": {},
          "execution_count": 20
        }
      ]
    },
    {
      "cell_type": "code",
      "source": [
        "len(numbers) # 2차원 리스트 numbers의 원소 개수"
      ],
      "metadata": {
        "colab": {
          "base_uri": "https://localhost:8080/"
        },
        "id": "lvJmyXMsdFr_",
        "outputId": "439bd706-2bd9-4caa-896d-d770287fd1f3"
      },
      "execution_count": 21,
      "outputs": [
        {
          "output_type": "execute_result",
          "data": {
            "text/plain": [
              "2"
            ]
          },
          "metadata": {},
          "execution_count": 21
        }
      ]
    },
    {
      "cell_type": "code",
      "source": [
        "numbers[0]"
      ],
      "metadata": {
        "colab": {
          "base_uri": "https://localhost:8080/"
        },
        "id": "ezxvIwBndPa-",
        "outputId": "85de7770-2afa-445c-a64c-662b593130c4"
      },
      "execution_count": 22,
      "outputs": [
        {
          "output_type": "execute_result",
          "data": {
            "text/plain": [
              "[1, 2, 3]"
            ]
          },
          "metadata": {},
          "execution_count": 22
        }
      ]
    },
    {
      "cell_type": "code",
      "source": [
        "numbers[0][1]"
      ],
      "metadata": {
        "colab": {
          "base_uri": "https://localhost:8080/"
        },
        "id": "4YnYx-qPdfFT",
        "outputId": "37f31cac-7c90-42de-d286-7a30c20ab6e4"
      },
      "execution_count": 23,
      "outputs": [
        {
          "output_type": "execute_result",
          "data": {
            "text/plain": [
              "2"
            ]
          },
          "metadata": {},
          "execution_count": 23
        }
      ]
    },
    {
      "cell_type": "markdown",
      "source": [
        "Ex.\n",
        "1. 2 * 2 모양의 [0, 10) 범위의 정수 난수들을 저장하는 2차원 리스트 array1을 만드고 출력하세요.\n",
        "1. 2 *2 모양의 [0 ,10) 범위의 정수 난수들을 저장하는 2차원 리스트 array2을 만드고 출력하세요.\n",
        "1. array1 과 array2와 같은 인덱스의 원소들끼리의 덕셈 결과를 저장하는 2차원 리스트 add를 만들고 출력하세요."
      ],
      "metadata": {
        "id": "zcOz10ppd2Fz"
      }
    },
    {
      "cell_type": "code",
      "source": [
        "import random\n",
        "\n",
        "array1 = [\n",
        "    [random.randrange(10) for _ in range(2)],\n",
        "    [random.randrange(10) for _ in range(2)]\n",
        "]\n",
        "\n",
        "print(f'array1 = {array1}')\n",
        "\n",
        "array2 = [\n",
        "    [random.randrange(10) for _ in range(2)],\n",
        "    [random.randrange(10) for _ in range(2)]\n",
        "]\n",
        "\n",
        "print(f'array2 = {array2}')\n",
        "\n",
        "add = []\n",
        "for x, y in zip(array1, array2):\n",
        "  line = []\n",
        "  for z, k in zip(x, y):\n",
        "    print(f'z = {z}, k = {k}')\n",
        "    line.append(z + k)\n",
        "  add.append(line)\n",
        "print(add)\n"
      ],
      "metadata": {
        "colab": {
          "base_uri": "https://localhost:8080/"
        },
        "id": "oOGYo8pddq7Y",
        "outputId": "0ea4ebfb-bbbf-4bf8-eaa3-2d2c554233cd"
      },
      "execution_count": 31,
      "outputs": [
        {
          "output_type": "stream",
          "name": "stdout",
          "text": [
            "array1 = [[2, 2], [3, 2]]\n",
            "array2 = [[8, 8], [5, 3]]\n",
            "z = 2, k = 8\n",
            "z = 2, k = 8\n",
            "z = 3, k = 5\n",
            "z = 2, k = 3\n",
            "[[10, 10], [8, 5]]\n"
          ]
        }
      ]
    },
    {
      "cell_type": "code",
      "source": [
        "# 강사님 코드\n",
        "\n",
        "array1 =[] # 1차원 리스트들을 저장할 빈 리스트.\n",
        "for _ in range(2): # 2번 반복.\n",
        "  row = [] # 난수들을 저장할 빈 리스트\n",
        "  for _ in range(2): # 2번 반복\n",
        "    row.append(random.randrange(10)) # 난수를 row에 추가.\n",
        "  array1.append(row) # 난수 2개를 갖는 1차원 리스트를 array1에 추가.\n",
        "print(array1)\n",
        "\n",
        "array2 =[[random.randrange(10) for _ in range(2)] for _ in range(2)]\n",
        "print(array2)"
      ],
      "metadata": {
        "colab": {
          "base_uri": "https://localhost:8080/"
        },
        "id": "OEsHidAskoDa",
        "outputId": "b8b3860c-7b70-4c84-8a5e-7f49f3a60f6f"
      },
      "execution_count": 32,
      "outputs": [
        {
          "output_type": "stream",
          "name": "stdout",
          "text": [
            "[[5, 7], [8, 8]]\n",
            "[[8, 2], [4, 4]]\n"
          ]
        }
      ]
    },
    {
      "cell_type": "code",
      "source": [
        "# 방법 1) for문만 사용.\n",
        "\n",
        "add = [] # 1차원 배열들을 저장할 빈 배열\n",
        "for row1, row2 in zip(array1, array2):\n",
        "  # print(row1, row2)\n",
        "  temp = [] # 덧셈 결과를 저장할 빈 배열\n",
        "  for x, y in zip(row1, row2):\n",
        "    temp.append(x + y)\n",
        "  add.append(temp)\n",
        "\n",
        "print(f'방법 1: {add}')\n",
        "\n",
        "# 방법 2) list comprasion\n",
        "add1 = [[x + y for x, y in zip(row1, row2)]\n",
        "for row1, row2 in zip(array1, array2)]\n",
        "\n",
        "print(f'방법 2: {add1}')"
      ],
      "metadata": {
        "colab": {
          "base_uri": "https://localhost:8080/"
        },
        "id": "naeySXOFm84T",
        "outputId": "f0bfec86-2c3d-41b6-9d1b-8e64e899f695"
      },
      "execution_count": 34,
      "outputs": [
        {
          "output_type": "stream",
          "name": "stdout",
          "text": [
            "방법 1: [[13, 9], [12, 12]]\n",
            "방법 2: [[13, 9], [12, 12]]\n"
          ]
        }
      ]
    },
    {
      "cell_type": "markdown",
      "source": [
        "# Set(집합)\n",
        "\n",
        "* 중복된 데이터를 허용하지 않음: `{1, 2, 2, 3, 3} == {1, 2, 3}`\n",
        "* 인덱스 기반의 자료 구조가 아님. 인덱스가 없음.\n",
        "  * 데이터의 저장 순서가 중요하지 않음: `{1, 2, 3} == {3, 2, 1}`\n",
        "  * indexing, slicing 기능을 제공하지 않음.\n",
        "  * for-in 구문에서 사용할 수 있는 iterable 타입."
      ],
      "metadata": {
        "id": "6Ph-4QgAqLvZ"
      }
    },
    {
      "cell_type": "code",
      "source": [
        "s = {1, 2, 2, 3, 3}\n",
        "print(s)"
      ],
      "metadata": {
        "colab": {
          "base_uri": "https://localhost:8080/"
        },
        "id": "l7MoRUejrRcD",
        "outputId": "be02c9ca-d383-4967-ee71-18a06849d855"
      },
      "execution_count": 36,
      "outputs": [
        {
          "output_type": "stream",
          "name": "stdout",
          "text": [
            "{1, 2, 3}\n"
          ]
        }
      ]
    },
    {
      "cell_type": "code",
      "source": [
        "type(s)"
      ],
      "metadata": {
        "colab": {
          "base_uri": "https://localhost:8080/"
        },
        "id": "7PGyjG7mrWj_",
        "outputId": "8a9270ed-77e5-4973-b8b9-db835a9383e1"
      },
      "execution_count": 37,
      "outputs": [
        {
          "output_type": "execute_result",
          "data": {
            "text/plain": [
              "set"
            ]
          },
          "metadata": {},
          "execution_count": 37
        }
      ]
    },
    {
      "cell_type": "markdown",
      "source": [
        "* set의 기능(메서드)"
      ],
      "metadata": {
        "id": "wg-OI3oWrxGI"
      }
    },
    {
      "cell_type": "code",
      "source": [
        "s.add(5) # set에 원소 추가\n",
        "print(s)"
      ],
      "metadata": {
        "colab": {
          "base_uri": "https://localhost:8080/"
        },
        "id": "_C1tXN3zrzt6",
        "outputId": "ae48ddfa-a0cb-4dd3-81a1-cce1432bfb52"
      },
      "execution_count": 39,
      "outputs": [
        {
          "output_type": "stream",
          "name": "stdout",
          "text": [
            "{1, 2, 3, 5}\n",
            "{1, 2, 3, 5}\n"
          ]
        }
      ]
    },
    {
      "cell_type": "code",
      "source": [
        "s.add(5)\n",
        "print(s)"
      ],
      "metadata": {
        "colab": {
          "base_uri": "https://localhost:8080/"
        },
        "id": "PVx8Enf7sK67",
        "outputId": "62668950-399a-44b5-fe16-12c03bdb19d3"
      },
      "execution_count": 41,
      "outputs": [
        {
          "output_type": "stream",
          "name": "stdout",
          "text": [
            "{1, 2, 3, 5}\n"
          ]
        }
      ]
    },
    {
      "cell_type": "code",
      "source": [
        "s.remove(3) # set의 원소를 삭제, 삭제할 원소를 아규먼트로 전달.\n",
        "print(s)"
      ],
      "metadata": {
        "colab": {
          "base_uri": "https://localhost:8080/"
        },
        "id": "6Dcp_RrJsWOv",
        "outputId": "e830bece-5c0e-4c55-b1ba-161b3b2eefc0"
      },
      "execution_count": 44,
      "outputs": [
        {
          "output_type": "stream",
          "name": "stdout",
          "text": [
            "{1, 2, 5}\n"
          ]
        }
      ]
    },
    {
      "cell_type": "code",
      "source": [
        "s.pop() # 삭제가 랜덤.\n",
        "print(s)"
      ],
      "metadata": {
        "colab": {
          "base_uri": "https://localhost:8080/"
        },
        "id": "sK2A2l6nsiJH",
        "outputId": "030e6e01-205a-4091-b361-fdbd8e0ffde3"
      },
      "execution_count": 45,
      "outputs": [
        {
          "output_type": "stream",
          "name": "stdout",
          "text": [
            "{2, 5}\n"
          ]
        }
      ]
    },
    {
      "cell_type": "code",
      "source": [
        "s1 = {1, 2, 3, 4}\n",
        "s2 = {2, 3, 5, 6}\n",
        "\n",
        "s1.union(s2) # 합집합"
      ],
      "metadata": {
        "colab": {
          "base_uri": "https://localhost:8080/"
        },
        "id": "J4ws3k70s6Nb",
        "outputId": "d2540dce-7758-4679-ad21-1142edcd422e"
      },
      "execution_count": 46,
      "outputs": [
        {
          "output_type": "execute_result",
          "data": {
            "text/plain": [
              "{1, 2, 3, 4, 5, 6}"
            ]
          },
          "metadata": {},
          "execution_count": 46
        }
      ]
    },
    {
      "cell_type": "code",
      "source": [
        "s1.intersection(s2) # 교집합"
      ],
      "metadata": {
        "colab": {
          "base_uri": "https://localhost:8080/"
        },
        "id": "Sy3zVUYEthMi",
        "outputId": "519987cc-32ec-4335-a3f4-40f450a5e86e"
      },
      "execution_count": 47,
      "outputs": [
        {
          "output_type": "execute_result",
          "data": {
            "text/plain": [
              "{2, 3}"
            ]
          },
          "metadata": {},
          "execution_count": 47
        }
      ]
    },
    {
      "cell_type": "code",
      "source": [
        "s1.difference(s2) # 차집합: s1 - s2"
      ],
      "metadata": {
        "colab": {
          "base_uri": "https://localhost:8080/"
        },
        "id": "hTzPowJvtmBV",
        "outputId": "d401dbd2-fea6-4bb1-be35-7b834f2aa2c6"
      },
      "execution_count": 48,
      "outputs": [
        {
          "output_type": "execute_result",
          "data": {
            "text/plain": [
              "{1, 4}"
            ]
          },
          "metadata": {},
          "execution_count": 48
        }
      ]
    },
    {
      "cell_type": "code",
      "source": [
        "s2.difference(s1) # 차집합: s2 -s1"
      ],
      "metadata": {
        "colab": {
          "base_uri": "https://localhost:8080/"
        },
        "id": "roPJXUemtwdd",
        "outputId": "03319a67-7cf0-4b46-ae17-855f49b744a0"
      },
      "execution_count": 49,
      "outputs": [
        {
          "output_type": "execute_result",
          "data": {
            "text/plain": [
              "{5, 6}"
            ]
          },
          "metadata": {},
          "execution_count": 49
        }
      ]
    },
    {
      "cell_type": "markdown",
      "source": [
        "# dict\n",
        "\n",
        "* dictionary(사전) 형식의 데이터 타입.\n",
        "* 키(key)를 기반으로 값(value)를 저장하는 데이터 타입.\n",
        "  * list, tuple: 인덱스 기반의 데이터 타입.\n",
        "  * dict: key-value 기반의 데이터 타입.\n",
        "  * dict에서 key의 역할은 1개 아이템의 값(value)를 찾기 위한 용도."
      ],
      "metadata": {
        "id": "8YSk37LruFp_"
      }
    },
    {
      "cell_type": "code",
      "source": [
        "students = {1: '홍길동', 2: '허균', 3: '오쌤'}\n",
        "print(students)\n",
        "type(students)"
      ],
      "metadata": {
        "colab": {
          "base_uri": "https://localhost:8080/"
        },
        "id": "6_e7-oOYuAjI",
        "outputId": "b6ea802e-97e9-42d3-d1d0-97217149fdcb"
      },
      "execution_count": 50,
      "outputs": [
        {
          "output_type": "stream",
          "name": "stdout",
          "text": [
            "{1: '홍길동', 2: '허균', 3: '오쌤'}\n"
          ]
        },
        {
          "output_type": "execute_result",
          "data": {
            "text/plain": [
              "dict"
            ]
          },
          "metadata": {},
          "execution_count": 50
        }
      ]
    },
    {
      "cell_type": "markdown",
      "source": [
        "`dict`에서 키를 사용하는 방법은 `list` 또는 `tuple`과 마찬가지로 인덱스 연산자(`[]`)를 사용함."
      ],
      "metadata": {
        "id": "A9zrOBTj0GpZ"
      }
    },
    {
      "cell_type": "code",
      "source": [
        "students[1] # dict에서 key가 1인 아이템의 value"
      ],
      "metadata": {
        "colab": {
          "base_uri": "https://localhost:8080/",
          "height": 35
        },
        "id": "FS69p21szyrV",
        "outputId": "21bd6fdc-1069-4760-84a3-5698c429cedb"
      },
      "execution_count": 51,
      "outputs": [
        {
          "output_type": "execute_result",
          "data": {
            "text/plain": [
              "'홍길동'"
            ],
            "application/vnd.google.colaboratory.intrinsic+json": {
              "type": "string"
            }
          },
          "metadata": {},
          "execution_count": 51
        }
      ]
    },
    {
      "cell_type": "code",
      "source": [
        "students[10] = '홍길동' # dict에 새로운 key-value 아이템을 추가"
      ],
      "metadata": {
        "id": "HfiFTTNa0yyg"
      },
      "execution_count": 52,
      "outputs": []
    },
    {
      "cell_type": "code",
      "source": [
        "print(students)"
      ],
      "metadata": {
        "colab": {
          "base_uri": "https://localhost:8080/"
        },
        "id": "6LdRbR151GDe",
        "outputId": "a1b58a26-458f-4839-b5ec-efec3b5efc7e"
      },
      "execution_count": 53,
      "outputs": [
        {
          "output_type": "stream",
          "name": "stdout",
          "text": [
            "{1: '홍길동', 2: '허균', 3: '오쌤', 10: '홍길동'}\n"
          ]
        }
      ]
    },
    {
      "cell_type": "code",
      "source": [
        "students[3] = 'scott' # dict에서 key에 해당하는 value를 변경.\n",
        "print(students)"
      ],
      "metadata": {
        "colab": {
          "base_uri": "https://localhost:8080/"
        },
        "id": "cJzKvOOH1LMJ",
        "outputId": "67a20486-bd9a-40b8-f84c-563ce43b24b9"
      },
      "execution_count": 54,
      "outputs": [
        {
          "output_type": "stream",
          "name": "stdout",
          "text": [
            "{1: '홍길동', 2: '허균', 3: 'scott', 10: '홍길동'}\n"
          ]
        }
      ]
    },
    {
      "cell_type": "code",
      "source": [
        "students.pop(3) # dict에서 해당하는 key의 아이템(key: value)을 삭제\n",
        "print(students)"
      ],
      "metadata": {
        "colab": {
          "base_uri": "https://localhost:8080/"
        },
        "id": "Q0-Ch39l1cqC",
        "outputId": "ea94db2d-3af2-44fa-f375-fd5117f41a51"
      },
      "execution_count": 55,
      "outputs": [
        {
          "output_type": "stream",
          "name": "stdout",
          "text": [
            "{1: '홍길동', 2: '허균', 10: '홍길동'}\n"
          ]
        }
      ]
    },
    {
      "cell_type": "code",
      "source": [
        "book = {\n",
        "    'title': '점프 투 파이썬',\n",
        "    'authors': ['박요용', '웨스 매키니'],\n",
        "    'isbn': 1234\n",
        "}\n",
        "\n",
        "print(book)"
      ],
      "metadata": {
        "colab": {
          "base_uri": "https://localhost:8080/"
        },
        "id": "bPkhFqIh2SV4",
        "outputId": "ddf47403-f5b8-484f-db43-a4746d713c32"
      },
      "execution_count": 56,
      "outputs": [
        {
          "output_type": "stream",
          "name": "stdout",
          "text": [
            "{'title': '점프 투 파이썬', 'authors': ['박요용', '웨스 매키니'], 'isbn': 1234}\n"
          ]
        }
      ]
    },
    {
      "cell_type": "code",
      "source": [
        "print(book['title']) # 키가 문자열일 경우에는 문자열로 넘기기\n",
        "book['authors']\n",
        "book['authors'][0]"
      ],
      "metadata": {
        "colab": {
          "base_uri": "https://localhost:8080/",
          "height": 54
        },
        "id": "hAmW6LYC3OdL",
        "outputId": "9a854255-ac62-4d59-d863-c77d13daab47"
      },
      "execution_count": 58,
      "outputs": [
        {
          "output_type": "stream",
          "name": "stdout",
          "text": [
            "점프 투 파이썬\n"
          ]
        },
        {
          "output_type": "execute_result",
          "data": {
            "text/plain": [
              "'박요용'"
            ],
            "application/vnd.google.colaboratory.intrinsic+json": {
              "type": "string"
            }
          },
          "metadata": {},
          "execution_count": 58
        }
      ]
    },
    {
      "cell_type": "markdown",
      "source": [
        "dict & for"
      ],
      "metadata": {
        "id": "e9RyNNs_30H5"
      }
    },
    {
      "cell_type": "code",
      "source": [
        "contact = {\n",
        "    'no': 1,\n",
        "    'name': '오쌤',\n",
        "    'phones': ['010-0000-0000', '02-0000-0000'],\n",
        "    'emails': {\n",
        "        'company': 'jake@itwill.co.kr',\n",
        "        'personal': 'jake@naver.com'\n",
        "    }\n",
        "}\n",
        "print(contact)"
      ],
      "metadata": {
        "colab": {
          "base_uri": "https://localhost:8080/"
        },
        "id": "CIJSaPoF3lVy",
        "outputId": "7455f3b4-2fe0-4306-db33-fe3fa72fdf65"
      },
      "execution_count": 59,
      "outputs": [
        {
          "output_type": "execute_result",
          "data": {
            "text/plain": [
              "{'no': 1,\n",
              " 'name': '오쌤',\n",
              " 'phones': ['010-0000-0000', '02-0000-0000'],\n",
              " 'emails': {'company': 'jake@itwill.co.kr', 'personal': 'jake@naver.com'}}"
            ]
          },
          "metadata": {},
          "execution_count": 59
        }
      ]
    },
    {
      "cell_type": "code",
      "source": [
        "for k in contact:\n",
        "  print(k) # key들만 꺼내 줌"
      ],
      "metadata": {
        "colab": {
          "base_uri": "https://localhost:8080/"
        },
        "id": "UNRBoEf-4aQE",
        "outputId": "ec6f1c8b-8882-4ef0-cfad-f6088829b8f3"
      },
      "execution_count": 60,
      "outputs": [
        {
          "output_type": "stream",
          "name": "stdout",
          "text": [
            "no\n",
            "name\n",
            "phones\n",
            "emails\n"
          ]
        }
      ]
    },
    {
      "cell_type": "markdown",
      "source": [
        "for-in 구문에서 dict를 사용하면 키(key)를 iteration 함!\n"
      ],
      "metadata": {
        "id": "KEsmxtJ25UHo"
      }
    },
    {
      "cell_type": "code",
      "source": [
        "for k in contact:\n",
        "  print(k, ':', contact[k])"
      ],
      "metadata": {
        "colab": {
          "base_uri": "https://localhost:8080/"
        },
        "id": "uOQAB2F85b1H",
        "outputId": "5d5c91d1-04fa-47e8-9ef3-8463722e02e4"
      },
      "execution_count": 64,
      "outputs": [
        {
          "output_type": "stream",
          "name": "stdout",
          "text": [
            "no : 1\n",
            "name : 오쌤\n",
            "phones : ['010-0000-0000', '02-0000-0000']\n",
            "emails : {'company': 'jake@itwill.co.kr', 'personal': 'jake@naver.com'}\n"
          ]
        }
      ]
    },
    {
      "cell_type": "code",
      "source": [
        "contact.keys() # dict의 key들의 리스트(객체)를 리턴."
      ],
      "metadata": {
        "colab": {
          "base_uri": "https://localhost:8080/"
        },
        "id": "iOiBE5Id5kWG",
        "outputId": "706a9b68-f386-4d60-9319-7d49dfd04789"
      },
      "execution_count": 66,
      "outputs": [
        {
          "output_type": "execute_result",
          "data": {
            "text/plain": [
              "dict_keys(['no', 'name', 'phones', 'emails'])"
            ]
          },
          "metadata": {},
          "execution_count": 66
        }
      ]
    },
    {
      "cell_type": "code",
      "source": [
        "contact.values() # dict의 value들의 리스트를 리턴."
      ],
      "metadata": {
        "colab": {
          "base_uri": "https://localhost:8080/"
        },
        "id": "A-pqa1hV5oJh",
        "outputId": "f52e8626-07ea-4c10-e5ee-d1b058ed701c"
      },
      "execution_count": 67,
      "outputs": [
        {
          "output_type": "execute_result",
          "data": {
            "text/plain": [
              "dict_values([1, '오쌤', ['010-0000-0000', '02-0000-0000'], {'company': 'jake@itwill.co.kr', 'personal': 'jake@naver.com'}])"
            ]
          },
          "metadata": {},
          "execution_count": 67
        }
      ]
    },
    {
      "cell_type": "code",
      "source": [
        "contact.items()\n",
        "# dict에서 (key, value) 튜플들의 리스트를 리턴."
      ],
      "metadata": {
        "colab": {
          "base_uri": "https://localhost:8080/"
        },
        "id": "zPtDoFmT52Z0",
        "outputId": "2d05e61a-d631-4aa6-f423-fc2165cf24f4"
      },
      "execution_count": 68,
      "outputs": [
        {
          "output_type": "execute_result",
          "data": {
            "text/plain": [
              "dict_items([('no', 1), ('name', '오쌤'), ('phones', ['010-0000-0000', '02-0000-0000']), ('emails', {'company': 'jake@itwill.co.kr', 'personal': 'jake@naver.com'})])"
            ]
          },
          "metadata": {},
          "execution_count": 68
        }
      ]
    },
    {
      "cell_type": "code",
      "source": [
        "for k ,v in contact.items():\n",
        "  print(k, v)"
      ],
      "metadata": {
        "colab": {
          "base_uri": "https://localhost:8080/"
        },
        "id": "dfG_rumI6AVB",
        "outputId": "3dbf972f-ee74-4247-dc1c-0e0ed377acaa"
      },
      "execution_count": 69,
      "outputs": [
        {
          "output_type": "stream",
          "name": "stdout",
          "text": [
            "no 1\n",
            "name 오쌤\n",
            "phones ['010-0000-0000', '02-0000-0000']\n",
            "emails {'company': 'jake@itwill.co.kr', 'personal': 'jake@naver.com'}\n"
          ]
        }
      ]
    },
    {
      "cell_type": "markdown",
      "source": [
        "Dictionary Comprehension"
      ],
      "metadata": {
        "id": "6_9ONKU3_NQf"
      }
    },
    {
      "cell_type": "code",
      "source": [
        "emp_no = [1001, 1002, 2001, 2002] # 직원 번호\n",
        "emp_name = ['king', 'Scott', 'Allen', 'Tiger'] # 직원 이름"
      ],
      "metadata": {
        "id": "PJ8sg28A64xM"
      },
      "execution_count": 71,
      "outputs": []
    },
    {
      "cell_type": "code",
      "source": [
        "# emp_no를 key로 하고 emp_name을 value로 dict를 만들고 출력\n",
        "dict1 = {} # key-value를 저장할 빈 dict, 함수: dict()\n",
        "\n",
        "for no,name in zip(emp_no, emp_name): # 리스트의 원소 개수만큼 반복\n",
        "  dict1[no] = name # dict에 key-value 아이템을 저장\n",
        "\n",
        "print(dict1)\n"
      ],
      "metadata": {
        "colab": {
          "base_uri": "https://localhost:8080/"
        },
        "id": "iaArxOpr_r7w",
        "outputId": "6c762bc9-878c-4954-86c1-905c8238bf17"
      },
      "execution_count": 88,
      "outputs": [
        {
          "output_type": "stream",
          "name": "stdout",
          "text": [
            "{1001: 'king', 1002: 'Scott', 2001: 'Allen', 2002: 'Tiger'}\n"
          ]
        }
      ]
    },
    {
      "cell_type": "code",
      "source": [
        "{no: name for no, name in zip(emp_no, emp_name)}"
      ],
      "metadata": {
        "colab": {
          "base_uri": "https://localhost:8080/"
        },
        "id": "jLdMtQzEAaXm",
        "outputId": "8f3393d2-6e8e-41b6-8a83-8b04cb721d3d"
      },
      "execution_count": 75,
      "outputs": [
        {
          "output_type": "execute_result",
          "data": {
            "text/plain": [
              "{1001: 'king', 1002: 'Scott', 2001: 'Allen', 2002: 'Tiger'}"
            ]
          },
          "metadata": {},
          "execution_count": 75
        }
      ]
    },
    {
      "cell_type": "code",
      "source": [
        "strings = ['hello', 'java', 'sql', 'python', 'javascript']\n",
        "# 리스트 strings의 문자열을 키로 하고, 그 문자열의 길이를 값으로 하는 dict를 만들고 출력.\n",
        "string_lengths = dict()  # 빈 dict\n",
        "for s in strings: # strings에서 원소들을 차례로 반복하면서\n",
        "  string_lengths[s] = len(s) # 문자열(key)-길이(value) 아이템을 dict에 추가\n",
        "\n",
        "print(string_lengths)\n",
        "\n",
        "dict =  {s: len(s) for s in strings }\n",
        "print(dict)"
      ],
      "metadata": {
        "colab": {
          "base_uri": "https://localhost:8080/"
        },
        "id": "WOm7OvYuCOjH",
        "outputId": "3704f863-a9af-42b4-9989-dd9e262e0ef5"
      },
      "execution_count": 1,
      "outputs": [
        {
          "output_type": "stream",
          "name": "stdout",
          "text": [
            "{'hello': 5, 'java': 4, 'sql': 3, 'python': 6, 'javascript': 10}\n",
            "{'hello': 5, 'java': 4, 'sql': 3, 'python': 6, 'javascript': 10}\n"
          ]
        }
      ]
    },
    {
      "cell_type": "code",
      "source": [],
      "metadata": {
        "id": "9LjvJoCZEC7d"
      },
      "execution_count": null,
      "outputs": []
    }
  ]
}