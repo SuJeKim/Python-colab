{
  "nbformat": 4,
  "nbformat_minor": 0,
  "metadata": {
    "colab": {
      "provenance": [],
      "authorship_tag": "ABX9TyMkFBgUp7cStaK3FG3suRpF",
      "include_colab_link": true
    },
    "kernelspec": {
      "name": "python3",
      "display_name": "Python 3"
    },
    "language_info": {
      "name": "python"
    }
  },
  "cells": [
    {
      "cell_type": "markdown",
      "metadata": {
        "id": "view-in-github",
        "colab_type": "text"
      },
      "source": [
        "<a href=\"https://colab.research.google.com/github/SuJeKim/Python-colab/blob/main/py07_function.ipynb\" target=\"_parent\"><img src=\"https://colab.research.google.com/assets/colab-badge.svg\" alt=\"Open In Colab\"/></a>"
      ]
    },
    {
      "cell_type": "markdown",
      "source": [
        "# function(함수)\n",
        "\n"
      ],
      "metadata": {
        "id": "aTTyKEpUFE2G"
      }
    },
    {
      "cell_type": "markdown",
      "source": [
        "* function(함수): 기능을 수행하는 코드 블록.\n",
        "* argument: 함수를 호출하는 곳에서 함수에게 전달하는 값.\n",
        "* parameter: argument를 저장하기 위해서 함수 선언부에서 선언하는 지역 변수\n",
        "* return value: 함수가 기능의 수행 결과로 리턴하는 값.\n",
        "  * return value가 있는 함수\n",
        "  * return value가 없는 함수\n",
        "* 파이썬 함수 정의 방법:\n",
        "\n",
        "```\n",
        "def function_name([param,...]):\n",
        "  [\"\"\"문서화 주석 - 함수 기능 설명, 파라미터 설명, 리턴 값 설명\"\"\"]\n",
        "  함수 기능 구현\n",
        "  [return 값]\n",
        "```\n",
        "\n",
        "* return value가 없는 경우에,\n",
        "  * return 문장을 생략\n",
        "  * return None 명시할 수도 있음."
      ],
      "metadata": {
        "id": "udFZs2TRFJk0"
      }
    },
    {
      "cell_type": "code",
      "execution_count": 1,
      "metadata": {
        "id": "E5p9MgzOEyUS"
      },
      "outputs": [],
      "source": [
        "# 함수 정의\n",
        "def subtract(x, y):\n",
        "  \"\"\"\n",
        "  2개의 숫자 x, y를 전달받아서 x - y 결과를 리턴하는 함수.\n",
        "  \"\"\"\n",
        "  return x - y\n",
        "\n",
        "# 함수: subtract"
      ]
    },
    {
      "cell_type": "code",
      "source": [
        "# 함수 호출\n",
        "result = subtract(1,2)\n",
        "result"
      ],
      "metadata": {
        "colab": {
          "base_uri": "https://localhost:8080/"
        },
        "id": "OUQfA9RmITEs",
        "outputId": "0cb5f8a5-8a68-488f-df80-f81db8066d35"
      },
      "execution_count": 2,
      "outputs": [
        {
          "output_type": "execute_result",
          "data": {
            "text/plain": [
              "-1"
            ]
          },
          "metadata": {},
          "execution_count": 2
        }
      ]
    },
    {
      "cell_type": "code",
      "source": [
        "def repeat_messge(message, n):\n",
        "  \"\"\"\n",
        "  문자열(message)과 양의 정수(n)을 전달받아서, message를 n번 출력하는 함수.\n",
        "  \"\"\"\n",
        "  for _ in range(n):\n",
        "    print(message)\n",
        "\n",
        "  return None\n",
        "  # 리턴 값이 없으면 보통 return문을 생략하지만, return None으로 명시하기도 함.\n",
        "\n",
        "repeat_messge('집 가고 싶어', 5)"
      ],
      "metadata": {
        "colab": {
          "base_uri": "https://localhost:8080/"
        },
        "id": "_IqJHd8gIjGz",
        "outputId": "236c4d2c-b1f7-4358-d89b-eb2ec2eb7fda"
      },
      "execution_count": 4,
      "outputs": [
        {
          "output_type": "stream",
          "name": "stdout",
          "text": [
            "집 가고 싶어\n",
            "집 가고 싶어\n",
            "집 가고 싶어\n",
            "집 가고 싶어\n",
            "집 가고 싶어\n"
          ]
        }
      ]
    },
    {
      "cell_type": "markdown",
      "source": [
        "# Ex 1.\n",
        "* 함수 이름: make_list\n",
        "* 기능: start 이상 end 미만의 정수 난수 n개를 갖는 리스트를 반환하는 함수."
      ],
      "metadata": {
        "id": "zelDkzTFLqvz"
      }
    },
    {
      "cell_type": "code",
      "source": [
        "import random\n",
        "\n",
        "def make_list(start, end, n):\n",
        "  \"\"\"\n",
        "   start 이상 end 미만의 정수 난수 n개를 갖는 리스트를 반환하는 함수.\n",
        "  \"\"\"\n",
        "  list = [random.randrange(start, end) for _ in range(n)]\n",
        "\n",
        "  return list\n",
        "\n",
        "make_list(1, 5, 2)\n"
      ],
      "metadata": {
        "colab": {
          "base_uri": "https://localhost:8080/"
        },
        "id": "3fBi8OXML8Md",
        "outputId": "68d27233-0544-482d-9552-d8e9aafe3abf"
      },
      "execution_count": 6,
      "outputs": [
        {
          "output_type": "execute_result",
          "data": {
            "text/plain": [
              "[2, 3]"
            ]
          },
          "metadata": {},
          "execution_count": 6
        }
      ]
    },
    {
      "cell_type": "markdown",
      "source": [
        "# Ex 2.\n",
        "* 함수 이름: calc_sum\n",
        "* 기능: 숫자들의 리스트를 전달받아서, 리스트의 모든 원소들의 합을 리턴하는 함수.\n"
      ],
      "metadata": {
        "id": "hugLJoW-LwtD"
      }
    },
    {
      "cell_type": "code",
      "source": [
        "def calc_sum(list):\n",
        "  \"\"\"\n",
        "  숫자들의 리스트를 전달받아서, 리스트의 모든 원소들의 합을 리턴하는 함수.\n",
        "  \"\"\"\n",
        "\n",
        "  return sum(list)\n",
        "\n",
        "list = [1,2,4]\n",
        "result = calc_sum(list)\n",
        "result\n"
      ],
      "metadata": {
        "colab": {
          "base_uri": "https://localhost:8080/"
        },
        "id": "9pWllPRgMuCk",
        "outputId": "5056219b-b6cd-49f2-e2cf-5f14f3c0a85e"
      },
      "execution_count": 11,
      "outputs": [
        {
          "output_type": "execute_result",
          "data": {
            "text/plain": [
              "7"
            ]
          },
          "metadata": {},
          "execution_count": 11
        }
      ]
    },
    {
      "cell_type": "markdown",
      "source": [
        "# Ex 3.\n",
        "* 함수 이름: calc_mean\n",
        "* 기능: 숫자들의 리스트를 전달받아서, 리스트의 원소들의 평균을 리턴하는 함수."
      ],
      "metadata": {
        "id": "g_baypTDLxDT"
      }
    },
    {
      "cell_type": "code",
      "source": [
        "def  calc_mean(list):\n",
        "  \"\"\"\n",
        "  숫자들의 리스트를 전달받아서, 리스트의 원소들의 평균을 리턴하는 함수.\n",
        "  \"\"\"\n",
        "\n",
        "  average = sum(list) / len(list)\n",
        "  return average\n",
        "\n",
        "list = [1, 4, 6, 10]\n",
        "result = calc_mean(list)\n",
        "print(result)"
      ],
      "metadata": {
        "colab": {
          "base_uri": "https://localhost:8080/"
        },
        "id": "PaRZ42scNfNz",
        "outputId": "e6d0267d-be8f-4da1-9366-8908bdc445d2"
      },
      "execution_count": 13,
      "outputs": [
        {
          "output_type": "stream",
          "name": "stdout",
          "text": [
            "5.25\n"
          ]
        }
      ]
    },
    {
      "cell_type": "markdown",
      "source": [
        "# Ex 4.\n",
        "* 함수 이름: calc_var\n",
        "* 기능: 숫자들의 리스트를 전달받아서, 리스트의 원소들의 분산(variance)을 리턴하는 함수.\n",
        "분산 = (값 - 평균)**2 들의 평균"
      ],
      "metadata": {
        "id": "ILS3xi7ZLxUj"
      }
    },
    {
      "cell_type": "code",
      "source": [
        "def calc_var(list):\n",
        "  \"\"\"\n",
        "  숫자들의 리스트를 전달받아서, 리스트의 원소들의 분산(variance)을 리턴하는 함수. 분산 = (값 - 평균)**2 들의 평균\n",
        "  \"\"\"\n",
        "  average = sum(list) / len(list)\n",
        "  print(average)\n",
        "\n",
        "\n",
        "  con = [((x - average)**2) for x in list]\n",
        "  print(con)\n",
        "  total1 = sum(con)\n",
        "\n",
        "  print(total1)\n",
        "  variance = total1 / len(list)\n",
        "\n",
        "  return variance\n",
        "\n",
        "list = [1, 3, 4, 6]\n",
        "\n",
        "result = calc_var(list)\n",
        "print(result)\n",
        "\n"
      ],
      "metadata": {
        "colab": {
          "base_uri": "https://localhost:8080/"
        },
        "id": "E03_3zeoN7L7",
        "outputId": "7d9af8fe-fc0c-4fbc-f558-934cd6a107a3"
      },
      "execution_count": 33,
      "outputs": [
        {
          "output_type": "stream",
          "name": "stdout",
          "text": [
            "3.5\n",
            "[6.25, 0.25, 0.25, 6.25]\n",
            "13.0\n",
            "3.25\n"
          ]
        }
      ]
    }
  ]
}