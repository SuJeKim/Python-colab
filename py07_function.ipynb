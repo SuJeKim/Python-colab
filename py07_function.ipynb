{
  "nbformat": 4,
  "nbformat_minor": 0,
  "metadata": {
    "colab": {
      "provenance": [],
      "authorship_tag": "ABX9TyNjGtWJhzuv3mX+ESTJcYYN",
      "include_colab_link": true
    },
    "kernelspec": {
      "name": "python3",
      "display_name": "Python 3"
    },
    "language_info": {
      "name": "python"
    }
  },
  "cells": [
    {
      "cell_type": "markdown",
      "metadata": {
        "id": "view-in-github",
        "colab_type": "text"
      },
      "source": [
        "<a href=\"https://colab.research.google.com/github/SuJeKim/Python-colab/blob/main/py07_function.ipynb\" target=\"_parent\"><img src=\"https://colab.research.google.com/assets/colab-badge.svg\" alt=\"Open In Colab\"/></a>"
      ]
    },
    {
      "cell_type": "markdown",
      "source": [
        "# function(함수)\n",
        "\n"
      ],
      "metadata": {
        "id": "aTTyKEpUFE2G"
      }
    },
    {
      "cell_type": "markdown",
      "source": [
        "* function(함수): 기능을 수행하는 코드 블록.\n",
        "* argument: 함수를 호출하는 곳에서 함수에게 전달하는 값.\n",
        "* parameter: argument를 저장하기 위해서 함수 선언부에서 선언하는 지역 변수\n",
        "* return value: 함수가 기능의 수행 결과로 리턴하는 값.\n",
        "  * return value가 있는 함수\n",
        "  * return value가 없는 함수\n",
        "* 파이썬 함수 정의 방법:\n",
        "\n",
        "```\n",
        "def function_name([param,...]):\n",
        "  [\"\"\"문서화 주석 - 함수 기능 설명, 파라미터 설명, 리턴 값 설명\"\"\"]\n",
        "  함수 기능 구현\n",
        "  [return 값]\n",
        "```\n",
        "\n",
        "* return value가 없는 경우에,\n",
        "  * return 문장을 생략\n",
        "  * return None 명시할 수도 있음.\n",
        "\n",
        "* python은 js와 달리 매개변수의 수를 검사함. 단, 타입은 둘 다 검사 안함."
      ],
      "metadata": {
        "id": "udFZs2TRFJk0"
      }
    },
    {
      "cell_type": "code",
      "execution_count": null,
      "metadata": {
        "id": "E5p9MgzOEyUS"
      },
      "outputs": [],
      "source": [
        "# 함수 정의\n",
        "def subtract(x, y):\n",
        "  \"\"\"\n",
        "  2개의 숫자 x, y를 전달받아서 x - y 결과를 리턴하는 함수.\n",
        "  \"\"\"\n",
        "  return x - y\n",
        "\n",
        "# 함수: subtract"
      ]
    },
    {
      "cell_type": "code",
      "source": [
        "# 함수 호출\n",
        "result = subtract(1,2)\n",
        "result"
      ],
      "metadata": {
        "colab": {
          "base_uri": "https://localhost:8080/"
        },
        "id": "OUQfA9RmITEs",
        "outputId": "0cb5f8a5-8a68-488f-df80-f81db8066d35"
      },
      "execution_count": null,
      "outputs": [
        {
          "output_type": "execute_result",
          "data": {
            "text/plain": [
              "-1"
            ]
          },
          "metadata": {},
          "execution_count": 2
        }
      ]
    },
    {
      "cell_type": "code",
      "source": [
        "def repeat_messge(message, n):\n",
        "  \"\"\"\n",
        "  문자열(message)과 양의 정수(n)을 전달받아서, message를 n번 출력하는 함수.\n",
        "  \"\"\"\n",
        "  for _ in range(n):\n",
        "    print(message)\n",
        "\n",
        "  return None\n",
        "  # 리턴 값이 없으면 보통 return문을 생략하지만, return None으로 명시하기도 함.\n",
        "\n",
        "repeat_messge('집 가고 싶어', 5)"
      ],
      "metadata": {
        "colab": {
          "base_uri": "https://localhost:8080/"
        },
        "id": "_IqJHd8gIjGz",
        "outputId": "236c4d2c-b1f7-4358-d89b-eb2ec2eb7fda"
      },
      "execution_count": null,
      "outputs": [
        {
          "output_type": "stream",
          "name": "stdout",
          "text": [
            "집 가고 싶어\n",
            "집 가고 싶어\n",
            "집 가고 싶어\n",
            "집 가고 싶어\n",
            "집 가고 싶어\n"
          ]
        }
      ]
    },
    {
      "cell_type": "markdown",
      "source": [
        "# Ex 1.\n",
        "* 함수 이름: make_list\n",
        "* 기능: start 이상 end 미만의 정수 난수 n개를 갖는 리스트를 반환하는 함수."
      ],
      "metadata": {
        "id": "zelDkzTFLqvz"
      }
    },
    {
      "cell_type": "code",
      "source": [
        "import random\n",
        "\n",
        "def make_list(start, end, n):\n",
        "  \"\"\"\n",
        "   start 이상 end 미만의 정수 난수 n개를 갖는 리스트를 반환하는 함수.\n",
        "  \"\"\"\n",
        "  list = [random.randrange(start, end) for _ in range(n)]\n",
        "\n",
        "  return list\n",
        "\n",
        "make_list(1, 5, 2)\n"
      ],
      "metadata": {
        "colab": {
          "base_uri": "https://localhost:8080/"
        },
        "id": "3fBi8OXML8Md",
        "outputId": "30292e45-8865-4d15-e744-74131ddac5ef"
      },
      "execution_count": 1,
      "outputs": [
        {
          "output_type": "execute_result",
          "data": {
            "text/plain": [
              "[3, 1]"
            ]
          },
          "metadata": {},
          "execution_count": 1
        }
      ]
    },
    {
      "cell_type": "markdown",
      "source": [
        "# Ex 2.\n",
        "* 함수 이름: calc_sum\n",
        "* 기능: 숫자들의 리스트를 전달받아서, 리스트의 모든 원소들의 합을 리턴하는 함수.\n"
      ],
      "metadata": {
        "id": "hugLJoW-LwtD"
      }
    },
    {
      "cell_type": "code",
      "source": [
        "def calc_sum(list):\n",
        "  \"\"\"\n",
        "  숫자들의 리스트를 전달받아서, 리스트의 모든 원소들의 합을 리턴하는 함수.\n",
        "  \"\"\"\n",
        "\n",
        "  return sum(list)\n",
        "\n",
        "list = [1,2,4]\n",
        "result = calc_sum(list)\n",
        "result\n"
      ],
      "metadata": {
        "colab": {
          "base_uri": "https://localhost:8080/"
        },
        "id": "9pWllPRgMuCk",
        "outputId": "0e6e2731-61ef-456e-c445-5e563cdf814c"
      },
      "execution_count": 2,
      "outputs": [
        {
          "output_type": "execute_result",
          "data": {
            "text/plain": [
              "7"
            ]
          },
          "metadata": {},
          "execution_count": 2
        }
      ]
    },
    {
      "cell_type": "markdown",
      "source": [
        "# Ex 3.\n",
        "* 함수 이름: calc_mean\n",
        "* 기능: 숫자들의 리스트를 전달받아서, 리스트의 원소들의 평균을 리턴하는 함수."
      ],
      "metadata": {
        "id": "g_baypTDLxDT"
      }
    },
    {
      "cell_type": "code",
      "source": [
        "def  calc_mean(list):\n",
        "  \"\"\"\n",
        "  숫자들의 리스트를 전달받아서, 리스트의 원소들의 평균을 리턴하는 함수.\n",
        "  \"\"\"\n",
        "\n",
        "  average = sum(list) / len(list)\n",
        "  return average\n",
        "\n",
        "list = [1, 4, 6, 10]\n",
        "result = calc_mean(list)\n",
        "print(result)"
      ],
      "metadata": {
        "colab": {
          "base_uri": "https://localhost:8080/"
        },
        "id": "PaRZ42scNfNz",
        "outputId": "91509284-af30-460c-e8f0-8e3942825636"
      },
      "execution_count": 3,
      "outputs": [
        {
          "output_type": "stream",
          "name": "stdout",
          "text": [
            "5.25\n"
          ]
        }
      ]
    },
    {
      "cell_type": "markdown",
      "source": [
        "# Ex 4.\n",
        "* 함수 이름: calc_var\n",
        "* 기능: 숫자들의 리스트를 전달받아서, 리스트의 원소들의 분산(variance)을 리턴하는 함수.\n",
        "분산 = (값 - 평균)**2 들의 평균"
      ],
      "metadata": {
        "id": "ILS3xi7ZLxUj"
      }
    },
    {
      "cell_type": "code",
      "source": [
        "def calc_var(list):\n",
        "  \"\"\"\n",
        "  숫자들의 리스트를 전달받아서, 리스트의 원소들의 분산(variance)을 리턴하는 함수. 분산 = (값 - 평균)**2 들의 평균\n",
        "  \"\"\"\n",
        "  average = sum(list) / len(list)\n",
        "  print(average)\n",
        "\n",
        "\n",
        "  con = [((x - average)**2) for x in list]\n",
        "  print(con)\n",
        "  total1 = sum(con)\n",
        "\n",
        "  print(total1)\n",
        "  variance = total1 / len(list)\n",
        "\n",
        "  return variance\n",
        "\n",
        "list = [1, 3, 4, 6]\n",
        "\n",
        "result = calc_var(list)\n",
        "print(result)\n",
        "\n"
      ],
      "metadata": {
        "colab": {
          "base_uri": "https://localhost:8080/"
        },
        "id": "E03_3zeoN7L7",
        "outputId": "928be659-747d-4d0b-deeb-2d38d4091f56"
      },
      "execution_count": 4,
      "outputs": [
        {
          "output_type": "stream",
          "name": "stdout",
          "text": [
            "3.5\n",
            "[6.25, 0.25, 0.25, 6.25]\n",
            "13.0\n",
            "3.25\n"
          ]
        }
      ]
    },
    {
      "cell_type": "code",
      "source": [
        "scores1 = [3, 4, 5, 6,7]\n",
        "scores2 = [0, 1, 5, 9, 10]\n",
        "mean1 = calc_mean(scores1)\n",
        "mean2 = calc_mean(scores2)\n",
        "print(f'mean1 = {mean1}')\n",
        "print(f'mean2 = {mean2}')"
      ],
      "metadata": {
        "colab": {
          "base_uri": "https://localhost:8080/"
        },
        "id": "Y53L-M9Vy1fb",
        "outputId": "ee25e0ad-2d7f-46b0-d854-c15c1a9b6e3f"
      },
      "execution_count": 5,
      "outputs": [
        {
          "output_type": "stream",
          "name": "stdout",
          "text": [
            "mean1 = 5.0\n",
            "mean2 = 5.0\n"
          ]
        }
      ]
    },
    {
      "cell_type": "code",
      "source": [
        "print(calc_var(scores1))\n",
        "print(calc_var(scores2))"
      ],
      "metadata": {
        "colab": {
          "base_uri": "https://localhost:8080/"
        },
        "id": "9Qak1Gf2zwqr",
        "outputId": "561afb35-dcd5-43a7-a719-7dacdeedcc38"
      },
      "execution_count": 6,
      "outputs": [
        {
          "output_type": "stream",
          "name": "stdout",
          "text": [
            "5.0\n",
            "[4.0, 1.0, 0.0, 1.0, 4.0]\n",
            "10.0\n",
            "2.0\n",
            "5.0\n",
            "[25.0, 16.0, 0.0, 16.0, 25.0]\n",
            "82.0\n",
            "16.4\n"
          ]
        }
      ]
    },
    {
      "cell_type": "code",
      "source": [
        "def make_lotto_list():\n",
        "  lottos = []\n",
        "  for _ in range(5):\n",
        "    while True:\n",
        "    lotto = set()  # set -> {}: 무조건 dict\n",
        "      lotto.add(random.randrange(1, 46))\n",
        "      if len(lotto) == 6:\n",
        "        break\n",
        "    lottos.append(lotto)\n",
        "  return lottos\n",
        "\n",
        "make_lotto_list()"
      ],
      "metadata": {
        "colab": {
          "base_uri": "https://localhost:8080/"
        },
        "id": "lETzAyKHz83e",
        "outputId": "ebcf3b31-be64-456f-a2ef-b22ee48623a7"
      },
      "execution_count": 7,
      "outputs": [
        {
          "output_type": "execute_result",
          "data": {
            "text/plain": [
              "[{2, 17, 19, 28, 36, 38},\n",
              " {1, 3, 14, 26, 28, 36},\n",
              " {1, 17, 18, 23, 28, 31},\n",
              " {4, 7, 8, 22, 38, 44},\n",
              " {19, 20, 21, 32, 34, 36}]"
            ]
          },
          "metadata": {},
          "execution_count": 7
        }
      ]
    },
    {
      "cell_type": "markdown",
      "source": [
        "파이썬은 2개 이산의 값을 리턴하는 함수를 정의할 수 있음. 함수를 호출함 곳에서는 리턴 값을 튜플로 취급하면 됨.\n",
        "\n",
        "```\n",
        "x, y = (1,2) # secomposition(성분 분해)\n",
        "```"
      ],
      "metadata": {
        "id": "Zuw6WxzJ5EhJ"
      }
    },
    {
      "cell_type": "code",
      "source": [
        "def plus_and_minus(x, y):\n",
        "  return x + y, x-y\n",
        "\n",
        "result = plus_and_minus(1,2)\n",
        "result"
      ],
      "metadata": {
        "colab": {
          "base_uri": "https://localhost:8080/"
        },
        "id": "yhLsK59J5wvh",
        "outputId": "15a7cdde-aec1-4d8a-db29-bc528402d8de"
      },
      "execution_count": 8,
      "outputs": [
        {
          "output_type": "execute_result",
          "data": {
            "text/plain": [
              "(3, -1)"
            ]
          },
          "metadata": {},
          "execution_count": 8
        }
      ]
    },
    {
      "cell_type": "code",
      "source": [
        "plus , minus = plus_and_minus(1,2)\n",
        "print(f'plus = {plus}, minus = {minus}')"
      ],
      "metadata": {
        "colab": {
          "base_uri": "https://localhost:8080/"
        },
        "id": "q6L_oCSw6BYk",
        "outputId": "8b1d0b5d-75b1-4d46-9108-0f2f602524f6"
      },
      "execution_count": 10,
      "outputs": [
        {
          "output_type": "stream",
          "name": "stdout",
          "text": [
            "plus = 3, minus = -1\n"
          ]
        }
      ]
    },
    {
      "cell_type": "markdown",
      "source": [
        "숫자들의 리스트를  전달받아서, 최댓값과 최솟값을 리턴하는 함수를 정의."
      ],
      "metadata": {
        "id": "J1N3i_Ae6f_J"
      }
    },
    {
      "cell_type": "code",
      "source": [
        "from traitlets.traitlets import List\n",
        "def find_max_and_min(num_list):\n",
        "  max = num_list[0] # 리스트의 첫 번째 원소를 최댓값이라고 가정.\n",
        "  min = num_list[0] # 리스트의 첫 번째 원소를 최솟값이라고 가정.\n",
        "\n",
        "  for x in num_list: # 리스트의 원소들을 처음부터 끝까지 순서대로 반복하면서\n",
        "    if x > max: # 리스트에 있는 값이 max보다 크다면\n",
        "      max = x # 리스트에서 찾은 값으로 max를 변경.\n",
        "    if x < min: # 리스트에 있는 값이 min보다 작다면\n",
        "      min = x # 리스트에서 찾은 값으로 min을 변경.\n",
        "\n",
        "  return max, min\n",
        "\n",
        "result = make_list(1,10, 6)\n",
        "print(result)\n",
        "max , min = find_max_and_min(result)\n",
        "print(f'max = {max}, min = {min}')\n"
      ],
      "metadata": {
        "colab": {
          "base_uri": "https://localhost:8080/"
        },
        "id": "ikSE7gL46XtW",
        "outputId": "6bc819a7-66a2-4e91-b4a4-7c8f26c127b2"
      },
      "execution_count": 12,
      "outputs": [
        {
          "output_type": "stream",
          "name": "stdout",
          "text": [
            "[9, 1, 4, 5, 2, 8]\n",
            "max = 9, min = 1\n"
          ]
        }
      ]
    },
    {
      "cell_type": "markdown",
      "source": [
        "숫자들의 리스트를 전달받아서 최댓값과 최댓값의 인덱스(위치)를 리턴하는 함수를 정의. 최댓값이 2개 이상인 경우, 먼저 나오는 최댓값의 인덱스를 리턴."
      ],
      "metadata": {
        "id": "tPyX-Dni9syY"
      }
    },
    {
      "cell_type": "code",
      "source": [
        "def find_max_and_index(num_list):\n",
        "  max = num_list[0]\n",
        "  max_index = 0\n",
        "\n",
        "  # for x in num_list:\n",
        "  #   if x > max:\n",
        "  #     max = x\n",
        "  #     index = num_list.index(x)\n",
        "\n",
        "  for i, v in enumerate(num_list):\n",
        "    if v > max:\n",
        "      max = v\n",
        "      max_index = i\n",
        "\n",
        "  return max, max_index\n",
        "\n",
        "result = make_list(1,10, 9)\n",
        "print(result)\n",
        "max, index = find_max_and_index(result)\n",
        "print(f'max = {max}. index={index}')"
      ],
      "metadata": {
        "colab": {
          "base_uri": "https://localhost:8080/"
        },
        "id": "C23uhklt9SSP",
        "outputId": "4d9a79d0-4098-4b46-acdd-0cb39537f146"
      },
      "execution_count": 16,
      "outputs": [
        {
          "output_type": "stream",
          "name": "stdout",
          "text": [
            "[5, 1, 6, 7, 6, 7, 3, 7, 4]\n",
            "max = 7. index=3\n"
          ]
        }
      ]
    },
    {
      "cell_type": "markdown",
      "source": [
        "# Default argument(기본 인수)\n",
        "\n",
        "* 함수를 정의할 때 파라미터에 설정된 기본값.\n",
        "  * 함수를 호출할 때 파라미터에 값을 전달하지 않으면, 기본값이 사용됨.\n",
        "  * 함수를 호출할 떄 파라미터에 값을 전달하면, 기본값은 무시되고 전달한 argument가 사용됨.\n",
        "* **(주의)** 함수를 정의할 떄, default argument를 갖는 파라미터들은 반드시 default argument를 갖지 않는 파라미터들 뒤에 선언해야 함!\n",
        "  *  기본값을 갖지 않는 파라미터들을 먼저 선언하고, 기본값을 갖는 파라미터들을 선언해야 함."
      ],
      "metadata": {
        "id": "6pSfmaGBED7Y"
      }
    },
    {
      "cell_type": "code",
      "source": [
        "\n",
        "def repeat_message2(msg, n=1):\n",
        "  for _ in range(n):\n",
        "    print(msg)"
      ],
      "metadata": {
        "id": "Vjksi0jy-_2e"
      },
      "execution_count": 17,
      "outputs": []
    },
    {
      "cell_type": "code",
      "source": [
        "repeat_message2('배고프다...그냥 집...')"
      ],
      "metadata": {
        "colab": {
          "base_uri": "https://localhost:8080/"
        },
        "id": "uCfNd9W1FtA_",
        "outputId": "47b02ea4-42b9-4cbf-b93a-5993a21c482d"
      },
      "execution_count": 18,
      "outputs": [
        {
          "output_type": "stream",
          "name": "stdout",
          "text": [
            "배고프다...그냥 집...\n"
          ]
        }
      ]
    },
    {
      "cell_type": "code",
      "source": [
        "repeat_message2('집 ㅈㅂ', 3) # n = 3"
      ],
      "metadata": {
        "colab": {
          "base_uri": "https://localhost:8080/"
        },
        "id": "9rHjOrzxF-Lj",
        "outputId": "fd5ce9d8-81ec-440b-c805-752f58f871ff"
      },
      "execution_count": 20,
      "outputs": [
        {
          "output_type": "stream",
          "name": "stdout",
          "text": [
            "집 ㅈㅂ\n",
            "집 ㅈㅂ\n",
            "집 ㅈㅂ\n"
          ]
        }
      ]
    },
    {
      "cell_type": "code",
      "source": [
        "def test(n = 1, msg):\n",
        "  pass # 함수내 혹은 if문에서 뭔가 만드는 것이 없을 경우, 비어있으면 에러가 나기에 `pass` 키워드를 사용해야 함."
      ],
      "metadata": {
        "colab": {
          "base_uri": "https://localhost:8080/",
          "height": 137
        },
        "id": "LLos5Ub3GLXG",
        "outputId": "aa2378a5-86c1-4ffa-fd9d-d6459c2ebbbe"
      },
      "execution_count": 21,
      "outputs": [
        {
          "output_type": "error",
          "ename": "SyntaxError",
          "evalue": "ignored",
          "traceback": [
            "\u001b[0;36m  File \u001b[0;32m\"<ipython-input-21-77cd1acea04e>\"\u001b[0;36m, line \u001b[0;32m1\u001b[0m\n\u001b[0;31m    def test(n = 1, msg):\u001b[0m\n\u001b[0m                    ^\u001b[0m\n\u001b[0;31mSyntaxError\u001b[0m\u001b[0;31m:\u001b[0m non-default argument follows default argument\n"
          ]
        }
      ]
    },
    {
      "cell_type": "markdown",
      "source": [
        "# argument 전달 방법:\n",
        "\n",
        "* positional argument: 함수 정의에서 선언된 파라미터 순서(위치)대로 아규먼트들을 전달하는 방법. -> 일반적으로 가장 많이 사용.\n",
        "* keyword argument: `param = value` 형식으로 argument들을 전달하는 방법.\n",
        "  * keyword argument 방식에서는 파라미터의 순서를 지키지 않아도 됨.\n",
        "* **(주의)** 함수 호출할 때 positional 방식과 keyword 방식을 함께 사용하는 경우에는, 반드시 positional argument를 먼저 사용하고, keyword argument는 나중에 사용해야 함."
      ],
      "metadata": {
        "id": "MggLcyBAHI2G"
      }
    },
    {
      "cell_type": "code",
      "source": [
        "def minus(x, y):\n",
        "  return x - y\n"
      ],
      "metadata": {
        "id": "4DVgC1ODI7Ru"
      },
      "execution_count": 25,
      "outputs": []
    },
    {
      "cell_type": "code",
      "source": [
        "minus(1, 2) # positional argument."
      ],
      "metadata": {
        "colab": {
          "base_uri": "https://localhost:8080/"
        },
        "id": "USaRb27oJi0l",
        "outputId": "3ef563ad-78cc-4379-85d4-19ec095e5c99"
      },
      "execution_count": 24,
      "outputs": [
        {
          "output_type": "execute_result",
          "data": {
            "text/plain": [
              "-1"
            ]
          },
          "metadata": {},
          "execution_count": 24
        }
      ]
    },
    {
      "cell_type": "code",
      "source": [
        "minus(x=1, y=2) # keyword argument"
      ],
      "metadata": {
        "colab": {
          "base_uri": "https://localhost:8080/"
        },
        "id": "Q0hmFtQbJnF0",
        "outputId": "f04e020a-f87c-40e2-8786-78b0a71d5bb6"
      },
      "execution_count": 27,
      "outputs": [
        {
          "output_type": "execute_result",
          "data": {
            "text/plain": [
              "-1"
            ]
          },
          "metadata": {},
          "execution_count": 27
        }
      ]
    },
    {
      "cell_type": "code",
      "source": [
        "minus(y=1, x=2) # keyword argument는 순서(position)를 지키지 않아도 됨."
      ],
      "metadata": {
        "colab": {
          "base_uri": "https://localhost:8080/"
        },
        "id": "LM0MInSzJrOc",
        "outputId": "af526ac9-6ee7-4098-d3c4-6f54fb2cc211"
      },
      "execution_count": 28,
      "outputs": [
        {
          "output_type": "execute_result",
          "data": {
            "text/plain": [
              "1"
            ]
          },
          "metadata": {},
          "execution_count": 28
        }
      ]
    },
    {
      "cell_type": "code",
      "source": [
        "minus(1, y=2) # 1st argument는 무조건 순서대로 x한테 갈 예정이니 오류 없음."
      ],
      "metadata": {
        "colab": {
          "base_uri": "https://localhost:8080/"
        },
        "id": "jh05_w8QJ3e9",
        "outputId": "dcc5905f-72c0-4984-c4f5-1b3f9873f02c"
      },
      "execution_count": 29,
      "outputs": [
        {
          "output_type": "execute_result",
          "data": {
            "text/plain": [
              "-1"
            ]
          },
          "metadata": {},
          "execution_count": 29
        }
      ]
    },
    {
      "cell_type": "code",
      "source": [
        "minus(x=1, 2)"
      ],
      "metadata": {
        "colab": {
          "base_uri": "https://localhost:8080/",
          "height": 137
        },
        "id": "L7HO2V4xKYME",
        "outputId": "ad11f852-236e-4eae-f8fa-3023aba3979c"
      },
      "execution_count": 30,
      "outputs": [
        {
          "output_type": "error",
          "ename": "SyntaxError",
          "evalue": "ignored",
          "traceback": [
            "\u001b[0;36m  File \u001b[0;32m\"<ipython-input-30-26ccbaeb32e3>\"\u001b[0;36m, line \u001b[0;32m1\u001b[0m\n\u001b[0;31m    minus(x=1, 2)\u001b[0m\n\u001b[0m                ^\u001b[0m\n\u001b[0;31mSyntaxError\u001b[0m\u001b[0;31m:\u001b[0m positional argument follows keyword argument\n"
          ]
        }
      ]
    },
    {
      "cell_type": "markdown",
      "source": [
        "# 가변길이 인수(variable-length argument)\n",
        "\n",
        " java: `public void printf(String... args) {}`\n",
        "\n",
        " javascript: 가변길이 인수를 기본으로 제공하는 언어.\n",
        "\n",
        "* 함수를 호출할 떄, 전달하는 argument의 개수가 임의로 변할 수 있는 것.\n",
        "  * argument를 전달하지 않아도 됨.\n",
        "* 함수를 정의할 때 파라미터 이름 앞에 `*`를 사용하면 가변길이 인수를 전달받을 수 있음.\n",
        "* 함수 내부에서는 가변길이 인수는 tuple로 취급\n",
        "   * for-in 반복문 사용 가능\n",
        "   * 인덱스 사용 가능\n",
        "   * 전달받은 argument를 변경할 수 없음.\n",
        "* **(주의)**\n",
        "  * 가변길이 인수는 keyword 방식으로는 전달할 수 없음.\n",
        "  * 함수를 정의할 때, 가변길이 인수를 갖는 파라미터는 오직 1개만 선언 가능.\n",
        "    * def f(*x, *y) 안됨. -> 어디까지가 x에 해당이 되는 지를 모름\n"
      ],
      "metadata": {
        "id": "ELMGE4wcLVvH"
      }
    },
    {
      "cell_type": "code",
      "source": [
        "def add_all(*values):\n",
        "  total = 0\n",
        "  for x in values:\n",
        "    total += x\n",
        "\n",
        "  return total\n",
        "\n",
        "add_all() # 비어있는 튜플을 넘겨줌 -> 초기값 0을 리턴.\n"
      ],
      "metadata": {
        "colab": {
          "base_uri": "https://localhost:8080/"
        },
        "id": "NmcMKFLSKlLD",
        "outputId": "fd85ff8b-6ce2-400f-ea04-702b85164cf1"
      },
      "execution_count": 31,
      "outputs": [
        {
          "output_type": "execute_result",
          "data": {
            "text/plain": [
              "0"
            ]
          },
          "metadata": {},
          "execution_count": 31
        }
      ]
    },
    {
      "cell_type": "code",
      "source": [
        "add_all(1) # 원소 1개 짜리 튜플을 넘김"
      ],
      "metadata": {
        "colab": {
          "base_uri": "https://localhost:8080/"
        },
        "id": "10VD5StFgSXB",
        "outputId": "6d7ba47d-dbd1-4f4a-a6d3-acfcc18694d1"
      },
      "execution_count": 32,
      "outputs": [
        {
          "output_type": "execute_result",
          "data": {
            "text/plain": [
              "1"
            ]
          },
          "metadata": {},
          "execution_count": 32
        }
      ]
    },
    {
      "cell_type": "code",
      "source": [
        "add_all(1,2,3,4,5) # 원소 5개짜리 튜플을 넘긴 것과 동일."
      ],
      "metadata": {
        "colab": {
          "base_uri": "https://localhost:8080/"
        },
        "id": "lOxVVXXygTfG",
        "outputId": "96ea0a5a-29ab-4dcd-9674-26da14df5f1e"
      },
      "execution_count": 33,
      "outputs": [
        {
          "output_type": "execute_result",
          "data": {
            "text/plain": [
              "15"
            ]
          },
          "metadata": {},
          "execution_count": 33
        }
      ]
    },
    {
      "cell_type": "code",
      "source": [
        "add_all(values=1)"
      ],
      "metadata": {
        "colab": {
          "base_uri": "https://localhost:8080/",
          "height": 174
        },
        "id": "hil4gSNcgWbn",
        "outputId": "1f08fb15-959d-49c6-e926-62cb1bacef94"
      },
      "execution_count": 34,
      "outputs": [
        {
          "output_type": "error",
          "ename": "TypeError",
          "evalue": "ignored",
          "traceback": [
            "\u001b[0;31m---------------------------------------------------------------------------\u001b[0m",
            "\u001b[0;31mTypeError\u001b[0m                                 Traceback (most recent call last)",
            "\u001b[0;32m<ipython-input-34-e6b0aa4d25c4>\u001b[0m in \u001b[0;36m<cell line: 1>\u001b[0;34m()\u001b[0m\n\u001b[0;32m----> 1\u001b[0;31m \u001b[0madd_all\u001b[0m\u001b[0;34m(\u001b[0m\u001b[0mvalues\u001b[0m\u001b[0;34m=\u001b[0m\u001b[0;36m1\u001b[0m\u001b[0;34m)\u001b[0m\u001b[0;34m\u001b[0m\u001b[0;34m\u001b[0m\u001b[0m\n\u001b[0m",
            "\u001b[0;31mTypeError\u001b[0m: add_all() got an unexpected keyword argument 'values'"
          ]
        }
      ]
    },
    {
      "cell_type": "code",
      "source": [
        "def test(*x, *y):\n",
        "  pass"
      ],
      "metadata": {
        "colab": {
          "base_uri": "https://localhost:8080/",
          "height": 137
        },
        "id": "dExs4Hp8g06E",
        "outputId": "1cdbf10c-cfea-48d1-c88d-48cc0b0d6477"
      },
      "execution_count": 35,
      "outputs": [
        {
          "output_type": "error",
          "ename": "SyntaxError",
          "evalue": "ignored",
          "traceback": [
            "\u001b[0;36m  File \u001b[0;32m\"<ipython-input-35-84587afebbb1>\"\u001b[0;36m, line \u001b[0;32m1\u001b[0m\n\u001b[0;31m    def test(*x, *y):\u001b[0m\n\u001b[0m                 ^\u001b[0m\n\u001b[0;31mSyntaxError\u001b[0m\u001b[0;31m:\u001b[0m invalid syntax\n"
          ]
        }
      ]
    },
    {
      "cell_type": "markdown",
      "source": [
        "가변길이 인수 뒤에 파라미터가 있는 경우, 그 파라미터는 keyword 방식으로만 argument를 전달할 수 있음."
      ],
      "metadata": {
        "id": "HEIf-pJahdVw"
      }
    },
    {
      "cell_type": "code",
      "source": [
        "def test(*x, y):\n",
        "  print(x)\n",
        "  print(y)\n",
        "\n",
        "test(1,2,3, y = 5)"
      ],
      "metadata": {
        "colab": {
          "base_uri": "https://localhost:8080/"
        },
        "id": "EtlneC11hfOK",
        "outputId": "14f9bfe1-ed7e-4718-c1f4-70e17215539d"
      },
      "execution_count": 37,
      "outputs": [
        {
          "output_type": "stream",
          "name": "stdout",
          "text": [
            "(1, 2, 3)\n",
            "5\n"
          ]
        }
      ]
    },
    {
      "cell_type": "code",
      "source": [
        "def keyword_only(*, x, y, z): # 함수를 호출할 때, 무조건 keyword 방식으로만 하라는 트릭\n",
        "  print(f'x={x}, y = {y}, z={z}')"
      ],
      "metadata": {
        "id": "FfLAWWt5hs8F"
      },
      "execution_count": 38,
      "outputs": []
    },
    {
      "cell_type": "code",
      "source": [
        "keyword_only(x = 1, y = 2, z = 3)"
      ],
      "metadata": {
        "colab": {
          "base_uri": "https://localhost:8080/"
        },
        "id": "0clftijgjEhA",
        "outputId": "c9000d99-18b5-42f7-c32d-a4feabb32a69"
      },
      "execution_count": 39,
      "outputs": [
        {
          "output_type": "stream",
          "name": "stdout",
          "text": [
            "x=1, y = 2, z=3\n"
          ]
        }
      ]
    },
    {
      "cell_type": "code",
      "source": [
        "# print(*val,...)\n",
        "# sep = '':  구분자(공백)\n",
        "\n",
        "print(1,2,3)\n",
        "print() # 공백 출력\n",
        "print('hello')"
      ],
      "metadata": {
        "colab": {
          "base_uri": "https://localhost:8080/"
        },
        "id": "zXg1grDBja8I",
        "outputId": "af56daa4-40cb-46d2-bfe2-1f54ca550742"
      },
      "execution_count": 42,
      "outputs": [
        {
          "output_type": "stream",
          "name": "stdout",
          "text": [
            "1 2 3\n",
            "\n",
            "hello\n"
          ]
        }
      ]
    },
    {
      "cell_type": "code",
      "source": [
        "print(1, 2, 4, sep=':')"
      ],
      "metadata": {
        "colab": {
          "base_uri": "https://localhost:8080/"
        },
        "id": "rt8a6N0hj9Lv",
        "outputId": "c1b6154f-83df-4c34-cd81-e6f5b1bb2bde"
      },
      "execution_count": 43,
      "outputs": [
        {
          "output_type": "stream",
          "name": "stdout",
          "text": [
            "1:2:4\n"
          ]
        }
      ]
    },
    {
      "cell_type": "code",
      "source": [
        "# 기본값: end = '\\n'(Enter)\n",
        "\n",
        "print('hello', end=' ')\n",
        "print('python')"
      ],
      "metadata": {
        "colab": {
          "base_uri": "https://localhost:8080/"
        },
        "id": "iYtghgq-klHe",
        "outputId": "b34eeb31-a581-4624-92fc-dcc1b3596308"
      },
      "execution_count": 45,
      "outputs": [
        {
          "output_type": "stream",
          "name": "stdout",
          "text": [
            "hello python\n"
          ]
        }
      ]
    },
    {
      "cell_type": "markdown",
      "source": [
        "# 가변길이 키워드 인수(variable-length keyword argument)\n",
        "\n",
        "* 함수를 정의할 때 파라미터 이름 앞에 `**`를 붙임\n",
        "* 가변길이 인수: 함수를 호출할 때 전달하는 아규먼트의 개수제한이 없음.\n",
        "* keyword argument: 함수를 호출할 때 반드시 `param = vlaue` 형식으로 전달해야 함.\n",
        "* 함수 내부에서 가변길이 키워드 인수는 dict로 취급함.\n",
        "* 함수 호출할 때 파라미터 이름은 아무렇게나 전달해도 됨.\n",
        "* 가변길이 키워드 인수는 함수에서 1개만 사용 가능.\n"
      ],
      "metadata": {
        "id": "pAa6wEIllsBg"
      }
    },
    {
      "cell_type": "code",
      "source": [
        "def test2(**kwargs):\n",
        "  print(kwargs)"
      ],
      "metadata": {
        "id": "OZc6-y8zlJuD"
      },
      "execution_count": 46,
      "outputs": []
    },
    {
      "cell_type": "code",
      "source": [
        "test2()"
      ],
      "metadata": {
        "colab": {
          "base_uri": "https://localhost:8080/"
        },
        "id": "j4KEQ_NYm9ZQ",
        "outputId": "574d5491-035f-482b-efe7-a9709a2e76ef"
      },
      "execution_count": 47,
      "outputs": [
        {
          "output_type": "stream",
          "name": "stdout",
          "text": [
            "{}\n"
          ]
        }
      ]
    },
    {
      "cell_type": "code",
      "source": [
        "test2(1)"
      ],
      "metadata": {
        "colab": {
          "base_uri": "https://localhost:8080/",
          "height": 174
        },
        "id": "XAmiUaJCnDf-",
        "outputId": "b9c96db1-3489-42de-82ad-b16ffff36008"
      },
      "execution_count": 48,
      "outputs": [
        {
          "output_type": "error",
          "ename": "TypeError",
          "evalue": "ignored",
          "traceback": [
            "\u001b[0;31m---------------------------------------------------------------------------\u001b[0m",
            "\u001b[0;31mTypeError\u001b[0m                                 Traceback (most recent call last)",
            "\u001b[0;32m<ipython-input-48-795738a3cd88>\u001b[0m in \u001b[0;36m<cell line: 1>\u001b[0;34m()\u001b[0m\n\u001b[0;32m----> 1\u001b[0;31m \u001b[0mtest2\u001b[0m\u001b[0;34m(\u001b[0m\u001b[0;36m1\u001b[0m\u001b[0;34m)\u001b[0m\u001b[0;34m\u001b[0m\u001b[0;34m\u001b[0m\u001b[0m\n\u001b[0m",
            "\u001b[0;31mTypeError\u001b[0m: test2() takes 0 positional arguments but 1 was given"
          ]
        }
      ]
    },
    {
      "cell_type": "code",
      "source": [
        "test2(x = 1)"
      ],
      "metadata": {
        "colab": {
          "base_uri": "https://localhost:8080/"
        },
        "id": "OKi2W8-hnI1Q",
        "outputId": "5671f5f5-0f89-4c82-e42e-d8f221714073"
      },
      "execution_count": 49,
      "outputs": [
        {
          "output_type": "stream",
          "name": "stdout",
          "text": [
            "{'x': 1}\n"
          ]
        }
      ]
    },
    {
      "cell_type": "code",
      "source": [
        "test2(x = 1, u =2, s = 'hello')"
      ],
      "metadata": {
        "colab": {
          "base_uri": "https://localhost:8080/"
        },
        "id": "7w6KTXbendWM",
        "outputId": "168afe3e-3ff0-4b32-c19d-5410680ae9fc"
      },
      "execution_count": 51,
      "outputs": [
        {
          "output_type": "stream",
          "name": "stdout",
          "text": [
            "{'x': 1, 'u': 2, 's': 'hello'}\n"
          ]
        }
      ]
    },
    {
      "cell_type": "code",
      "source": [
        "def make_emp_info(emp_no, emp_name, **kwargs):\n",
        "  emp = {'emp_no': emp_no, 'emp_name': emp_name}\n",
        "  for k, v in kwargs.items(): # dict에서 key, value 리턴\n",
        "    emp[k] = v\n",
        "\n",
        "  return emp"
      ],
      "metadata": {
        "id": "zpFBGfqGnhG8"
      },
      "execution_count": 52,
      "outputs": []
    },
    {
      "cell_type": "code",
      "source": [
        "make_emp_info(1, 'king') # emp_no, emp_name, 비어있는 dict"
      ],
      "metadata": {
        "colab": {
          "base_uri": "https://localhost:8080/"
        },
        "id": "wNW0nkJXojLS",
        "outputId": "2f005124-ff06-4e52-fe59-27342b4b0db4"
      },
      "execution_count": 53,
      "outputs": [
        {
          "output_type": "execute_result",
          "data": {
            "text/plain": [
              "{'emp_no': 1, 'emp_name': 'king'}"
            ]
          },
          "metadata": {},
          "execution_count": 53
        }
      ]
    },
    {
      "cell_type": "code",
      "source": [
        "make_emp_info(2, '홍길동', email = 'fildong@test', dept ='HR') # **kwargs <=  email = 'fildong@test', dept ='HR'"
      ],
      "metadata": {
        "colab": {
          "base_uri": "https://localhost:8080/"
        },
        "id": "glU1CGzzonLC",
        "outputId": "f9a036dc-5791-462d-faca-2c277f1d1b6e"
      },
      "execution_count": 54,
      "outputs": [
        {
          "output_type": "execute_result",
          "data": {
            "text/plain": [
              "{'emp_no': 2, 'emp_name': '홍길동', 'email': 'fildong@test', 'dept': 'HR'}"
            ]
          },
          "metadata": {},
          "execution_count": 54
        }
      ]
    },
    {
      "cell_type": "code",
      "source": [
        "def print_msg(msg):\n",
        "  print(f'message = {msg}')\n",
        "  # return None -> return"
      ],
      "metadata": {
        "id": "XZN9N1b9pCba"
      },
      "execution_count": 55,
      "outputs": []
    },
    {
      "cell_type": "code",
      "source": [
        "print_msg('안녕하세요') #1"
      ],
      "metadata": {
        "colab": {
          "base_uri": "https://localhost:8080/"
        },
        "id": "HB1ibHufvq3Y",
        "outputId": "399e14c2-125b-487b-b8b2-d7e3d8cb4fbf"
      },
      "execution_count": 56,
      "outputs": [
        {
          "output_type": "stream",
          "name": "stdout",
          "text": [
            "message = 안녕하세요\n"
          ]
        }
      ]
    },
    {
      "cell_type": "code",
      "source": [
        "print(None) # 값이 없음"
      ],
      "metadata": {
        "colab": {
          "base_uri": "https://localhost:8080/"
        },
        "id": "uiMklCxlwR6s",
        "outputId": "dec0c1c8-37c4-41db-b045-bac20d8606b6"
      },
      "execution_count": 58,
      "outputs": [
        {
          "output_type": "stream",
          "name": "stdout",
          "text": [
            "None\n"
          ]
        }
      ]
    },
    {
      "cell_type": "code",
      "source": [
        "print(print_msg('안녕하세요')) #2: 리턴하지 않는 함수를 print()에 넣으면 None이 출력됨."
      ],
      "metadata": {
        "colab": {
          "base_uri": "https://localhost:8080/"
        },
        "id": "dc6ZjkG9vuif",
        "outputId": "1b05ea92-d515-4d87-fccc-f89d8c481410"
      },
      "execution_count": 57,
      "outputs": [
        {
          "output_type": "stream",
          "name": "stdout",
          "text": [
            "message = 안녕하세요\n",
            "None\n"
          ]
        }
      ]
    },
    {
      "cell_type": "code",
      "source": [],
      "metadata": {
        "id": "Mk4TYDadvyOv"
      },
      "execution_count": null,
      "outputs": []
    }
  ]
}