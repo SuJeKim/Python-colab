{
  "nbformat": 4,
  "nbformat_minor": 0,
  "metadata": {
    "colab": {
      "provenance": [],
      "authorship_tag": "ABX9TyODBX+ykI8tN3/9bpehK1Od",
      "include_colab_link": true
    },
    "kernelspec": {
      "name": "python3",
      "display_name": "Python 3"
    },
    "language_info": {
      "name": "python"
    }
  },
  "cells": [
    {
      "cell_type": "markdown",
      "metadata": {
        "id": "view-in-github",
        "colab_type": "text"
      },
      "source": [
        "<a href=\"https://colab.research.google.com/github/SuJeKim/Python-colab/blob/main/py01_intro.ipynb\" target=\"_parent\"><img src=\"https://colab.research.google.com/assets/colab-badge.svg\" alt=\"Open In Colab\"/></a>"
      ]
    },
    {
      "cell_type": "markdown",
      "source": [
        "# 파이썬 버전 확인\n"
      ],
      "metadata": {
        "id": "rhUhNHfJ1mqD"
      }
    },
    {
      "cell_type": "code",
      "source": [
        "!python --version"
      ],
      "metadata": {
        "colab": {
          "base_uri": "https://localhost:8080/"
        },
        "id": "rJHhjpy81r8s",
        "outputId": "202d1a3e-f927-4c69-b32f-8efec6f69921"
      },
      "execution_count": null,
      "outputs": [
        {
          "output_type": "stream",
          "name": "stdout",
          "text": [
            "Python 3.10.12\n"
          ]
        }
      ]
    },
    {
      "cell_type": "markdown",
      "source": [
        "코드 셀에서 명령창(command prompt)에서 실행하는 명령어를 작성하고 실행할 때는 !로 시작."
      ],
      "metadata": {
        "id": "pYCR9Uil2jEE"
      }
    },
    {
      "cell_type": "markdown",
      "source": [
        "# 파이썬 소개\n",
        "마크업 랭귀지 작성\n",
        "\n"
      ],
      "metadata": {
        "id": "JEn8HHa10orc"
      }
    },
    {
      "cell_type": "code",
      "execution_count": null,
      "metadata": {
        "colab": {
          "base_uri": "https://localhost:8080/"
        },
        "id": "1c4lAy7TxypC",
        "outputId": "1ad466cc-60dc-4c0a-de8d-189dad1d4bec"
      },
      "outputs": [
        {
          "output_type": "stream",
          "name": "stdout",
          "text": [
            "안녕하세요, PYthon!\n"
          ]
        }
      ],
      "source": [
        "# inline comment (주석)\n",
        "print('안녕하세요, PYthon!') # 파이썬 문장은 세미콜론을 사용하지 않음.\n"
      ]
    },
    {
      "cell_type": "markdown",
      "source": [
        "# 코드셀 실행 방법\n",
        "\n",
        "\n",
        "\n",
        "*   코드셀 왼쪽의 실행 버튼을 클릭\n",
        "*   Ctrl+Enter: 현재 포커스가 있는 코드셀을 실행.\n",
        "*   Shift+Enter: 현재 포커스가 있는 코드셀을 실행하고, 그 다음 셀로 포커스를 이동.\n",
        "  * 현재 셀 아래에 다음 셀이 없는 경우에는 새로운 코드 셀을 자동으로 만들어 줌.\n",
        "* 런타임 메뉴\n"
      ],
      "metadata": {
        "id": "JMs9y5_2ZSuF"
      }
    },
    {
      "cell_type": "code",
      "source": [
        "print('hello,python')"
      ],
      "metadata": {
        "colab": {
          "base_uri": "https://localhost:8080/"
        },
        "id": "dZiieHXra3qN",
        "outputId": "8e119e01-a45a-4c0b-a953-cf213bfd48c6"
      },
      "execution_count": null,
      "outputs": [
        {
          "output_type": "stream",
          "name": "stdout",
          "text": [
            "hellom,python\n"
          ]
        }
      ]
    },
    {
      "cell_type": "markdown",
      "source": [
        "# `print()` 함수"
      ],
      "metadata": {
        "id": "TGLJSjHabM_1"
      }
    },
    {
      "cell_type": "code",
      "source": [
        "print('hello', 'python', '안녕하세요')"
      ],
      "metadata": {
        "colab": {
          "base_uri": "https://localhost:8080/"
        },
        "id": "DC7qrcrMb95r",
        "outputId": "967beb7d-aec4-4967-d5ef-73b7cb8faffe"
      },
      "execution_count": null,
      "outputs": [
        {
          "output_type": "stream",
          "name": "stdout",
          "text": [
            "hello python 안녕하세요\n"
          ]
        }
      ]
    },
    {
      "cell_type": "markdown",
      "source": [
        "`print()` 함수에 아규먼트를 여러 개 전달하면, 아규먼트들을 공백으로 연결해서 콘솔에 출력함."
      ],
      "metadata": {
        "id": "b7N9GZBpccZ1"
      }
    },
    {
      "cell_type": "markdown",
      "source": [
        "## `format()` 메서드를 사용한 출력.\n",
        "\n",
        "* 자바의 string.format가 유사"
      ],
      "metadata": {
        "id": "U3PdLt_gbe18"
      }
    },
    {
      "cell_type": "code",
      "source": [
        "print('{} + {} = {}'.format(1, 2, 3))"
      ],
      "metadata": {
        "colab": {
          "base_uri": "https://localhost:8080/"
        },
        "id": "pNio6bRBa8i0",
        "outputId": "afdc764f-96f7-46b5-cf80-772c163a7fa9"
      },
      "execution_count": null,
      "outputs": [
        {
          "output_type": "stream",
          "name": "stdout",
          "text": [
            "1 + 2 = 4\n"
          ]
        }
      ]
    },
    {
      "cell_type": "markdown",
      "source": [
        "## formatted string을 사용한 출력\n",
        "\n",
        "Python 3.6 이상의 버전에서 사용할 수 있음."
      ],
      "metadata": {
        "id": "8pR66crGddEr"
      }
    },
    {
      "cell_type": "code",
      "source": [
        "# 변수선언 방법:  변수이름 = 값\n",
        "# 줄 바뀜(Enter)을 문장의 끝으로 인식함. 단, ()가 존재시에는 종료가 아님.\n",
        "x = 1\n",
        "y = 2\n",
        "print(f'{x} + {y} = {x + y}')"
      ],
      "metadata": {
        "colab": {
          "base_uri": "https://localhost:8080/"
        },
        "id": "xwi-AmiPdsj0",
        "outputId": "7f72e462-79b0-4115-a6a6-a3677c38491c"
      },
      "execution_count": null,
      "outputs": [
        {
          "output_type": "stream",
          "name": "stdout",
          "text": [
            "1 + 2 = 3\n"
          ]
        }
      ]
    },
    {
      "cell_type": "markdown",
      "source": [
        "## ipynb 노트북에서의 콘솔 출력\n",
        "\n",
        "* 식(expression): 값(value), 변수, 연산, 함수 호출\n",
        "  * x, x + y\n",
        "  * 함수 호출 -> 그 결과를 다른 변수에 저장 가능할 경우에 함수를 식\n",
        "* 문장(statement): 코드의 최소 실행 단위\n",
        "  * z = x + y, result = add(x,y)\n",
        "\n",
        "* ipynb 노트북 코드셀에서 '가장 마지막 줄'에 있는 문장이 식(expression)이면, 그 식을 평가한 결과를 콘솔에 출력해 줌.\n",
        "  *   코드셀의 마지막 줄에서는 print() 함수를 호출하지 않아도 출력됨.\n"
      ],
      "metadata": {
        "id": "MKX1-RFCfA_T"
      }
    },
    {
      "cell_type": "code",
      "source": [
        "x = 1\n",
        "print(f'x = {x}')\n",
        "y = 2\n",
        "print(y)\n",
        "# print(x + y)\n",
        "x + y"
      ],
      "metadata": {
        "colab": {
          "base_uri": "https://localhost:8080/"
        },
        "id": "5I-sb8A1eWXR",
        "outputId": "aaacc6c5-9b9b-4667-e0b7-1d53a32c8f24"
      },
      "execution_count": null,
      "outputs": [
        {
          "output_type": "stream",
          "name": "stdout",
          "text": [
            "x = 1\n",
            "2\n"
          ]
        },
        {
          "output_type": "execute_result",
          "data": {
            "text/plain": [
              "3"
            ]
          },
          "metadata": {},
          "execution_count": 12
        }
      ]
    }
  ]
}