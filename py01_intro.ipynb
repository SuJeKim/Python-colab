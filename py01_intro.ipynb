{
  "nbformat": 4,
  "nbformat_minor": 0,
  "metadata": {
    "colab": {
      "provenance": [],
      "authorship_tag": "ABX9TyPTYzwk4PQtgiVoR2megfea",
      "include_colab_link": true
    },
    "kernelspec": {
      "name": "python3",
      "display_name": "Python 3"
    },
    "language_info": {
      "name": "python"
    }
  },
  "cells": [
    {
      "cell_type": "markdown",
      "metadata": {
        "id": "view-in-github",
        "colab_type": "text"
      },
      "source": [
        "<a href=\"https://colab.research.google.com/github/SuJeKim/Python-colab/blob/main/py01_intro.ipynb\" target=\"_parent\"><img src=\"https://colab.research.google.com/assets/colab-badge.svg\" alt=\"Open In Colab\"/></a>"
      ]
    },
    {
      "cell_type": "markdown",
      "source": [
        "# 파이썬 버전 확인\n"
      ],
      "metadata": {
        "id": "rhUhNHfJ1mqD"
      }
    },
    {
      "cell_type": "code",
      "source": [
        "!python --version"
      ],
      "metadata": {
        "colab": {
          "base_uri": "https://localhost:8080/"
        },
        "id": "rJHhjpy81r8s",
        "outputId": "e2c0f164-c922-440e-fc60-ebdfebcd05f4"
      },
      "execution_count": null,
      "outputs": [
        {
          "output_type": "stream",
          "name": "stdout",
          "text": [
            "Python 3.10.12\n"
          ]
        }
      ]
    },
    {
      "cell_type": "markdown",
      "source": [
        "코드 셀에서 명령창(command prompt)에서 실행하는 명령어를 작성하고 실행할 때는 !로 시작."
      ],
      "metadata": {
        "id": "pYCR9Uil2jEE"
      }
    },
    {
      "cell_type": "markdown",
      "source": [
        "# 파이썬 소개\n",
        "마크업 랭귀지 작성\n",
        "\n"
      ],
      "metadata": {
        "id": "JEn8HHa10orc"
      }
    },
    {
      "cell_type": "code",
      "execution_count": null,
      "metadata": {
        "colab": {
          "base_uri": "https://localhost:8080/"
        },
        "id": "1c4lAy7TxypC",
        "outputId": "1ad466cc-60dc-4c0a-de8d-189dad1d4bec"
      },
      "outputs": [
        {
          "output_type": "stream",
          "name": "stdout",
          "text": [
            "안녕하세요, PYthon!\n"
          ]
        }
      ],
      "source": [
        "# inline comment (주석)\n",
        "print('안녕하세요, PYthon!') # 파이썬 문장은 세미콜론을 사용하지 않음.\n"
      ]
    }
  ]
}