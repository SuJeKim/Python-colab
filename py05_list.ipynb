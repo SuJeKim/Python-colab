{
  "nbformat": 4,
  "nbformat_minor": 0,
  "metadata": {
    "colab": {
      "provenance": [],
      "authorship_tag": "ABX9TyNUuzUS+dalV0DZojokqgLI",
      "include_colab_link": true
    },
    "kernelspec": {
      "name": "python3",
      "display_name": "Python 3"
    },
    "language_info": {
      "name": "python"
    }
  },
  "cells": [
    {
      "cell_type": "markdown",
      "metadata": {
        "id": "view-in-github",
        "colab_type": "text"
      },
      "source": [
        "<a href=\"https://colab.research.google.com/github/SuJeKim/Python-colab/blob/main/py05_list.ipynb\" target=\"_parent\"><img src=\"https://colab.research.google.com/assets/colab-badge.svg\" alt=\"Open In Colab\"/></a>"
      ]
    },
    {
      "cell_type": "markdown",
      "source": [
        "# list\n",
        "\n",
        "* 여러 개의 값(타입)들을 하나의 변수에 저장하기 위한 데이터 타입.\n",
        "* element(원소, 요소): 리스트에 저장되는 각각의 값.\n",
        "* index(인덱스): 리스트에서 원소가 저장된 위치\n",
        "  * 리스트의 인덱스는 **0** 부터 시작.\n",
        "  * 리스트의 마지막 인덱스는 (원소 개수 - 1).\n",
        "* 리스트는 원소들을 추가, 삭제, 변경할 수 있음\n",
        "  * `tuple`과 다른 점!\n",
        "  * `tuple`은 값들을 변경할 수 없는 타입"
      ],
      "metadata": {
        "id": "jjbSeFUShzuD"
      }
    },
    {
      "cell_type": "code",
      "execution_count": null,
      "metadata": {
        "colab": {
          "base_uri": "https://localhost:8080/"
        },
        "id": "7qBMl2uuhf90",
        "outputId": "fef94962-097b-4350-f762-6d329d6d467c"
      },
      "outputs": [
        {
          "output_type": "execute_result",
          "data": {
            "text/plain": [
              "[1, 2, 3, 10, 20, 30]"
            ]
          },
          "metadata": {},
          "execution_count": 2
        }
      ],
      "source": [
        "# 숫자들을 저장하는 리스트\n",
        "numbers = [1, 2, 3, 10, 20, 30]\n",
        "numbers"
      ]
    },
    {
      "cell_type": "markdown",
      "source": [
        "# 인덱싱(indexing)\n",
        "\n",
        "인덱스를 사용해서 리스트의 원소를 참조하는 방법.\n",
        "\n",
        " ![image.png](data:image/png;base64,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)"
      ],
      "metadata": {
        "id": "kFAUMRztkAyi"
      }
    },
    {
      "cell_type": "code",
      "source": [
        "numbers[0] # 리스트 numbers의 인덱스 0 위치의 원소"
      ],
      "metadata": {
        "colab": {
          "base_uri": "https://localhost:8080/"
        },
        "id": "7UGuSdfpj00H",
        "outputId": "7311124a-0298-4a5a-bcf2-29e56c86b495"
      },
      "execution_count": null,
      "outputs": [
        {
          "output_type": "execute_result",
          "data": {
            "text/plain": [
              "1"
            ]
          },
          "metadata": {},
          "execution_count": 3
        }
      ]
    },
    {
      "cell_type": "code",
      "source": [
        "numbers[5] # 리스트 numbers의 인덱스 5 위치의 원소"
      ],
      "metadata": {
        "colab": {
          "base_uri": "https://localhost:8080/"
        },
        "id": "5ciAttjTn-Q7",
        "outputId": "1cc4c69e-47ab-4bea-9a50-078f95ffbc09"
      },
      "execution_count": null,
      "outputs": [
        {
          "output_type": "execute_result",
          "data": {
            "text/plain": [
              "30"
            ]
          },
          "metadata": {},
          "execution_count": 4
        }
      ]
    },
    {
      "cell_type": "code",
      "source": [
        "numbers[-1] # 리스트에서 가장 마지막 원소."
      ],
      "metadata": {
        "colab": {
          "base_uri": "https://localhost:8080/"
        },
        "id": "2KnJnRuSoU7V",
        "outputId": "b080436e-cf2e-4825-eb81-e89e84ea170d"
      },
      "execution_count": null,
      "outputs": [
        {
          "output_type": "execute_result",
          "data": {
            "text/plain": [
              "30"
            ]
          },
          "metadata": {},
          "execution_count": 6
        }
      ]
    },
    {
      "cell_type": "code",
      "source": [
        "numbers[-6]"
      ],
      "metadata": {
        "colab": {
          "base_uri": "https://localhost:8080/"
        },
        "id": "bvlv4ZODoXQn",
        "outputId": "ac53de0d-e6b0-4a98-ff9c-8915c6717f50"
      },
      "execution_count": null,
      "outputs": [
        {
          "output_type": "execute_result",
          "data": {
            "text/plain": [
              "20"
            ]
          },
          "metadata": {},
          "execution_count": 8
        }
      ]
    },
    {
      "cell_type": "markdown",
      "source": [
        "# slicing\n",
        "\n",
        "인덱스를 사용해서 리스트의 부분집합(리스트)를 잘라내는 방법.\n",
        "\n",
        "`list[start:end]`\n",
        "\n",
        "* start <= index < end 범위의 인덱스 위치의 원소들을 잘라냄.\n",
        "* start를 생략한 경우에는 첫번째 원소부터 잘라냄\n",
        "  * `list[0:5]`과 `list[:5]`는 같은 결과.\n",
        "* end를 생략한 경우에는 마지막 원소까지 잘라냄.\n",
        "  * 시작 위치부터 끝까지 잘라냄\n",
        "* 리스트를 slicing한 결과는 또다른 새로운 **리스트**."
      ],
      "metadata": {
        "id": "DSNpnZmmqUgZ"
      }
    },
    {
      "cell_type": "code",
      "source": [
        "numbers"
      ],
      "metadata": {
        "colab": {
          "base_uri": "https://localhost:8080/"
        },
        "id": "NnpovhQoof2Z",
        "outputId": "cbb66b80-70b2-438d-bfdc-c0f8cfe8b48a"
      },
      "execution_count": null,
      "outputs": [
        {
          "output_type": "execute_result",
          "data": {
            "text/plain": [
              "[1, 2, 3, 10, 20, 30]"
            ]
          },
          "metadata": {},
          "execution_count": 9
        }
      ]
    },
    {
      "cell_type": "code",
      "source": [
        "numbers[1:4] # 1 <= index < 4"
      ],
      "metadata": {
        "colab": {
          "base_uri": "https://localhost:8080/"
        },
        "id": "u18XyAnTrbzV",
        "outputId": "ee443e89-5ff4-41ff-90cc-2c4c7a7f1e6e"
      },
      "execution_count": null,
      "outputs": [
        {
          "output_type": "execute_result",
          "data": {
            "text/plain": [
              "[2, 3, 10]"
            ]
          },
          "metadata": {},
          "execution_count": 10
        }
      ]
    },
    {
      "cell_type": "code",
      "source": [
        "numbers[3:6]"
      ],
      "metadata": {
        "colab": {
          "base_uri": "https://localhost:8080/"
        },
        "id": "EKb-QGskrrlJ",
        "outputId": "151c76d6-9861-457f-902f-e5bc3d8c3a26"
      },
      "execution_count": null,
      "outputs": [
        {
          "output_type": "execute_result",
          "data": {
            "text/plain": [
              "[10, 20, 30]"
            ]
          },
          "metadata": {},
          "execution_count": 13
        }
      ]
    },
    {
      "cell_type": "code",
      "source": [
        "numbers[3:]"
      ],
      "metadata": {
        "colab": {
          "base_uri": "https://localhost:8080/"
        },
        "id": "Zz4LawZvr5qS",
        "outputId": "e4062ce2-d06f-4898-e7cb-94e3d39bb02f"
      },
      "execution_count": null,
      "outputs": [
        {
          "output_type": "execute_result",
          "data": {
            "text/plain": [
              "[10, 20, 30]"
            ]
          },
          "metadata": {},
          "execution_count": 14
        }
      ]
    },
    {
      "cell_type": "code",
      "source": [
        "numbers[:3] # 리스트에서 앞에서 3개"
      ],
      "metadata": {
        "colab": {
          "base_uri": "https://localhost:8080/"
        },
        "id": "clW_cgljsqs1",
        "outputId": "a9508f6e-891c-4164-b71f-60d833d69ea7"
      },
      "execution_count": null,
      "outputs": [
        {
          "output_type": "execute_result",
          "data": {
            "text/plain": [
              "[1, 2, 3]"
            ]
          },
          "metadata": {},
          "execution_count": 15
        }
      ]
    },
    {
      "cell_type": "code",
      "source": [
        "numbers[-3:] # 리스트에서 뒤에서 3개"
      ],
      "metadata": {
        "colab": {
          "base_uri": "https://localhost:8080/"
        },
        "id": "qWvZddzWtER3",
        "outputId": "ccbafff0-db53-4193-ccc8-5db5ffe1c43d"
      },
      "execution_count": null,
      "outputs": [
        {
          "output_type": "execute_result",
          "data": {
            "text/plain": [
              "[10, 20, 30]"
            ]
          },
          "metadata": {},
          "execution_count": 16
        }
      ]
    },
    {
      "cell_type": "code",
      "source": [
        "numbers[0:1] # slicing -> 리스트"
      ],
      "metadata": {
        "colab": {
          "base_uri": "https://localhost:8080/"
        },
        "id": "hQ_cNtecuIG3",
        "outputId": "a6493874-9c54-436a-e71c-6a50d1dc4caf"
      },
      "execution_count": null,
      "outputs": [
        {
          "output_type": "execute_result",
          "data": {
            "text/plain": [
              "[1]"
            ]
          },
          "metadata": {},
          "execution_count": 17
        }
      ]
    },
    {
      "cell_type": "code",
      "source": [
        "numbers][0] # indexing -> 값(숫자)"
      ],
      "metadata": {
        "id": "ZNMzJ7_HuLn7"
      },
      "execution_count": null,
      "outputs": []
    },
    {
      "cell_type": "markdown",
      "source": [
        "# 문자열(str)\n",
        "\n",
        "* 문자들의 **리스트**.\n",
        "* 문자열은 인덱스를 사용할 수 있음.\n",
        "* indexing, slicing 가능."
      ],
      "metadata": {
        "id": "mRNv-CZFu84P"
      }
    },
    {
      "cell_type": "code",
      "source": [
        "message = '안녕하세요, 여러분!' # 11개의 문자들로 이루어진 리스트"
      ],
      "metadata": {
        "id": "VpAbsWJwvbgQ"
      },
      "execution_count": null,
      "outputs": []
    },
    {
      "cell_type": "code",
      "source": [
        "message[0] # 문자열에서 첫 번째 문자"
      ],
      "metadata": {
        "colab": {
          "base_uri": "https://localhost:8080/",
          "height": 35
        },
        "id": "GJS-j_UYvfTk",
        "outputId": "c5ab7da9-5676-404f-afc2-9feb736ea96e"
      },
      "execution_count": null,
      "outputs": [
        {
          "output_type": "execute_result",
          "data": {
            "text/plain": [
              "'안'"
            ],
            "application/vnd.google.colaboratory.intrinsic+json": {
              "type": "string"
            }
          },
          "metadata": {},
          "execution_count": 20
        }
      ]
    },
    {
      "cell_type": "code",
      "source": [
        "message[-1] # 문자열에서 마지막 문자"
      ],
      "metadata": {
        "colab": {
          "base_uri": "https://localhost:8080/",
          "height": 35
        },
        "id": "HtB4LSWKv7HJ",
        "outputId": "7a5bb002-0def-4544-ec28-fb309908970a"
      },
      "execution_count": null,
      "outputs": [
        {
          "output_type": "execute_result",
          "data": {
            "text/plain": [
              "'!'"
            ],
            "application/vnd.google.colaboratory.intrinsic+json": {
              "type": "string"
            }
          },
          "metadata": {},
          "execution_count": 21
        }
      ]
    },
    {
      "cell_type": "code",
      "source": [
        "message[:3] # 문자열에서 앞에서 3글자"
      ],
      "metadata": {
        "colab": {
          "base_uri": "https://localhost:8080/",
          "height": 35
        },
        "id": "k0UNsdobv-sa",
        "outputId": "34f268ea-476a-4eaa-ad06-6de4c3809fd5"
      },
      "execution_count": null,
      "outputs": [
        {
          "output_type": "execute_result",
          "data": {
            "text/plain": [
              "'안녕하'"
            ],
            "application/vnd.google.colaboratory.intrinsic+json": {
              "type": "string"
            }
          },
          "metadata": {},
          "execution_count": 24
        }
      ]
    },
    {
      "cell_type": "code",
      "source": [
        "message[-3:] # 문자열에서 뒤에서 3글자"
      ],
      "metadata": {
        "colab": {
          "base_uri": "https://localhost:8080/",
          "height": 35
        },
        "id": "r6qjPDKAwA5Z",
        "outputId": "445b08f2-4a55-45a1-8fc8-631b261375be"
      },
      "execution_count": null,
      "outputs": [
        {
          "output_type": "execute_result",
          "data": {
            "text/plain": [
              "'러분!'"
            ],
            "application/vnd.google.colaboratory.intrinsic+json": {
              "type": "string"
            }
          },
          "metadata": {},
          "execution_count": 25
        }
      ]
    },
    {
      "cell_type": "code",
      "source": [
        "# 문자열 산술 연산: +, *\n",
        "print('hello' + 'python')\n",
        "print('hello' * 3)"
      ],
      "metadata": {
        "colab": {
          "base_uri": "https://localhost:8080/"
        },
        "id": "v1yFW6GtwWu_",
        "outputId": "952177b8-8ef8-4424-e762-b12d737ef9c2"
      },
      "execution_count": null,
      "outputs": [
        {
          "output_type": "stream",
          "name": "stdout",
          "text": [
            "hellopython\n",
            "hellohellohello\n"
          ]
        }
      ]
    },
    {
      "cell_type": "markdown",
      "source": [
        "# 리스트의 산술 연산\n",
        "\n",
        "* `list + list`\n",
        "* `list * int` 또는 `int * list`\n",
        "\n",
        "의미는 위의 문자열 산술 연산과 비슷함."
      ],
      "metadata": {
        "id": "YuSkRe2qwNwP"
      }
    },
    {
      "cell_type": "code",
      "source": [
        "[1,2,3] + [4,5,6] # concatenate"
      ],
      "metadata": {
        "colab": {
          "base_uri": "https://localhost:8080/"
        },
        "id": "nw-rAAjOxeQn",
        "outputId": "039b24d6-c20a-46bc-e5df-7fda5e92c7c0"
      },
      "execution_count": null,
      "outputs": [
        {
          "output_type": "execute_result",
          "data": {
            "text/plain": [
              "[1, 2, 3, 4, 5, 6]"
            ]
          },
          "metadata": {},
          "execution_count": 28
        }
      ]
    },
    {
      "cell_type": "code",
      "source": [
        "[1,2,3] * 3 # replicate"
      ],
      "metadata": {
        "colab": {
          "base_uri": "https://localhost:8080/"
        },
        "id": "SUVAwqArxiF0",
        "outputId": "ebafa799-f43d-4f09-f884-7bff8bd839e6"
      },
      "execution_count": null,
      "outputs": [
        {
          "output_type": "execute_result",
          "data": {
            "text/plain": [
              "[1, 2, 3, 1, 2, 3, 1, 2, 3]"
            ]
          },
          "metadata": {},
          "execution_count": 29
        }
      ]
    },
    {
      "cell_type": "markdown",
      "source": [
        "# list와 for 반복문"
      ],
      "metadata": {
        "id": "chHQz9r02Cce"
      }
    },
    {
      "cell_type": "code",
      "source": [
        "for x in 'hello':\n",
        "  print(x)"
      ],
      "metadata": {
        "colab": {
          "base_uri": "https://localhost:8080/"
        },
        "id": "ZrDYPcyWxxEM",
        "outputId": "029af395-b423-4c89-8141-c7387a10beab"
      },
      "execution_count": null,
      "outputs": [
        {
          "output_type": "stream",
          "name": "stdout",
          "text": [
            "h\n",
            "e\n",
            "l\n",
            "l\n",
            "o\n"
          ]
        }
      ]
    },
    {
      "cell_type": "code",
      "source": [
        "numbers = [1, 10, 5 ,100]\n",
        "for x in numbers:\n",
        "  print(x)"
      ],
      "metadata": {
        "colab": {
          "base_uri": "https://localhost:8080/"
        },
        "id": "UZQzmFTJ2XdH",
        "outputId": "7ce30672-fba9-4c3e-dca6-7122ef3c1d7c"
      },
      "execution_count": null,
      "outputs": [
        {
          "output_type": "stream",
          "name": "stdout",
          "text": [
            "1\n",
            "10\n",
            "5\n",
            "100\n"
          ]
        }
      ]
    },
    {
      "cell_type": "code",
      "source": [
        "i = 0\n",
        "while i < len(numbers): # list의 원소개수 -> len(numbers)\n",
        "  print(numbers)\n",
        "  i += 1"
      ],
      "metadata": {
        "colab": {
          "base_uri": "https://localhost:8080/"
        },
        "id": "VM6zfgRE2tcF",
        "outputId": "6087debb-4e7f-462d-8734-adeb6e07a830"
      },
      "execution_count": null,
      "outputs": [
        {
          "output_type": "stream",
          "name": "stdout",
          "text": [
            "[1, 10, 5, 100]\n",
            "[1, 10, 5, 100]\n",
            "[1, 10, 5, 100]\n",
            "[1, 10, 5, 100]\n"
          ]
        }
      ]
    },
    {
      "cell_type": "code",
      "source": [
        "for i in range(len(numbers)): # 0 <= i < len\n",
        "  print(i, ':', numbers[i])"
      ],
      "metadata": {
        "colab": {
          "base_uri": "https://localhost:8080/"
        },
        "id": "BFTtQgMV3l0t",
        "outputId": "905c0675-22ae-4ff6-a514-0d999bc5901e"
      },
      "execution_count": null,
      "outputs": [
        {
          "output_type": "stream",
          "name": "stdout",
          "text": [
            "0 : 1\n",
            "1 : 10\n",
            "2 : 5\n",
            "3 : 100\n"
          ]
        }
      ]
    },
    {
      "cell_type": "code",
      "source": [
        "for i, v in enumerate(numbers): # enumerate는 key, value를 리턴.\n",
        "  print(i, ':', v)\n"
      ],
      "metadata": {
        "colab": {
          "base_uri": "https://localhost:8080/"
        },
        "id": "n3460GN43vFD",
        "outputId": "7b7d1cc8-8b02-4137-be00-976dba2f4ff8"
      },
      "execution_count": null,
      "outputs": [
        {
          "output_type": "stream",
          "name": "stdout",
          "text": [
            "0 : 1\n",
            "1 : 10\n",
            "2 : 5\n",
            "3 : 100\n"
          ]
        }
      ]
    },
    {
      "cell_type": "code",
      "source": [
        "numbers1 = [1, 2, 3]\n",
        "numbers2 = [10, 11, 12]\n",
        "# 크기가 같은 리스트 numbers1과 numbers2의 같은 인덱스의 원소들끼리의 합을 원소로 갖는 리스트.\n",
        "# [11, 13, 15]\n",
        "result = [] # 빈(empty) 리스트\n",
        "for x in range(len(numbers1)): # 0 <= i < len\n",
        "  result.append(numbers1[x] + numbers2[x]) # append: 뒤에서 추가\n",
        "\n",
        "print(result)\n",
        "\n",
        "\n"
      ],
      "metadata": {
        "colab": {
          "base_uri": "https://localhost:8080/"
        },
        "id": "MnuEi7F843ul",
        "outputId": "a9ff24e4-fc19-40fc-b9e5-9ac30e8a3c10"
      },
      "execution_count": null,
      "outputs": [
        {
          "output_type": "stream",
          "name": "stdout",
          "text": [
            "1\n",
            "10\n",
            "5\n",
            "[11, 13, 15]\n"
          ]
        }
      ]
    },
    {
      "cell_type": "code",
      "source": [
        "result = []\n",
        "for x, y in zip(numbers1, numbers2): # 같은 길이를 갖는 리스트를 넘겨 줘야 함 + 같은 index에 있는 value들을 꺼내서 변수 순서대로 넘겨줌.\n",
        "  result.append(x + y)\n",
        "result"
      ],
      "metadata": {
        "colab": {
          "base_uri": "https://localhost:8080/"
        },
        "id": "Rgv-lI8d7eI5",
        "outputId": "1ea5f3e2-87ff-4471-bc84-c52f75033743"
      },
      "execution_count": null,
      "outputs": [
        {
          "output_type": "execute_result",
          "data": {
            "text/plain": [
              "[11, 13, 15]"
            ]
          },
          "metadata": {},
          "execution_count": 44
        }
      ]
    },
    {
      "cell_type": "markdown",
      "source": [
        "파이썬에서 난수를 만드는 방법:\n"
      ],
      "metadata": {
        "id": "jhWJQqE5-CZ9"
      }
    },
    {
      "cell_type": "code",
      "source": [
        "import random  # random 모듈을 임포트\n",
        "\n",
        "# random 모듈의 random() 함수를 호출\n",
        "random.random() # 모듈.함수 #[0, 1] 범위(0 <= x < 1)의 실수 난수를 리턴."
      ],
      "metadata": {
        "colab": {
          "base_uri": "https://localhost:8080/"
        },
        "id": "9tVDWfr78sTI",
        "outputId": "b75fe1e0-d917-4ad5-ae3f-965fa8673de1"
      },
      "execution_count": null,
      "outputs": [
        {
          "output_type": "execute_result",
          "data": {
            "text/plain": [
              "0.9613931903947167"
            ]
          },
          "metadata": {},
          "execution_count": 48
        }
      ]
    },
    {
      "cell_type": "code",
      "source": [
        "# random 모듈의 randrange() 함수를 호출\n",
        "random.randrange(10) # [0 10)] 범위(0 <= x < 10)의 정수 난수를 리턴."
      ],
      "metadata": {
        "colab": {
          "base_uri": "https://localhost:8080/"
        },
        "id": "rcJfOwWl-ywE",
        "outputId": "c9814365-c8e5-48bc-f9f4-d752616f598f"
      },
      "execution_count": null,
      "outputs": [
        {
          "output_type": "execute_result",
          "data": {
            "text/plain": [
              "1"
            ]
          },
          "metadata": {},
          "execution_count": 55
        }
      ]
    },
    {
      "cell_type": "code",
      "source": [
        "random.randrange(1, 4) # [1,4) 범위의 정수 난수를 리턴."
      ],
      "metadata": {
        "colab": {
          "base_uri": "https://localhost:8080/"
        },
        "id": "g25wmc0F_aBm",
        "outputId": "14da8335-313c-4153-ad8c-e1bbd337f73b"
      },
      "execution_count": null,
      "outputs": [
        {
          "output_type": "execute_result",
          "data": {
            "text/plain": [
              "1"
            ]
          },
          "metadata": {},
          "execution_count": 64
        }
      ]
    },
    {
      "cell_type": "code",
      "source": [
        "random.randint(1,4) # [1, 4]"
      ],
      "metadata": {
        "id": "Y_TCw7QM_1wL"
      },
      "execution_count": null,
      "outputs": []
    },
    {
      "cell_type": "markdown",
      "source": [
        "# Exercises\n",
        "##  Ex 1.\n",
        "빈 리스트를 생성.\n",
        "1 이상 10 이하의 정수 난수 5개를 저장.\n",
        "리스트의 모든 정수들의 합을 출력.\n",
        "리스트의 모든 정수들의 평균을 출력.\n"
      ],
      "metadata": {
        "id": "O1d1zWTTCUhS"
      }
    },
    {
      "cell_type": "code",
      "source": [
        "# Ex 1\n",
        "import random\n",
        "\n",
        "result = []\n",
        "for _ in range(1, 6): # _ : 코드블록 내에서 사용되지 않은 변수\n",
        "  result.append(random.randrange(1, 11))\n",
        "print(result)\n",
        "\n",
        "\n",
        "y = 0\n",
        "for i, x in enumerate(result):\n",
        "  y = y + int(x)\n",
        "print(y)\n",
        "print(y / len(result))\n",
        "\n",
        "# 변수이름을 합수와 같이 선언하면 함수 사용 힘듦\n",
        "print(sum(result))\n",
        "\n",
        "total = 0\n",
        "for x in result:\n",
        "  total += x\n",
        "\n",
        "print(f'total = {total}')\n",
        "average = total / len(result)\n",
        "print(f'average = {average}')"
      ],
      "metadata": {
        "colab": {
          "base_uri": "https://localhost:8080/"
        },
        "id": "69YbnuZRCdt0",
        "outputId": "aebed702-510a-4ac6-c279-79cf5a2a96e4"
      },
      "execution_count": 5,
      "outputs": [
        {
          "output_type": "stream",
          "name": "stdout",
          "text": [
            "[2, 2, 2, 4, 4]\n",
            "14\n",
            "2.8\n",
            "14\n",
            "total = 14\n",
            "average = 2.8\n"
          ]
        }
      ]
    },
    {
      "cell_type": "markdown",
      "source": [
        "# Ex 2.\n",
        "빈 리스트(numbers)를 생성. 10 이상, 100 미만의 정수 난수 10개를 numbers에 저장. numbers에서 짝수들만 선택해서 evens 리스트를 만들고 출력. numbers에서 홀수들만 선택해서 odds 리스트를 만들고 출력."
      ],
      "metadata": {
        "id": "vA7_83poH1wi"
      }
    },
    {
      "cell_type": "code",
      "source": [
        "# Ex 2.\n",
        "numbers = []\n",
        "for i in range(1, 10):\n",
        "  number = random.randrange(10, 100)\n",
        "  numbers.append(number)\n",
        "print(numbers)\n",
        "\n",
        "\n",
        "evens = []\n",
        "odds = []\n",
        "for i, x in enumerate(numbers):\n",
        "  if x % 2: # 리스트에서 찾은 값을 2로 나눈 나머지가 있으면 -> 0일 경우 false.\n",
        "    odds.append(x)\n",
        "  else:\n",
        "    evens.append(x)\n",
        "\n",
        "print(f'짝수들 = {evens}')\n",
        "print(f'홀수들 = {odds}')"
      ],
      "metadata": {
        "colab": {
          "base_uri": "https://localhost:8080/"
        },
        "id": "l4vUvVJ9DLV3",
        "outputId": "a06c8829-c7e5-4eca-dbe5-5acf5a7d8969"
      },
      "execution_count": null,
      "outputs": [
        {
          "output_type": "stream",
          "name": "stdout",
          "text": [
            "[61, 46, 34, 66, 72, 59, 46, 17, 20]\n",
            "짝수들 = [46, 34, 66, 72, 46, 20]\n",
            "홀수들 = [61, 59, 17]\n"
          ]
        }
      ]
    },
    {
      "cell_type": "markdown",
      "source": [
        "# Ex 3.\n",
        " 빈 리스트 numbers를 만듦. 10 이상 10 이하인 범위의 정수 난수 10개를 numbers에 저장. numbers의 원소가 양수이면 True, 그렇지 않으면 False를 저장하는 is_positive 리스트를 만들고 출력."
      ],
      "metadata": {
        "id": "nX0JCWsgH7FR"
      }
    },
    {
      "cell_type": "code",
      "source": [
        "numbers = []\n",
        "for i in range(1, 10):\n",
        "  number = random.randint(-10, 10)\n",
        "  numbers.append(number)\n",
        "print(numbers)\n",
        "\n",
        "is_positive = []\n",
        "for i, x in enumerate(numbers):\n",
        "  if x >= 0:\n",
        "    is_positive.append('True')\n",
        "  else:\n",
        "    is_positive.append('False')\n",
        "\n",
        "is_positive"
      ],
      "metadata": {
        "colab": {
          "base_uri": "https://localhost:8080/"
        },
        "id": "1v11S97uGSb1",
        "outputId": "a22af62f-cdd8-4629-fced-a606d9613955"
      },
      "execution_count": null,
      "outputs": [
        {
          "output_type": "stream",
          "name": "stdout",
          "text": [
            "[-7, -8, 7, -7, 9, 1, -8, 9, -9]\n"
          ]
        },
        {
          "output_type": "execute_result",
          "data": {
            "text/plain": [
              "['False', 'False', 'True', 'False', 'True', 'True', 'False', 'True', 'False']"
            ]
          },
          "metadata": {},
          "execution_count": 80
        }
      ]
    },
    {
      "cell_type": "markdown",
      "source": [
        "# Ex 4.\n",
        "gender_codes 리스트에 0 또는 1을 랜덤하게 10개를 저장. gender_codes의 값이 0이면 'Male', 그렇지 않으며 'Female'을 저장하는 genders 리스트를 만들고 출력."
      ],
      "metadata": {
        "id": "LNasE8aZH_nJ"
      }
    },
    {
      "cell_type": "code",
      "source": [
        "gender_codes = []\n",
        "for i in range(1, 10):\n",
        "  number = random.randrange(0, 2)\n",
        "  gender_codes.append(number)\n",
        "print(gender_codes)\n",
        "\n",
        "genders = []\n",
        "\n",
        "for i,x in enumerate(gender_codes):\n",
        "  if x == 0:\n",
        "    genders.append('Male')\n",
        "  else:\n",
        "    genders.append('Female')\n",
        "\n",
        "print(genders)"
      ],
      "metadata": {
        "colab": {
          "base_uri": "https://localhost:8080/"
        },
        "id": "1wiyk8nTJGZ5",
        "outputId": "dc856046-7a1c-4c3f-b25a-20c9642c60f1"
      },
      "execution_count": null,
      "outputs": [
        {
          "output_type": "stream",
          "name": "stdout",
          "text": [
            "[1, 0, 0, 0, 1, 1, 1, 0, 0]\n",
            "['Female', 'Male', 'Male', 'Male', 'Female', 'Female', 'Female', 'Male', 'Male']\n"
          ]
        }
      ]
    },
    {
      "cell_type": "markdown",
      "source": [
        "# Ex 5.\n",
        " numbers1: 100 미만의 정수 난수 10개를 저장하는 리스트. numbers2: 100 미만의 정수 난수 10개를 저장하는 리스트. multiplication: numbers1과 numbers2의 같은 인덱스에 있는 원소들끼리의 곱셈 결과를 저장하는 리스트. subtraction: numbers1의 원소에서 같은 인덱스에 있는 numbers2의 원소를 뺀 값을 저장하는 리스트. numbers1, numbers2, multiplication, subtraction를 출력."
      ],
      "metadata": {
        "id": "Z0KW8ex2IB0p"
      }
    },
    {
      "cell_type": "code",
      "source": [
        "numbers1 = []\n",
        "numbers2 = []\n",
        "\n",
        "for i in range(1, 10):\n",
        "  number = random.randrange(100)\n",
        "  number2 = random.randrange(100)\n",
        "  numbers1.append(number)\n",
        "  numbers2.append(number2)\n",
        "print(f'numbers1 = {numbers1}')\n",
        "print(f'numbers2 = {numbers2}')\n",
        "\n",
        "multiplication = []\n",
        "subtraction = []\n",
        "\n",
        "for x, y in zip(numbers1, numbers2): # 같은 길이를 갖는 리스트를 넘겨 줘야 함 + 같은 index에 있는 value들을 꺼내서 변수 순서대로 넘겨줌.\n",
        "  multiplication.append(x * y)\n",
        "  subtraction.append(x - y)\n",
        "\n",
        "print(f'multiplication = {multiplication}')\n",
        "print(f'subtraction = {subtraction}')"
      ],
      "metadata": {
        "colab": {
          "base_uri": "https://localhost:8080/"
        },
        "id": "Ck5iPM6yIBZb",
        "outputId": "f523f840-533a-4505-e6ed-3b18c8b247a0"
      },
      "execution_count": null,
      "outputs": [
        {
          "output_type": "stream",
          "name": "stdout",
          "text": [
            "numbers1 = [53, 56, 31, 90, 3, 74, 11, 3, 77]\n",
            "numbers2 = [61, 52, 74, 11, 19, 95, 4, 21, 74]\n",
            "multiplication = [3233, 2912, 2294, 990, 57, 7030, 44, 63, 5698]\n",
            "subtraction = [-8, 4, -43, 79, -16, -21, 7, -18, 3]\n"
          ]
        }
      ]
    },
    {
      "cell_type": "markdown",
      "source": [
        "# List comprehension(리스트 내포)\n",
        "\n"
      ],
      "metadata": {
        "id": "S4zbXb61sZ7n"
      }
    },
    {
      "cell_type": "markdown",
      "source": [
        "1 ~ 10 정수들을 순서대로 리스트에 저장: `{1, 2, 3,...,9,10}`"
      ],
      "metadata": {
        "id": "6bWRJtHEsur_"
      }
    },
    {
      "cell_type": "code",
      "source": [
        "numbers = []\n",
        "for x in range(1, 11):\n",
        "  numbers.append(x)\n",
        "\n",
        "numbers"
      ],
      "metadata": {
        "colab": {
          "base_uri": "https://localhost:8080/"
        },
        "id": "GP_5Qwqrstb4",
        "outputId": "9f3912ed-66d7-4b09-aeb6-264004a9d02a"
      },
      "execution_count": 6,
      "outputs": [
        {
          "output_type": "execute_result",
          "data": {
            "text/plain": [
              "[1, 2, 3, 4, 5, 6, 7, 8, 9, 10]"
            ]
          },
          "metadata": {},
          "execution_count": 6
        }
      ]
    },
    {
      "cell_type": "code",
      "source": [
        "numbers = [x for x in range(1, 11)]\n",
        "numbers"
      ],
      "metadata": {
        "colab": {
          "base_uri": "https://localhost:8080/"
        },
        "id": "gNGJHG9xtIDn",
        "outputId": "074cafea-9941-45f4-e9bb-230677cf1756"
      },
      "execution_count": 7,
      "outputs": [
        {
          "output_type": "execute_result",
          "data": {
            "text/plain": [
              "[1, 2, 3, 4, 5, 6, 7, 8, 9, 10]"
            ]
          },
          "metadata": {},
          "execution_count": 7
        }
      ]
    },
    {
      "cell_type": "code",
      "source": [
        "# { 1,4, 9 ,16, .., 100}\n",
        "numbers = [x**2 for x in range(1, 11)]\n",
        "numbers"
      ],
      "metadata": {
        "colab": {
          "base_uri": "https://localhost:8080/"
        },
        "id": "akqDscqXtjTo",
        "outputId": "e7debf30-4057-4426-b0f3-1c9749bd92ae"
      },
      "execution_count": 9,
      "outputs": [
        {
          "output_type": "execute_result",
          "data": {
            "text/plain": [
              "[1, 4, 9, 16, 25, 36, 49, 64, 81, 100]"
            ]
          },
          "metadata": {},
          "execution_count": 9
        }
      ]
    },
    {
      "cell_type": "code",
      "source": [
        "# [0, 10} 난수 10개를 저장하는 리스트\n",
        "import random\n",
        "\n",
        "numbers = [random.randrange(1, 10) for _ in range(10)]\n",
        "numbers"
      ],
      "metadata": {
        "colab": {
          "base_uri": "https://localhost:8080/"
        },
        "id": "9X--SOQ5unzZ",
        "outputId": "ae432081-f2bc-4bc7-b46b-b0f4daf5d104"
      },
      "execution_count": 12,
      "outputs": [
        {
          "output_type": "execute_result",
          "data": {
            "text/plain": [
              "[2, 7, 8, 9, 9, 2, 7, 1, 5, 9]"
            ]
          },
          "metadata": {},
          "execution_count": 12
        }
      ]
    },
    {
      "cell_type": "code",
      "source": [
        "# filtering\n",
        "[value for x in iterable if condition]\n",
        "\n",
        "# mapping\n",
        "[value if condition else value2 for x in iterable]"
      ],
      "metadata": {
        "id": "SsHmRawIw4SI"
      },
      "execution_count": null,
      "outputs": []
    },
    {
      "cell_type": "markdown",
      "source": [
        "# Ex 1.\n",
        "빈 리스트를 생성. 1 이상 10 이하의 정수 난수 5개를 저장. 리스트의 모든 정수들의 합을 출력. 리스트의 모든 정수들의 평균을 출력."
      ],
      "metadata": {
        "id": "7pMgVC7bvZTn"
      }
    },
    {
      "cell_type": "code",
      "source": [
        "numbers = [ random.randrange(11) for _ in range(5)]\n",
        "print(numbers)\n",
        "print(sum(numbers))\n",
        "\n",
        "average = sum(numbers) / len(numbers)\n",
        "print(average)"
      ],
      "metadata": {
        "colab": {
          "base_uri": "https://localhost:8080/"
        },
        "id": "oSAz928YvDBE",
        "outputId": "df69f2dc-deb1-45bc-c1fe-88818739c918"
      },
      "execution_count": 14,
      "outputs": [
        {
          "output_type": "stream",
          "name": "stdout",
          "text": [
            "[3, 5, 5, 3, 1]\n",
            "17\n",
            "3.4\n"
          ]
        }
      ]
    },
    {
      "cell_type": "markdown",
      "source": [
        "# Ex 2.\n",
        "빈 리스트(numbers)를 생성. 10 이상, 100 미만의 정수 난수 10개를 numbers에 저장. numbers에서 짝수들만 선택해서 evens 리스트를 만들고 출력. numbers에서 홀수들만 선택해서 odds 리스트를 만들고 출력.\n",
        "\n"
      ],
      "metadata": {
        "id": "A1Ve_tIcwJN-"
      }
    },
    {
      "cell_type": "code",
      "source": [
        "numbers = [random.randrange(10,100) for _ in range(10)]\n",
        "print(numbers)\n",
        "evens = []\n",
        "odds = []\n",
        "for x in numbers:\n",
        "  if x % 2:\n",
        "    odds.append(x)\n",
        "  else:\n",
        "    evens.append(x)\n",
        "print(f'evens = {evens}, odds = {odds}')\n"
      ],
      "metadata": {
        "colab": {
          "base_uri": "https://localhost:8080/"
        },
        "id": "hXT0PilAwCE1",
        "outputId": "67f4fb7c-2d07-45d1-b491-cda2b86d8cda"
      },
      "execution_count": 16,
      "outputs": [
        {
          "output_type": "stream",
          "name": "stdout",
          "text": [
            "[59, 17, 54, 30, 43, 10, 43, 32, 81, 30]\n",
            "evens = [54, 30, 10, 32, 30], odds = [59, 17, 43, 43, 81]\n"
          ]
        }
      ]
    },
    {
      "cell_type": "markdown",
      "source": [
        "# Ex 3.\n",
        "빈 리스트 numbers를 만듦. -10 이상 10 이하인 범위의 정수 난수 10개를 numbers에 저장. numbers의 원소가 양수이면 True, 그렇지 않으면 False를 저장하는 is_positive 리스트를 만들고 출력.\n",
        "\n",
        "# filtering\n",
        "[value for x in iterable if condition]\n",
        "\n",
        "# mapping\n",
        "[value if condition else value2 for x in iterable]"
      ],
      "metadata": {
        "id": "u-2mRZbXwycO"
      }
    },
    {
      "cell_type": "code",
      "source": [
        "x = 1\n",
        "is_positive = True if x > 0 else False # 삼항 연산자\n",
        "\n",
        "print(is_positive)"
      ],
      "metadata": {
        "colab": {
          "base_uri": "https://localhost:8080/"
        },
        "id": "VTfU0TZU8YGc",
        "outputId": "b174f6e3-965c-45c5-9c92-308bcd0f70e4"
      },
      "execution_count": 24,
      "outputs": [
        {
          "output_type": "stream",
          "name": "stdout",
          "text": [
            "True\n"
          ]
        }
      ]
    },
    {
      "cell_type": "code",
      "source": [
        "numbers = [random.randrange(-10, 11) for _ in range(10)]\n",
        "print(numbers)\n",
        "is_positive = [True if x > 0 else False for x in numbers]\n",
        "is_positive"
      ],
      "metadata": {
        "colab": {
          "base_uri": "https://localhost:8080/"
        },
        "id": "YfX1DU1FwrG3",
        "outputId": "a7838f17-6024-4fb8-b555-b833b5d879cb"
      },
      "execution_count": 18,
      "outputs": [
        {
          "output_type": "stream",
          "name": "stdout",
          "text": [
            "[1, 4, 6, 4, 6, -5, -5, 1, -10, -2]\n"
          ]
        },
        {
          "output_type": "execute_result",
          "data": {
            "text/plain": [
              "[True, True, True, True, True, False, False, True, False, False]"
            ]
          },
          "metadata": {},
          "execution_count": 18
        }
      ]
    },
    {
      "cell_type": "markdown",
      "source": [
        "# Ex 4.\n",
        "gender_codes 리스트에 0 또는 1을 랜덤하게 10개를 저장. gender_codes의 값이 0이면 'Male', 그렇지 않으며 'Female'을 저장하는 genders 리스트를 만들고 출력."
      ],
      "metadata": {
        "id": "lO77lA8ryAxu"
      }
    },
    {
      "cell_type": "code",
      "source": [
        "gender_codes = [random.randrange(2) for _ in range(10)]\n",
        "print(gender_codes)\n",
        "genders = ['Male' if x == 0 else 'Female' for x in gender_codes]\n",
        "print(genders)"
      ],
      "metadata": {
        "colab": {
          "base_uri": "https://localhost:8080/"
        },
        "id": "RKba5iQrx4m6",
        "outputId": "c3278047-0578-4907-c656-edc581fb1315"
      },
      "execution_count": 21,
      "outputs": [
        {
          "output_type": "stream",
          "name": "stdout",
          "text": [
            "[1, 1, 0, 0, 1, 0, 0, 0, 0, 0]\n",
            "['Female', 'Female', 'Male', 'Male', 'Female', 'Male', 'Male', 'Male', 'Male', 'Male']\n"
          ]
        }
      ]
    },
    {
      "cell_type": "markdown",
      "source": [
        "# Ex 5.\n",
        "numbers1: 100 미만의 정수 난수 10개를 저장하는 리스트. numbers2: 100 미만의 정수 난수 10개를 저장하는 리스트. multiplication: numbers1과 numbers2의 같은 인덱스에 있는 원소들끼리의 곱셈 결과를 저장하는 리스트. subtraction: numbers1의 원소에서 같은 인덱스에 있는 numbers2의 원소를 뺀 값을 저장하는 리스트. numbers1, numbers2, multiplication, subtraction를 출력.\n",
        "\n",
        "# filtering\n",
        "[value for x in iterable if condition]\n",
        "\n",
        "# mapping\n",
        "[value if condition else value2 for x in iterable]"
      ],
      "metadata": {
        "id": "9_KIhLqDyicF"
      }
    },
    {
      "cell_type": "code",
      "source": [
        "numbers1 = [random.randrange(100) for _ in range(10)]\n",
        "numbers2 = [random.randrange(100) for _ in range(10)]\n",
        "\n",
        "print(f'numbers1 = {numbers1}')\n",
        "print(f'numbers2 = {numbers2}')\n",
        "\n",
        "multiplication = [ x*y for x,y in zip(numbers1, numbers2)]\n",
        "subtraction = [ x-y for x,y in zip(numbers1, numbers2)]\n",
        "\n",
        "print(f'multiplication = {multiplication}')\n",
        "print(f'subtraction = {subtraction}')"
      ],
      "metadata": {
        "colab": {
          "base_uri": "https://localhost:8080/"
        },
        "id": "RvDDw8tfyZ0J",
        "outputId": "7d6606f8-f089-48d6-e7dd-02108e84e7e7"
      },
      "execution_count": 22,
      "outputs": [
        {
          "output_type": "stream",
          "name": "stdout",
          "text": [
            "numbers1 = [19, 87, 94, 78, 55, 33, 40, 63, 15, 49]\n",
            "numbers2 = [41, 71, 74, 98, 98, 35, 46, 48, 8, 11]\n",
            "multiplication = [779, 6177, 6956, 7644, 5390, 1155, 1840, 3024, 120, 539]\n",
            "subtraction = [-22, 16, 20, -20, -43, -2, -6, 15, 7, 38]\n"
          ]
        }
      ]
    },
    {
      "cell_type": "code",
      "source": [
        "gender_codes = [1, 2, 1, 2, 3]\n",
        "# 1 -> 'M', 2 -> 'F', 3 -> 'unknown' mapping\n",
        "# java: x == 1 ? 'M' : (x == 2 ? 'F': 'unknown')\n",
        "genders = ['M' if x == 1 else ('F' if x == 2 else 'Unknown') for x in gender_codes]\n",
        "genders"
      ],
      "metadata": {
        "id": "0MqjTprLP4IH"
      },
      "execution_count": null,
      "outputs": []
    }
  ]
}