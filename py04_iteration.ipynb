{
  "nbformat": 4,
  "nbformat_minor": 0,
  "metadata": {
    "colab": {
      "provenance": [],
      "authorship_tag": "ABX9TyNXcDSKh/ZgyJVETOQ34Ebu",
      "include_colab_link": true
    },
    "kernelspec": {
      "name": "python3",
      "display_name": "Python 3"
    },
    "language_info": {
      "name": "python"
    }
  },
  "cells": [
    {
      "cell_type": "markdown",
      "metadata": {
        "id": "view-in-github",
        "colab_type": "text"
      },
      "source": [
        "<a href=\"https://colab.research.google.com/github/SuJeKim/Python-colab/blob/main/py04_iteration.ipynb\" target=\"_parent\"><img src=\"https://colab.research.google.com/assets/colab-badge.svg\" alt=\"Open In Colab\"/></a>"
      ]
    },
    {
      "cell_type": "markdown",
      "source": [
        "#for 반복문\n",
        "\n",
        "```\n",
        "for 변수 in iterable_type:\n",
        "  반복해서 실행할 코드 블록\n",
        "```\n",
        "\n",
        "* iterable_type: 반복가능한 타입\n",
        "  * range, list, tuple, dict, set, str, ...\n",
        "\n",
        "*`range()` 함수:\n",
        "  * `range(stop)`: 0 <= x < stop 범위의 1씩 증가하는 정수들을 차례로 반환.\n",
        "  * `range(start, stop)`: start <= x < stop 범위의 1씩 증가하는 정수들을 차례로 반환.\n",
        "  * `range(start, stop, step)`:\n",
        "    * step > 0: start <= x < stop 범위의 step 만큼씩 증가하는 정수들을 차례로 반환.\n",
        "    * step < 0: start >= x > stop 범위의 step 만큼씩 감소하는 정수들을 차례로 반환"
      ],
      "metadata": {
        "id": "gc6KI77HL6lo"
      }
    },
    {
      "cell_type": "code",
      "source": [
        "for x in range(5): # 0 <= x < 5\n",
        "  print(x)"
      ],
      "metadata": {
        "colab": {
          "base_uri": "https://localhost:8080/"
        },
        "id": "V99wIzZgOfcJ",
        "outputId": "66f610f4-f556-41c5-9f30-01891300c446"
      },
      "execution_count": 1,
      "outputs": [
        {
          "output_type": "stream",
          "name": "stdout",
          "text": [
            "0\n",
            "1\n",
            "2\n",
            "3\n",
            "4\n"
          ]
        }
      ]
    },
    {
      "cell_type": "code",
      "execution_count": 3,
      "metadata": {
        "colab": {
          "base_uri": "https://localhost:8080/"
        },
        "id": "GOn7qVzXLlo4",
        "outputId": "d2b2aad4-db8a-4f94-c060-92950d2257ab"
      },
      "outputs": [
        {
          "output_type": "stream",
          "name": "stdout",
          "text": [
            "1\n",
            "2\n",
            "3\n",
            "4\n",
            "5\n"
          ]
        }
      ],
      "source": [
        "for x in range(1, 6): # 1 <= x < 6\n",
        "  print(x)"
      ]
    },
    {
      "cell_type": "code",
      "source": [
        "for x in range(0, 11, 2): #(0, 2, 4, 6, 8, 10)\n",
        "  print(x)"
      ],
      "metadata": {
        "colab": {
          "base_uri": "https://localhost:8080/"
        },
        "id": "mFqNzw2PPNS4",
        "outputId": "fbaf44af-cf90-42d4-8f69-4efa9a775844"
      },
      "execution_count": 5,
      "outputs": [
        {
          "output_type": "stream",
          "name": "stdout",
          "text": [
            "0\n",
            "2\n",
            "4\n",
            "6\n",
            "8\n",
            "10\n"
          ]
        }
      ]
    },
    {
      "cell_type": "code",
      "source": [
        "for x in range(10, 0, -2): #(10, 8, 6, 4, 2)\n",
        "  print(x)"
      ],
      "metadata": {
        "colab": {
          "base_uri": "https://localhost:8080/"
        },
        "id": "a5lELIhEPZzg",
        "outputId": "ae217c98-b3e5-4aeb-a0b6-84db660a2ec8"
      },
      "execution_count": 7,
      "outputs": [
        {
          "output_type": "stream",
          "name": "stdout",
          "text": [
            "10\n",
            "8\n",
            "6\n",
            "4\n",
            "2\n",
            "0\n"
          ]
        }
      ]
    },
    {
      "cell_type": "markdown",
      "source": [
        "# 중첩 반복문\n",
        "\n",
        "```\n",
        "for x in iterable1:\n",
        "  for y in iterabel2:\n",
        "    코드 블록\n",
        "```\n"
      ],
      "metadata": {
        "id": "xrw4VVgjQMBR"
      }
    },
    {
      "cell_type": "markdown",
      "source": [
        "구구단 2단부터 9단까지 출력."
      ],
      "metadata": {
        "id": "UR2_iMsGQcnv"
      }
    },
    {
      "cell_type": "code",
      "source": [
        "for x in range(2, 10):\n",
        "  for y in range(1, 10):\n",
        "    print(f'{x} * {y} = {x * y}')\n",
        "  print('-' * 10)"
      ],
      "metadata": {
        "colab": {
          "base_uri": "https://localhost:8080/"
        },
        "id": "ogh_rLPWPy5n",
        "outputId": "19be15f0-b18d-4fb1-8710-f6f0c5651be4"
      },
      "execution_count": 9,
      "outputs": [
        {
          "output_type": "stream",
          "name": "stdout",
          "text": [
            "2 * 1 = 2\n",
            "2 * 2 = 4\n",
            "2 * 3 = 6\n",
            "2 * 4 = 8\n",
            "2 * 5 = 10\n",
            "2 * 6 = 12\n",
            "2 * 7 = 14\n",
            "2 * 8 = 16\n",
            "2 * 9 = 18\n",
            "----------\n",
            "3 * 1 = 3\n",
            "3 * 2 = 6\n",
            "3 * 3 = 9\n",
            "3 * 4 = 12\n",
            "3 * 5 = 15\n",
            "3 * 6 = 18\n",
            "3 * 7 = 21\n",
            "3 * 8 = 24\n",
            "3 * 9 = 27\n",
            "----------\n",
            "4 * 1 = 4\n",
            "4 * 2 = 8\n",
            "4 * 3 = 12\n",
            "4 * 4 = 16\n",
            "4 * 5 = 20\n",
            "4 * 6 = 24\n",
            "4 * 7 = 28\n",
            "4 * 8 = 32\n",
            "4 * 9 = 36\n",
            "----------\n",
            "5 * 1 = 5\n",
            "5 * 2 = 10\n",
            "5 * 3 = 15\n",
            "5 * 4 = 20\n",
            "5 * 5 = 25\n",
            "5 * 6 = 30\n",
            "5 * 7 = 35\n",
            "5 * 8 = 40\n",
            "5 * 9 = 45\n",
            "----------\n",
            "6 * 1 = 6\n",
            "6 * 2 = 12\n",
            "6 * 3 = 18\n",
            "6 * 4 = 24\n",
            "6 * 5 = 30\n",
            "6 * 6 = 36\n",
            "6 * 7 = 42\n",
            "6 * 8 = 48\n",
            "6 * 9 = 54\n",
            "----------\n",
            "7 * 1 = 7\n",
            "7 * 2 = 14\n",
            "7 * 3 = 21\n",
            "7 * 4 = 28\n",
            "7 * 5 = 35\n",
            "7 * 6 = 42\n",
            "7 * 7 = 49\n",
            "7 * 8 = 56\n",
            "7 * 9 = 63\n",
            "----------\n",
            "8 * 1 = 8\n",
            "8 * 2 = 16\n",
            "8 * 3 = 24\n",
            "8 * 4 = 32\n",
            "8 * 5 = 40\n",
            "8 * 6 = 48\n",
            "8 * 7 = 56\n",
            "8 * 8 = 64\n",
            "8 * 9 = 72\n",
            "----------\n",
            "9 * 1 = 9\n",
            "9 * 2 = 18\n",
            "9 * 3 = 27\n",
            "9 * 4 = 36\n",
            "9 * 5 = 45\n",
            "9 * 6 = 54\n",
            "9 * 7 = 63\n",
            "9 * 8 = 72\n",
            "9 * 9 = 81\n",
            "----------\n"
          ]
        }
      ]
    },
    {
      "cell_type": "markdown",
      "source": [
        "문자열에서 사용 가능한 산술 연산자:\n",
        "* 문자열 `+` 문자열: 문자열 이어붙이기(concatenate)\n",
        "* 문자열 `*` 정수:  문자열 (정수만큼) 반복해서 복사하기"
      ],
      "metadata": {
        "id": "aBBokCWZTBAG"
      }
    },
    {
      "cell_type": "markdown",
      "source": [
        "# break와 continue\n",
        "\n",
        "* `break`: 반복(iteration)을 종료.break가 포함된 가장 가까운 반복문을 빠져나옴.\n",
        "* `continue`: 반복문 내부의 실행을 멈추고, 그 다음 iteration을 계속해서 수행."
      ],
      "metadata": {
        "id": "ijuIlz-DT3DO"
      }
    },
    {
      "cell_type": "code",
      "source": [
        "for x in range(5): #(0, 1, 2, 3, 4)\n",
        "  if x  == 2:\n",
        "    break\n",
        "  print(x)"
      ],
      "metadata": {
        "colab": {
          "base_uri": "https://localhost:8080/"
        },
        "id": "jpttxKNWQy_s",
        "outputId": "f9fd7e15-4cdb-416d-cee2-17c54564cb0e"
      },
      "execution_count": 11,
      "outputs": [
        {
          "output_type": "stream",
          "name": "stdout",
          "text": [
            "0\n",
            "1\n"
          ]
        }
      ]
    },
    {
      "cell_type": "code",
      "source": [
        "for x in range(5): #(0, 1, 2, 3, 4)\n",
        "  if x == 2:\n",
        "    continue\n",
        "  print(x)"
      ],
      "metadata": {
        "colab": {
          "base_uri": "https://localhost:8080/"
        },
        "id": "pXAw2G0VUo0r",
        "outputId": "21056744-f883-4825-a5b0-e6564bbb03de"
      },
      "execution_count": 13,
      "outputs": [
        {
          "output_type": "stream",
          "name": "stdout",
          "text": [
            "0\n",
            "1\n",
            "3\n",
            "4\n"
          ]
        }
      ]
    },
    {
      "cell_type": "markdown",
      "source": [
        "다음과 같이 출력.\n",
        "\n",
        "```\n",
        "2 * 1 = 2\n",
        "2 * 2 = 4\n",
        "-------\n",
        "3 * 1 = 3,\n",
        ".\n",
        ".\n",
        ".\n",
        "------\n",
        ".\n",
        "5 * 5 = 25\n",
        "```"
      ],
      "metadata": {
        "id": "bvgNQh5SWQ2V"
      }
    },
    {
      "cell_type": "code",
      "source": [
        "for x in range(2, 6): #(2, 3, 4, 5)\n",
        "  for y in range(1,6): #(1, 2, 3, 4, 5)\n",
        "    print(f'{x} * {y} = {x * y}')\n",
        "    if x == y:\n",
        "      break\n",
        "  print('-' * 10)"
      ],
      "metadata": {
        "colab": {
          "base_uri": "https://localhost:8080/"
        },
        "id": "M1kUi2vwVaum",
        "outputId": "4b741d46-40d0-43b6-bc72-8a8d1cc382bb"
      },
      "execution_count": 19,
      "outputs": [
        {
          "output_type": "stream",
          "name": "stdout",
          "text": [
            "2 * 1 = 2\n",
            "2 * 2 = 4\n",
            "----------\n",
            "3 * 1 = 3\n",
            "3 * 2 = 6\n",
            "3 * 3 = 9\n",
            "----------\n",
            "4 * 1 = 4\n",
            "4 * 2 = 8\n",
            "4 * 3 = 12\n",
            "4 * 4 = 16\n",
            "----------\n",
            "5 * 1 = 5\n",
            "5 * 2 = 10\n",
            "5 * 3 = 15\n",
            "5 * 4 = 20\n",
            "5 * 5 = 25\n",
            "----------\n"
          ]
        }
      ]
    },
    {
      "cell_type": "code",
      "source": [
        "for x in range(2, 6): #(2, 3, 4, 5)\n",
        "  for y in range(1,x + 1): #(1, 2, 3, 4, 5)\n",
        "    print(f'{x} * {y} = {x * y}')\n",
        "  print('-' * 10)"
      ],
      "metadata": {
        "colab": {
          "base_uri": "https://localhost:8080/"
        },
        "id": "K9Nux1R6W30P",
        "outputId": "bb3508ce-3c2b-4f85-caa4-d9db5436f3f8"
      },
      "execution_count": 21,
      "outputs": [
        {
          "output_type": "stream",
          "name": "stdout",
          "text": [
            "2 * 1 = 2\n",
            "2 * 2 = 4\n",
            "----------\n",
            "3 * 1 = 3\n",
            "3 * 2 = 6\n",
            "3 * 3 = 9\n",
            "----------\n",
            "4 * 1 = 4\n",
            "4 * 2 = 8\n",
            "4 * 3 = 12\n",
            "4 * 4 = 16\n",
            "----------\n",
            "5 * 1 = 5\n",
            "5 * 2 = 10\n",
            "5 * 3 = 15\n",
            "5 * 4 = 20\n",
            "5 * 5 = 25\n",
            "----------\n"
          ]
        }
      ]
    },
    {
      "cell_type": "markdown",
      "source": [
        "# while 반복문\n",
        "\n",
        "```\n",
        "[초기화 문장]\n",
        "while 조건식:\n",
        "  반복할 코드 블록\n",
        "  [조건(변수)를 변경하는 문장]\n",
        "```"
      ],
      "metadata": {
        "id": "WUKfhx_cc8hT"
      }
    },
    {
      "cell_type": "markdown",
      "source": [
        "다음과 같이 출력하는 코드를 while 문으로 작성.\n",
        "\n",
        "```\n",
        "*\n",
        "**\n",
        "***\n",
        "****\n",
        "*****\n",
        "```"
      ],
      "metadata": {
        "id": "3cHZkZamdjOb"
      }
    },
    {
      "cell_type": "code",
      "source": [
        "n = 1\n",
        "while n <= 5: # while n < 6:\n",
        "  print('*' * n)\n",
        "  n += 1 # n = n + 1  #파이썬은 ++, -- 연산자는 없음\n",
        ""
      ],
      "metadata": {
        "colab": {
          "base_uri": "https://localhost:8080/"
        },
        "id": "nNdlGGMedtWF",
        "outputId": "bcd55053-a239-4588-ec90-0c24d97d58ab"
      },
      "execution_count": 25,
      "outputs": [
        {
          "output_type": "stream",
          "name": "stdout",
          "text": [
            "*\n",
            "**\n",
            "***\n",
            "****\n",
            "*****\n"
          ]
        }
      ]
    },
    {
      "cell_type": "code",
      "source": [
        "n = 1\n",
        "while n < 10:\n",
        "  print(n)\n",
        "  n += 2\n",
        "\n"
      ],
      "metadata": {
        "colab": {
          "base_uri": "https://localhost:8080/"
        },
        "id": "0M3Pg-zmhA5C",
        "outputId": "8dc1242d-6268-45af-864e-c920cdea75ba"
      },
      "execution_count": 29,
      "outputs": [
        {
          "output_type": "stream",
          "name": "stdout",
          "text": [
            "1\n",
            "3\n",
            "5\n",
            "7\n",
            "9\n"
          ]
        }
      ]
    }
  ]
}