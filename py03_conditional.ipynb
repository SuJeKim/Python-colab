{
  "nbformat": 4,
  "nbformat_minor": 0,
  "metadata": {
    "colab": {
      "provenance": [],
      "authorship_tag": "ABX9TyO2waAj+jvKmr6nvas/RQ+r",
      "include_colab_link": true
    },
    "kernelspec": {
      "name": "python3",
      "display_name": "Python 3"
    },
    "language_info": {
      "name": "python"
    }
  },
  "cells": [
    {
      "cell_type": "markdown",
      "metadata": {
        "id": "view-in-github",
        "colab_type": "text"
      },
      "source": [
        "<a href=\"https://colab.research.google.com/github/SuJeKim/Python-colab/blob/main/py03_conditional.ipynb\" target=\"_parent\"><img src=\"https://colab.research.google.com/assets/colab-badge.svg\" alt=\"Open In Colab\"/></a>"
      ]
    },
    {
      "cell_type": "markdown",
      "source": [
        "# else가 없는 조건문\n",
        "\n",
        "```\n",
        "if 조건식:\n",
        "    조건식이 참일 떄 실행할 코드(블록)\n",
        "```\n",
        "* `if 조건식` 뒤에는 반드시 콜론(:)을 사용해야 함.\n",
        "* 코드 블록을 작성할 때 `{}`를 사용하지 않음.\n",
        "* `if` 블록 안의 문자들은 반드시 **같은 크기로 들여쓰기(indentaiton)**을 해야 함.\n",
        "  * IndentationError -> 같은 크기로 들여 쓰기를 안 할 경우 문법 오류임\n",
        "\n",
        "+ html 코드 `<pre></pre>` 안에 값들은 따로 </hr> 없어도 줄 바꿈 됨."
      ],
      "metadata": {
        "id": "OdZUXS1exWZ-"
      }
    },
    {
      "cell_type": "code",
      "execution_count": null,
      "metadata": {
        "id": "QI2MNXhMxI8d"
      },
      "outputs": [],
      "source": [
        "n = 100"
      ]
    },
    {
      "cell_type": "code",
      "source": [
        "if n > 0:\n",
        "    print('양수')\n",
        "    print('if 블록 끝')\n",
        "\n",
        "print('if 블록 바깥')  # if 블록과 상관없이 무조건 실행하는 문장."
      ],
      "metadata": {
        "colab": {
          "base_uri": "https://localhost:8080/"
        },
        "id": "DUhmcK6kzNfI",
        "outputId": "a5854a59-3dd0-4139-d6c4-4d4cd2b01257"
      },
      "execution_count": null,
      "outputs": [
        {
          "output_type": "stream",
          "name": "stdout",
          "text": [
            "양수\n",
            "if 블록 끝\n",
            "if 블록 바깥\n"
          ]
        }
      ]
    },
    {
      "cell_type": "markdown",
      "source": [
        "# else가 있는 조건문\n",
        "\n",
        "```\n",
        "if 조건식:\n",
        "  참일 떄 실행할 코드 블록\n",
        "else:\n",
        "  거짓일 때 실행할 코드 블록\n",
        "```\n",
        "* else는 if와 같은 위치에 존재하야 함."
      ],
      "metadata": {
        "id": "vCMbbuN100U2"
      }
    },
    {
      "cell_type": "code",
      "source": [
        "n = 123\n",
        "if n % 2: # 자바에서는 boolean 타입이어야만 한데, 파이썬, js은 다른 타입도 가능함.\n",
        "  print('홀수')\n",
        "else:\n",
        "  print('짝수')"
      ],
      "metadata": {
        "colab": {
          "base_uri": "https://localhost:8080/"
        },
        "id": "JhT89bbwzn32",
        "outputId": "bf98a5c7-7016-4b74-8416-f6081db1dc82"
      },
      "execution_count": null,
      "outputs": [
        {
          "output_type": "stream",
          "name": "stdout",
          "text": [
            "홀수\n"
          ]
        }
      ]
    },
    {
      "cell_type": "markdown",
      "source": [
        "javaScript, 파이썬에서 참(True)로 취급하는 값:\n",
        "* 0이 아닌 숫자들.\n",
        "* 1개 이상의 문자를 가지고 있는 문자열.\n",
        "   * 비어 있는 문자열이면: False\n",
        "* 1개 이상의 원소를 가지고 있는 리스트(와 비슷한 객체)\n"
      ],
      "metadata": {
        "id": "qGjfWGkf2PZt"
      }
    },
    {
      "cell_type": "markdown",
      "source": [
        "# chained coditional\n",
        "else if == elif\n",
        "\n",
        "\n",
        "```\n",
        "if 조건식1:\n",
        "  조건식1이 참일 때 실행할 코드 블록\n",
        "elif 조건식2:\n",
        "  조건식1이 거짓이고, 조건식2가 참일 때 실행할 코드 블록\n",
        "....\n",
        "else:\n",
        "  위의 모든 조건이 거짓일 때 실행할 코드 블록\n",
        "```"
      ],
      "metadata": {
        "id": "ULadsjOv29cV"
      }
    },
    {
      "cell_type": "markdown",
      "source": [
        "Ex1. 정수 3개를 입력받고 변수에 저장. 평균이 90 이상이면 'A', 80이상이면 'B', 70이상이면 'C', 70미만이면 'F'를 출력."
      ],
      "metadata": {
        "id": "PJQ1u1qe34wM"
      }
    },
    {
      "cell_type": "code",
      "source": [
        "x = input('x = ')\n",
        "y = input('y = ')\n",
        "z = int(input('z = '))\n",
        "c = int(x) + int(y) + z / 3\n",
        "print(f' c = {c}')\n",
        "if c >=  90:\n",
        "  print('A')\n",
        "elif c >= 80:\n",
        "  print('B')\n",
        "elif c >= 70:\n",
        "  print('C')\n",
        "else:\n",
        "  print('F')"
      ],
      "metadata": {
        "colab": {
          "base_uri": "https://localhost:8080/"
        },
        "id": "Cv_Ijsdu1rk0",
        "outputId": "759b6083-314d-4cfb-b559-efa1ab7ab238"
      },
      "execution_count": null,
      "outputs": [
        {
          "output_type": "stream",
          "name": "stdout",
          "text": [
            "x = 100\n",
            "y = 2\n",
            "z = 34\n",
            " c = 113.33333333333333\n",
            "A\n"
          ]
        }
      ]
    }
  ]
}