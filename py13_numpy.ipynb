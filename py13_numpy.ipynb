{
  "nbformat": 4,
  "nbformat_minor": 0,
  "metadata": {
    "colab": {
      "provenance": [],
      "authorship_tag": "ABX9TyPw5vZGyN5lCdxY/cZauloq",
      "include_colab_link": true
    },
    "kernelspec": {
      "name": "python3",
      "display_name": "Python 3"
    },
    "language_info": {
      "name": "python"
    }
  },
  "cells": [
    {
      "cell_type": "markdown",
      "metadata": {
        "id": "view-in-github",
        "colab_type": "text"
      },
      "source": [
        "<a href=\"https://colab.research.google.com/github/SuJeKim/Python-colab/blob/main/py13_numpy.ipynb\" target=\"_parent\"><img src=\"https://colab.research.google.com/assets/colab-badge.svg\" alt=\"Open In Colab\"/></a>"
      ]
    },
    {
      "cell_type": "markdown",
      "source": [
        "# 데이터 분석 패키지\n",
        "\n",
        "Google Colab에는 데이터 분석과 머신 러닝에 필요한 대부분의 패키지들이 이미 설치가 되어 있음.\n",
        "\n",
        "* NumPy: 다차원 배열(n-dimensional array)을 다루는 패키지. 머신 러닝에서 중요하게 사용됨.\n",
        "* pandas: 시리즈(Series), 데이터프레임(DataFrame)을 다루는 패키지.\n",
        "  * Series -> 넘파이의 1차원 구조를 이용해 만듦\n",
        "  * DataFrame -> 넘파이의 2차원 구조를 이용해 만듦\n",
        "  * 데이터 분석에서 기본으로 사용되는 패키지.\n",
        "* matplotlib: 데이터 시각화(그래프).\n",
        "* seaborn: 데이터 시각화. 통계 작업.\n"
      ],
      "metadata": {
        "id": "xAvbi0_4VhLs"
      }
    },
    {
      "cell_type": "code",
      "execution_count": 1,
      "metadata": {
        "id": "nyQtbGwHVJq-"
      },
      "outputs": [],
      "source": [
        "# as 변수: 라이브러리 별명\n",
        "import numpy as np\n",
        "import pandas as pd\n",
        "import matplotlib as mpl\n",
        "import seaborn as sns"
      ]
    },
    {
      "cell_type": "code",
      "source": [
        "print('Numbpy version:', np.__version__) # 모든 모듈들은 __version__ 다음과 같은 버전 확인 메서드를 가지고 있음"
      ],
      "metadata": {
        "colab": {
          "base_uri": "https://localhost:8080/"
        },
        "id": "nNFu4fKgbNKj",
        "outputId": "17e3dd94-9b2a-4ed8-9402-ab82cf1afdc1"
      },
      "execution_count": 2,
      "outputs": [
        {
          "output_type": "stream",
          "name": "stdout",
          "text": [
            "Number version: 1.22.4\n"
          ]
        }
      ]
    },
    {
      "cell_type": "code",
      "source": [
        "print('Pandas version:', pd.__version__)\n",
        "print('Matplotlib version:', mpl.__version__)\n",
        "print('Seaborn version:', sns.__version__)"
      ],
      "metadata": {
        "colab": {
          "base_uri": "https://localhost:8080/"
        },
        "id": "_Uq4Qw-MbfuM",
        "outputId": "8527f1be-563f-4859-efcf-41e23785d9bf"
      },
      "execution_count": 4,
      "outputs": [
        {
          "output_type": "stream",
          "name": "stdout",
          "text": [
            "Pandas version: 1.5.3\n",
            "Matplotlib version: 3.7.1\n",
            "Seaborn version: 0.12.2\n"
          ]
        }
      ]
    },
    {
      "cell_type": "markdown",
      "source": [
        "# Python `list` class\n",
        "\n",
        "* 여러 개의 값들을 저장할 수 있는 데이터 타입.\n",
        "* 인덱스를 기반으로 값들을 저장, 참조하는 데이터 타입.\n",
        "  * indexing: 인덱스를 사용해서 원하는 위치의 값을 참조, 변경\n",
        "  * slicing: `[start, end)` 인덱스 범위의 값들로 이루어진 부분집합을 잘라내는 방법.\n",
        "* `list + list`: 2개의 리스트를 이어붙이기(concatenate).\n",
        "* `list * int`, `int * list`: 리스트의 원소들을 정수만큼 반복해서 복제(replicate)"
      ],
      "metadata": {
        "id": "4d_Bu6XBcKvc"
      }
    },
    {
      "cell_type": "code",
      "source": [
        "list1 = [1, 2, 3, 4]\n",
        "list2 = [10, 20 ,30, 40]\n"
      ],
      "metadata": {
        "id": "OTfWG-XCbnnm"
      },
      "execution_count": 5,
      "outputs": []
    },
    {
      "cell_type": "code",
      "source": [
        "# indexing:\n",
        "print(list1[0]) # list1의 첫번째 원소\n",
        "print(list1[3], list1[-1]) # list1의 마지막 원소"
      ],
      "metadata": {
        "colab": {
          "base_uri": "https://localhost:8080/"
        },
        "id": "hI3NWTtGdTEZ",
        "outputId": "c8fe56c2-8bc7-460b-9445-e85d84c8b7c3"
      },
      "execution_count": 6,
      "outputs": [
        {
          "output_type": "stream",
          "name": "stdout",
          "text": [
            "1\n",
            "4 4\n"
          ]
        }
      ]
    },
    {
      "cell_type": "code",
      "source": [
        "# slicing\n",
        "print(list1[:3]) # list1에서 앞에서 3개 원소 자르기\n",
        "print(list1[-3:]) # list1에서 뒤에서 3개 원소 자르기"
      ],
      "metadata": {
        "colab": {
          "base_uri": "https://localhost:8080/"
        },
        "id": "Qc75PQvmdiAB",
        "outputId": "9623864b-af4f-417e-93e9-be7e592e30d0"
      },
      "execution_count": 7,
      "outputs": [
        {
          "output_type": "stream",
          "name": "stdout",
          "text": [
            "[1, 2, 3]\n",
            "[2, 3, 4]\n"
          ]
        }
      ]
    },
    {
      "cell_type": "code",
      "source": [
        "list1 + list2"
      ],
      "metadata": {
        "colab": {
          "base_uri": "https://localhost:8080/"
        },
        "id": "zBby9LTcd045",
        "outputId": "9b910c14-4c17-46db-deb3-a2de5004b30a"
      },
      "execution_count": 8,
      "outputs": [
        {
          "output_type": "execute_result",
          "data": {
            "text/plain": [
              "[1, 2, 3, 4, 10, 20, 30, 40]"
            ]
          },
          "metadata": {},
          "execution_count": 8
        }
      ]
    },
    {
      "cell_type": "code",
      "source": [
        "list1 * 3"
      ],
      "metadata": {
        "colab": {
          "base_uri": "https://localhost:8080/"
        },
        "id": "pPz0KEFUd41I",
        "outputId": "34d33aff-7097-4970-9beb-01bc5ed6bd37"
      },
      "execution_count": 9,
      "outputs": [
        {
          "output_type": "execute_result",
          "data": {
            "text/plain": [
              "[1, 2, 3, 4, 1, 2, 3, 4, 1, 2, 3, 4]"
            ]
          },
          "metadata": {},
          "execution_count": 9
        }
      ]
    },
    {
      "cell_type": "code",
      "source": [
        "# list1, list2에서 같은 인덱스 위치의 원소들끼리 덧셈.\n",
        "[x + y for x,y in zip(list1,list2)]"
      ],
      "metadata": {
        "colab": {
          "base_uri": "https://localhost:8080/"
        },
        "id": "pD0nFI78eATW",
        "outputId": "ed5f388c-5c2b-4b7b-e1aa-f80fa9c3cc8a"
      },
      "execution_count": 10,
      "outputs": [
        {
          "output_type": "execute_result",
          "data": {
            "text/plain": [
              "[11, 22, 33, 44]"
            ]
          },
          "metadata": {},
          "execution_count": 10
        }
      ]
    },
    {
      "cell_type": "code",
      "source": [
        "# list1의 모든 원소에 3을 곱합.\n",
        "[3 * x for x in list1]"
      ],
      "metadata": {
        "colab": {
          "base_uri": "https://localhost:8080/"
        },
        "id": "P7NebfJ3eWlb",
        "outputId": "ee068c95-d5ef-4857-9bc6-b880f0c6abdc"
      },
      "execution_count": 11,
      "outputs": [
        {
          "output_type": "execute_result",
          "data": {
            "text/plain": [
              "[3, 6, 9, 12]"
            ]
          },
          "metadata": {},
          "execution_count": 11
        }
      ]
    },
    {
      "cell_type": "markdown",
      "source": [
        "# NumPy\n",
        "* 배열(ndarray)을 쉽고 빠르게 연산(+, -, *, /, //, %)을 수행하는 라이브러리\n",
        "* NumPy 패키지의 함수 또는 메서드들을 대부분 반복문의 기능을 가지고 있음.\n",
        "* np.ndarray 클래스: NumPy 패키지에서 기본 타입 클래스. n차원 배열.\n",
        "\n",
        "(n-dimensional array).\n",
        "  * `ndarray`는 같은 인덱스(위치)에 있는 원소들끼리 연산을 수행."
      ],
      "metadata": {
        "id": "vbDi42NUilBt"
      }
    },
    {
      "cell_type": "code",
      "source": [
        "array1 = np.array([1, 2, 3]) # python의 list객체를 numpy의 ndarray 객체로 변환."
      ],
      "metadata": {
        "id": "AcThl0F8ed7m"
      },
      "execution_count": 12,
      "outputs": []
    },
    {
      "cell_type": "code",
      "source": [
        "type(array1)"
      ],
      "metadata": {
        "colab": {
          "base_uri": "https://localhost:8080/"
        },
        "id": "Vz3KS6eRkZmM",
        "outputId": "7ed06362-e337-4673-bdc6-6c56bcfc6026"
      },
      "execution_count": 13,
      "outputs": [
        {
          "output_type": "execute_result",
          "data": {
            "text/plain": [
              "numpy.ndarray"
            ]
          },
          "metadata": {},
          "execution_count": 13
        }
      ]
    },
    {
      "cell_type": "code",
      "source": [
        "#  ndarray는 출력 방식이 2가지임. -> class 설명 참고.\n",
        "print(array1) # print() 함수는 __str__ 메서드의 리턴값을 출력"
      ],
      "metadata": {
        "colab": {
          "base_uri": "https://localhost:8080/"
        },
        "id": "GNWHwBGakbTk",
        "outputId": "ac7a5a96-2cb6-4732-e0e3-cf816e4903dc"
      },
      "execution_count": 14,
      "outputs": [
        {
          "output_type": "stream",
          "name": "stdout",
          "text": [
            "[1 2 3]\n"
          ]
        }
      ]
    },
    {
      "cell_type": "code",
      "source": [
        "array1 # expression은 __repr__ 메서드의 리턴값을 출력."
      ],
      "metadata": {
        "colab": {
          "base_uri": "https://localhost:8080/"
        },
        "id": "zqeWc7nxkfcz",
        "outputId": "454dd4a7-88d7-4645-e27a-bbb8d3edb6ac"
      },
      "execution_count": 15,
      "outputs": [
        {
          "output_type": "execute_result",
          "data": {
            "text/plain": [
              "array([1, 2, 3])"
            ]
          },
          "metadata": {},
          "execution_count": 15
        }
      ]
    },
    {
      "cell_type": "code",
      "source": [
        "array2 = np.array([4, 5, 6])"
      ],
      "metadata": {
        "id": "ud82Zk9rl743"
      },
      "execution_count": 18,
      "outputs": []
    },
    {
      "cell_type": "code",
      "source": [
        "# ndarray의 사칙연산 - 같은 인덱스의 원소들끼리(element-wise) 연산 수행\n",
        "print(array1 + array2)\n",
        "print(array1 - array2)\n",
        "print(array1 * array2)\n",
        "print(array1 / array2)"
      ],
      "metadata": {
        "colab": {
          "base_uri": "https://localhost:8080/"
        },
        "id": "y5rZ8cs3ktMb",
        "outputId": "64bb3590-b339-4144-dac8-eb7405e4c74d"
      },
      "execution_count": 19,
      "outputs": [
        {
          "output_type": "stream",
          "name": "stdout",
          "text": [
            "[5 7 9]\n",
            "[-3 -3 -3]\n",
            "[ 4 10 18]\n",
            "[0.25 0.4  0.5 ]\n"
          ]
        }
      ]
    },
    {
      "cell_type": "markdown",
      "source": [
        "## `ndarray`클래스의 속성들"
      ],
      "metadata": {
        "id": "CuRRxBpumYTl"
      }
    },
    {
      "cell_type": "code",
      "source": [
        "print(array1)\n",
        "print('ndim:', array1.ndim) # 차원(dimesion). 배열의 축(axis)의 개수. 축: 인덱스를 매기는 방향\n",
        "print('size:', array1.size) # 배열의 크기. 원소 개수\n",
        "print('shape:', array1.shape) # 배열의 모양. 각 차원에서의 원소 개수. -> 원소 1개짜리 tuple\n",
        "print('dtype:', array1.dtype) # 배열 원소의 데이터 타입."
      ],
      "metadata": {
        "colab": {
          "base_uri": "https://localhost:8080/"
        },
        "id": "IKKldwS3loXp",
        "outputId": "4442259f-278a-4a7d-ff9e-a4023110d44a"
      },
      "execution_count": 24,
      "outputs": [
        {
          "output_type": "stream",
          "name": "stdout",
          "text": [
            "[1 2 3]\n",
            "ndim: 1\n",
            "size: 3\n",
            "shape: (3,)\n",
            "dtype: int64\n"
          ]
        }
      ]
    },
    {
      "cell_type": "markdown",
      "source": [
        "* `ndarray`는 한 가지 타입의 데이터들만 저장할 수 있는 데이터 타입 - `list`와 다른 점.\n",
        "* numpy\n",
        "정수 타입: int8, int16, int32\n",
        "실수 타입: float16, float32\n"
      ],
      "metadata": {
        "id": "Zszwb4zWoNR-"
      }
    },
    {
      "cell_type": "markdown",
      "source": [
        "## 2차원 배열"
      ],
      "metadata": {
        "id": "fWt76x9Wo1fE"
      }
    },
    {
      "cell_type": "code",
      "source": [
        "array_2d = np.array([\n",
        "    [1, 2, 3, 4],\n",
        "    [5, 6, 7, 8],\n",
        "    [9, 10, 11, 12]\n",
        "])"
      ],
      "metadata": {
        "id": "EZVSB7YSmfs3"
      },
      "execution_count": 25,
      "outputs": []
    },
    {
      "cell_type": "code",
      "source": [
        "type(array_2d)"
      ],
      "metadata": {
        "colab": {
          "base_uri": "https://localhost:8080/"
        },
        "id": "pMSkUTNnpV1w",
        "outputId": "9d42d924-74ac-4673-fefb-0364954e685f"
      },
      "execution_count": 26,
      "outputs": [
        {
          "output_type": "execute_result",
          "data": {
            "text/plain": [
              "numpy.ndarray"
            ]
          },
          "metadata": {},
          "execution_count": 26
        }
      ]
    },
    {
      "cell_type": "code",
      "source": [
        "print(array_2d)"
      ],
      "metadata": {
        "colab": {
          "base_uri": "https://localhost:8080/"
        },
        "id": "eBKCI3VepXSz",
        "outputId": "a84efb96-481a-4026-90d8-73cc9910ae7b"
      },
      "execution_count": 27,
      "outputs": [
        {
          "output_type": "stream",
          "name": "stdout",
          "text": [
            "[[ 1  2  3  4]\n",
            " [ 5  6  7  8]\n",
            " [ 9 10 11 12]]\n"
          ]
        }
      ]
    },
    {
      "cell_type": "code",
      "source": [
        "array_2d"
      ],
      "metadata": {
        "colab": {
          "base_uri": "https://localhost:8080/"
        },
        "id": "RcDJjNe3pdgK",
        "outputId": "250cf9b9-3bb3-4efc-b02f-e44049697d06"
      },
      "execution_count": 28,
      "outputs": [
        {
          "output_type": "execute_result",
          "data": {
            "text/plain": [
              "array([[ 1,  2,  3,  4],\n",
              "       [ 5,  6,  7,  8],\n",
              "       [ 9, 10, 11, 12]])"
            ]
          },
          "metadata": {},
          "execution_count": 28
        }
      ]
    },
    {
      "cell_type": "markdown",
      "source": [
        "![image.png](data:image/png;base64,iVBORw0KGgoAAAANSUhEUgAAArgAAAGJCAYAAABhDkC6AAAAAXNSR0IArs4c6QAAAARnQU1BAACxjwv8YQUAAAAJcEhZcwAADsMAAA7DAcdvqGQAABOqSURBVHhe7d3NaxxbesDhamUhDdhgY4zjDIEszEAMIdc3i8AsQ+avnpBlIIuYCQEHsgqEiWPMxReshSxZUnw0fa6Py6fVH9Xddeqt57m8qNWWpZa6VfW7x9XVi/Pz89svujQ3Nze/vO3P58+fu6urq+7y8rK7uLjoXr161f3LH/67AwCAlpws3wIAQAgCFwCAUPZ+iMJvf/ir5SUAADg+K7gAAIQicAEACEXgAgAQisAFACAUgXski8VieQkAgEMSuAAAhCJwAQAIReACABCKwAUAIBSBCwBAKAKXyUhnolg1AACZwKV5OWJvb29XjtAFADKBu0YOp/5wHOlnnSP2PkIXAMgEbk8OpDw5nPrD4eWf/zby/ZPvPwBgfgRuoRa0bCYH5b7CMt8Xu8r33z5uCwAwLQL3ixxlgnaYHJU5LPOMqbwtAMA8zDpwc/jkKDum6NGVf6bbBmb+2H3eH+XtAADim23g5ojaZ0jtYg7RtW1gjn2fAADTNsvA3fcK4bZaievWjH2/AAAxOAb3yPoRly5vurLJMH7WADAPAnfCUqztMnMmcgEgvtkFboqb1v4ZfEh0pb+77QAARDarwG0xbncV6XtJon0/AMB4HKLQiBR3u67iAgDw1cnZ2VlXzunp6TdTuy4NAAC0yApuQyKv4joEAQA4llk+yWwsm0TeFCM33970dtWIWwDgWAYFbsqa/rRMZB1G/rmmt6tmUymGAQCGGLaC26/bCbRJiq28qtiqfBsPrfWfAwDALmZ5DG5eVcyBd6zI22Ylc67698u+75tj3dcAwHhm/SSzHLplVM1N/t5bUt4v5X2zj8mfHwCIa9aBW+rH1NjybVll3Z9Hku+bfQ0AEJvA7ckRNIXI3ZdWvl8AgH0YGLgpivoTwxSib5+3UeQCAFHMdgU3xdy6acG68BSmAADfmm3gpjDcZOYkfb9jxfKYXxsAiMUxuAHsMw7z5xKbAMBUCdwjmdJqcLqt20bzlL4/ACA2gctK20buUMf+egBATAJ3AjYJv0PF4ViRK3QBgF0JXNYaI3IBAHYlcNnIsSMXAGBXAnciNlnVPHSE3vf59/11BTUAsCuBy1aOGZ4iFwDYhcAN5hhRmL9GnkMqvxYAwCYEbkDHitw8x/paQhcA2ITADWpdeKY/Sx+zDzlADy1/HaELANxH4AaWYzCafujWBgCYL4HLZOXQrY3gBYD5ErjBlbE31JRCMWLwTvV2A8CxCdw96kdUOWNKgZfk25He5uvmoozdQ3zv5X19iEnmdp8BwK4E7h7kCOlHVDljy7cj3072Z919v4/Jj7H+AADfE7hbqkVGjpApmMrt5Fv5Mdaf/BgEAL4SuBvqx2w5cGj58defrPZntQGAORC4a+QwELOMof/4u2/61v05AEQlcFcQthxbfsyVs83jL39snvT3S7XrACAigftFGRR5ciTAIdz3mCtniPT30+ftq10HAJEI3C/6ITE0LGCdHLDlHEL6vGXQHurrAEBLZh+4tdUzK1xEkh/THtcAzMWgwE27y/5MSRm2pSlFrmhhE/3HOABENtsV3By3q+TIFZAAANMyu8DN0brJilb6mDJ0xS5T5zEMwBwMC9y0r+xPw3LYbhK3pfx3ytido/z9AwC0bDYruDluhxK69E0p/MvHLwBENYvA3VfclspQEAu0Kj8+D/E7AACtCh+4h96xC11alx+jADAXs3uS2aHMJXTz90jb8uNwVdi6HwGI7OTi4qIr59OnT99M7bo0U3DfDv5Q0tfL8VAb2Jfa4ytPfhzeJz9OASCaECu45Y49yzv5seTA6E95W8vby7Tl+/YY8mOn/9gqBwDmLETgljv2MhzLy60ob2t5e1u8raUp3Max5ftzX8qfeTlZ7c/6AwBzFO4Y3BQZ+e2qiKzNWMrbmWYb6Xbn7+9Q8s9n19vI7sqf+a4DAHMU8klm/R17f6dfmxxyh5pDyrd/nf5t2mTyz6e06dejfe7L/St/f/IAcFwDAzdtuPszTTnkNp1t/86hpa+xbkfav02bDPGl+1mE7ceqn2MO3VUDwH6FXMGFMYkWtlXGbm0A2I7ADeSYK3FW/erKle8yUMYY4qjdv/0B4CuBG4zwbEMO3TGnH0D9IZbafVwOwJwIXHaWI4o29YO3PxxHKz/rfvD2ByASgRtQ2qHaYUE7yv+xqE0L+sHbH4ApEbhBpZ2mndL09KPiWDPm1440u+oHb39aUPt+ywFoicCtiLKxTjtGO57pcF+xSj94+9OCHLqrBuCYBO4M2MFAbLXo7c/YytitDcA+CdwJ22SnVe7g7ExgvsptQW3GVm6fagOwDYE7I+WOzA4DDq+FcNxU3j6smrH1g7c/ACWBO0Ot7LBYrwwMM72JpPb9lTO2WvSWA8yLwF3BBhFgc7XoLWds/eDtDxCLwK3IG2QbQYD9KGO3NmOrbe/TANMkcO9R2wjb6AHsX217W85YbO9hmgTulsqNrdgFOI4ydmsDUBK4A+QNq9AFOLy8ra0NQEng7kE/dG10AbZT2372ZwxWh2GaBO6Oahu9HLrl1DbSqwYgqto2r5wW1LbhwDQNCty0SeoP36ptMFcNwFTVorWcFtS2u+UAcVjBhYbVQsFMZyKpfX/ltKAWreUA8yFwAQ6klfDbRD9Y+9OCWrSWA5AJXIAZqEVrOWOrBWt/ADY1LHDTNrE/ABxdLVrLGVstWMsB2CcruNAIO3nuU4vWcsbWD9b+AByTwIWG1MLATGeGqEVrOWOrfb/lALRE4AIcQS1ayxlbLVrLAZgSgQtwQAIW4PgELoPYMUIb+sHaH4A5EbgAE1CL1nIA+Ork7OysK+f09PSbqV2XBoD9qUVrOQBszgouwJ7cF6L9YO0PAPsjcAH2qBavaQA4HoELAEAoAhcAgFAELgAAoQhcAABCEbgAAIQyMHDTy0/2BwAAxmMFFwCAUAQuAAChCFwAAEIRuAAAhLL4/PnzbX4pyZubm+8mXX99fd19+bju6uqqu7y87C4uLrqXL192//of/7P8NF/9/d/85fISTN9i4YmTALTBy35vzgouAAChCFwAAEIRuAAAhCJwAQAIxZPM4B61J5k5yL896X5yv0yT+y4W9+f+2P8MYwUXAIBQBC4AAKEMCty0eN4fAGB+HJ5AS6zgTkTacBxiAACiEbiNyyGa/q/4ECNyAYBoBG7DyrA9lBy55QAATJnAnakyZHNE5xG5AMCUCVy+U67qAsA6aX+R9h3QimGBm/qnP4RgNRcAmCoruKwlcgGAKRG43Cv/k5PIBQCmQuCyluOqAIApEbgAAIQicBldOvxhlwEAqBG4jGpIqIpcAKBG4DbMaboAALYncAEACEXgzlBaFXZmBAAgKoHbuDkeppC+59oAAGxC4M6M1VsAIDqBy1qiGACYEoE7ASkuj32YQvp6ecQtADAlAncijh256evlAQCYEoHLSsdeNQYA2AeBOyHHWsV1aAIAMGUCd2KGRu6qaM1Rm8NW3AIAUyVwZ64ftcIWAJg6gTtBKULLFdc06/Q/Po+oBQCiGRi4Kaz6wzHkMM1Ti9dy+h+fBwAgGiu4QdTitRwAgLkQuAAAhCJwAQAIReACABCKwAUAIBSBCwDsLJ+pB1oyKHCdJAwAgNZYwQUAIBSBCwBAKAIXAIBQBC4AAKEIXAAAQhG4AACEMixwnScMAIDGWMEFACAUgQsAQCgCFwCAUAQuAAChCFwAAEIRuAAAhCJwAQAIReACADtZLBbd7e3t8j1oh8AFACAUgQsAQCgCFwCAUAQuAAChnFxcXHTlfPr06ZupXZcGAABaZAUXAIBQBC4AAKEIXAAAQhG4AACEInABAAhF4AIAEIrABQAgFIELAEAoAhcAgFAELgAAoQhcAABCGRS4i8p/AAAwJiu4AMDWFotFd3t7u3wP2iJwAQAIReACABCKwAUAIBSBCwBAKAIXAIBQBC4AAKEMC9x02tv+AADAiKzgAgAQisAFACAUgctRpVe+KWeofX4uACAGgcvRHDpChS4AkAhcjuKY4SlyAWDeBC4AAKEIXJpye3u7vPS9+/4MACATuIwqRWs56/Q/fpO/AwDMi8DlKA4VorXjbUUvAMybwAUAIBSBCwBAKAIXAIBQBC4AAKEIXEblRRkAgH07OTs768o5PT39ZmrXpYFt7fvsBs6gANOWfof9zgKHYAUXAIBQBC4AAKEIXAAAQhG4AACEInA5qtoTSnY5k4KzLwAAqwhcwvBsbAAgEbgAAIQicAEACGVQ4KajIPsDAABjsoILAEAoApejG3omBS/RCwDcR+ACABCKwAUAIBSBCwBAKAMDtzx/Qh4AABiPFVya4eV3AYB9ELiMYtezHjiDAgCwjsAFACCUYYFbHnqbBwAARmQFFwCAUAQuAAChCFxGs+1L9jrLAgCwCYHLpDmDAgDQJ3ABAAhF4AIAHEk63G6TYRiBCwBwALVwTYfWbTIMI3ABAHZUi9g8wnU8ApdR1X7Z00ahr3bdWBuK2m0BIJYcqeumjNf+MB6BCzuobeQAmIbaNrw/tWCtDW1afP78+cv986c76ebm5rtJ119fX3dfPq67urrqLi8vu4uLi+7ly5fdv/3n/y4/zVd/99d/sbwEm0kbkr7+RmOTjzmEbb5u7WOB3Rzj95thcgS2bqz9x1BTvd2tELiMbpNf4rF+0W1gpiHdT+6X6bnvfqv97sEuprptsP8ZxiEKADQn7chN2zOV+4l5Erg0yeoNALArgcvo1v0ftn+mAQC2IXABAAhF4AIAEIrABQAgFIELAEAoApcm1J40lp5c5mwKAMC2BC6T4wwKAMB9BgVuWlvrDwAAjMkKLgAAoQhcAABCEbgAAIQicGmGJ48BAPsgcJkUEQwArCNwAQAIReACABCKwAUAIBSBCwBAKAKXptz3JDJPMAMANjEscL1WLwAAjbGCCwBAKAMD1xIuAABtsYILAEAoAhcAgFAELs2pnS3BGRQAgE0JXJpUBq24BQC2IXBpVgpbcQsAbEvgAgAQisAFACAUgQsAQCgCFwCAUAQuAAChnORnqtcmqV2fBgAAWmQFFwCAUFau4Ca16/MAAECLrOACABDKyc3NTbftWMEFAKBV1UMUknXXAwBAi3ZawU0DAAAtOrm+vu7KSfFauy5fL3ABAGjZyadPn7o8l5eXv1yuXZcu50kWlQEAgDGd/OpXv+rynJ2d/XK5dl26nOb09HT51wEAoC1OEwYAQCgCFwCAUAQuAAChCFwAAEIRuAAAhCJwAQAIReACABCKwAUAIBSBCwBAKAIXAIBQqoH77B/+bHkJAACmpRq47/75unv+jxtE7qIyAEB4t7e33WJhx0+bHKIAAEAoKwP37T9dd7/+nUMVAACYlpMHDx4sLwIAwPSdnJ+fdw8fPly+CwAA0+YYXAAAQhG4AACEMjBw++cIc7oQAADGtTJw03lw//j76+V7AAAwDQ5RAAAglLvA/fjx4907WXqp3nQeXAAAmJrqCm56qV4AAJgihygAABCKwAUAIBSBCwBAKAIXAIBQqoGbzqIAAABTVA3cdBaF9EIPAAAwNQ5RAAAglJWBm17o4de/s4oLAMC0nDx48GB5cXuLygAAwJhOzs/Pu4cPHy7fBQCAaXMMLgCwk9vb226x8O+3tGfQIQoAANCau0MUPn78uHwXAACm7e4QhdoxuOk8uH/8/fXyPQAAmIa7QxSs4AIAEMXdIQp96aV603lwAQBgala+VC8AAEyR04QBABCKwAUAduZcuLRI4AIAEIrABQAgFIELAEAowwI3HXLTHwAAGJEVXAAAQhG4AACEcvdSvaXHjx93T5486Z4+fdo9e/Zsee1XL1++7H788cflewAA0Ja7l+p9+PDh8t0/+emnn7r379937969654/f768tutevHjRvXnzpnv9+vXyGgBg7pwLl9Y4RAGYPDtXAErfHaKwjkMUAABo2d0hCttwiAIAAC2rHqJQPsns7du3y2sBAOrSoULQinTQ2u3Hjx/vnmj2888/d48ePbp7ktnNzc038/nz5+7q6uruiWZJeiD/4b/+7+5y6Yff/PnyEkxf7bhOG3HYj/T75fcJ6ux/hlmcn59/+Xnd3v3QUsiuC9zLy8vu4uKie/XqlcAlPE9cAqAVAndz3x2i8OHDh+WlTaSdf38AAGA8ThMGAEAoAhcAgFAELgAAoXz3JLP8tj/1J5m9W36ar374zbPlJQBYzVkUgEOxggsAQCgCFwCAUAYFrpOEAQDQGiu4AIzC8bfAodwFbnqZ3uzx48fdkydPuqdPn3bPnn3/hLGXL192P/744/I9AABoS3UFN71U7/v377t37951z58/X17bdS9evOjevHnTvX79enkNAAC0xSEKAACEcvLgwYPu48ePy3fXc4gCAAAt23oF1yEKAAC07OT8/Hx58avySWZv375dXgsAAO377qV6Hz16dPcks1Uv1ZueaJakj//3ykv1/q2X6gUAYEQOUQAAIJTvAvfDhw/LSwAAMD1OEwYAQCgCFwCAUAQuAAChCFwAAEIZFriLygAAwIis4AIAEIrABQAgFIELAEAoAhcAgFAELgAAoQhcAABCOTk7O+vKOT09/WZq16UBAIAWWcEFACAUgQsAQCgCFwCAUAQuAAChCFwAAEIRuAAAhCJwAQAIReACABCKwAUAIJRBgbuo/AcAAGOyggsAQCgCFwCAUAQuAAChCFwAAEIRuAAAhCJwAQAIReACABBI1/0/AYTnFf807lkAAAAASUVORK5CYII=)"
      ],
      "metadata": {
        "id": "Ek61k-sWriDd"
      }
    },
    {
      "cell_type": "code",
      "source": [
        "print('ndim:', array_2d.ndim) # 차원\n",
        "print('size:', array_2d.size) # 크기 *전체 원소의 개수 <-> len(): 그 리스트가 가지고 있는 리스트의 개수,\n",
        "print('shape:', array_2d.shape) # 모양 -> 첫번째 메겨지는 방향이 행 방향.\n",
        "print('dtype:', array_2d.dtype) # 데이터 타입\n"
      ],
      "metadata": {
        "colab": {
          "base_uri": "https://localhost:8080/"
        },
        "id": "gOyFL4jTpqPk",
        "outputId": "63f8e6e6-d57c-4a7b-fa41-e64ebb507cbd"
      },
      "execution_count": 29,
      "outputs": [
        {
          "output_type": "stream",
          "name": "stdout",
          "text": [
            "ndim: 2\n",
            "size: 12\n",
            "shape: (3, 4)\n",
            "dtype: int64\n"
          ]
        }
      ]
    },
    {
      "cell_type": "markdown",
      "source": [
        "### 2차원 `ndarray`의 인덱스 사용 방법:\n",
        "\n",
        "* `array[i][j]` - Python list와 같은 사용 방법.\n",
        "* `array[i,j]` - ndarray에서만 사용 가능."
      ],
      "metadata": {
        "id": "tFZdEFMSu7y2"
      }
    },
    {
      "cell_type": "code",
      "source": [
        "array_2d[0,0] # array_2d[0][0]"
      ],
      "metadata": {
        "colab": {
          "base_uri": "https://localhost:8080/"
        },
        "id": "AsgmoMsApjIY",
        "outputId": "e86f6bef-986b-4ff3-e5f6-018f58a5a8f2"
      },
      "execution_count": 31,
      "outputs": [
        {
          "output_type": "execute_result",
          "data": {
            "text/plain": [
              "1"
            ]
          },
          "metadata": {},
          "execution_count": 31
        }
      ]
    },
    {
      "cell_type": "code",
      "source": [
        "array_2d[1,2]"
      ],
      "metadata": {
        "colab": {
          "base_uri": "https://localhost:8080/"
        },
        "id": "77eoa_rMv1pG",
        "outputId": "55e2e1f5-da80-458e-e0f1-d27ac04b2544"
      },
      "execution_count": 32,
      "outputs": [
        {
          "output_type": "execute_result",
          "data": {
            "text/plain": [
              "7"
            ]
          },
          "metadata": {},
          "execution_count": 32
        }
      ]
    },
    {
      "cell_type": "markdown",
      "source": [
        "## `ndarray`인덱스"
      ],
      "metadata": {
        "id": "LZ97vhLGwVOs"
      }
    },
    {
      "cell_type": "code",
      "source": [
        "# np.random에서 random은 모듈임.\n",
        "# [0, 100) 범위의 정수 난수 10개를 갖는 ndarray 객체를 생성:\n",
        "# 사용하는 방법은 randrange와 비슷함.-> size만 다름.\n",
        "# 시작값 생략 가능함(없을 경우 시작값은 0)\n",
        "array = np.random.randint(0, 100, size=10)\n",
        "print(array)"
      ],
      "metadata": {
        "colab": {
          "base_uri": "https://localhost:8080/"
        },
        "id": "ZAiPjisYwIpa",
        "outputId": "9c6df455-3702-4298-98ea-cad669705acb"
      },
      "execution_count": 36,
      "outputs": [
        {
          "output_type": "stream",
          "name": "stdout",
          "text": [
            "[74  6 93 55 24 99 70 54  7 78]\n"
          ]
        }
      ]
    },
    {
      "cell_type": "code",
      "source": [
        "# indexing:\n",
        "print(array[0]) # 첫 번째 원소\n",
        "print(array[-1]) # 마지막 원소"
      ],
      "metadata": {
        "colab": {
          "base_uri": "https://localhost:8080/"
        },
        "id": "MgLM_Fgaxggw",
        "outputId": "062cb451-5956-4729-dadd-8927f070db9e"
      },
      "execution_count": 37,
      "outputs": [
        {
          "output_type": "stream",
          "name": "stdout",
          "text": [
            "74\n",
            "78\n"
          ]
        }
      ]
    },
    {
      "cell_type": "code",
      "source": [
        "# slicing:\n",
        "print(array[0:3]) # 첫 3개 원소 자르기\n",
        "print(array[-3:]) # 마지막 3개 원소 자르기"
      ],
      "metadata": {
        "colab": {
          "base_uri": "https://localhost:8080/"
        },
        "id": "1po5RbwSx2ba",
        "outputId": "118f3b1f-6441-4bd3-ceb8-08c09258283a"
      },
      "execution_count": 38,
      "outputs": [
        {
          "output_type": "stream",
          "name": "stdout",
          "text": [
            "[74  6 93]\n",
            "[54  7 78]\n"
          ]
        }
      ]
    },
    {
      "cell_type": "code",
      "source": [
        "print(array[0]) # indexing -> 아이템(값)\n",
        "print(array[:1]) # slicing -> 배열(ndarray)"
      ],
      "metadata": {
        "colab": {
          "base_uri": "https://localhost:8080/"
        },
        "id": "EF_CqQ6byNS-",
        "outputId": "211bd328-583c-45f1-d3c1-1e4d7838df43"
      },
      "execution_count": 39,
      "outputs": [
        {
          "output_type": "stream",
          "name": "stdout",
          "text": [
            "74\n",
            "[74]\n"
          ]
        }
      ]
    },
    {
      "cell_type": "markdown",
      "source": [
        "### fancy indexing\n",
        "\n",
        "* 배열과 비슷한 객체(ndarray, list, tuple, set,....)를 사용해서 원하는 원소들을 참조하는 방법.\n",
        "* fancy indexing의 결과는 ndarray."
      ],
      "metadata": {
        "id": "q6JcQjnsyqlW"
      }
    },
    {
      "cell_type": "code",
      "source": [
        "print(array)\n",
        "\n",
        "# indexing\n",
        "print(array[0])\n",
        "\n",
        "# fancy indexing\n",
        "## - 인덱스 0, 2, 4 원소들 찾기 => array에서 index 0, 2, 4를 골라라.\n",
        "print(array[[0, 2, 4]]) # 안쪽에 []는 원소 3개를 갖는 list, 바깥쪽에 [] indexing할 때 사용하는 index 연산자.\n",
        "\n",
        "## 주의\n",
        "print(array[[0]]) # fancy indexing -> 결과는 배열!"
      ],
      "metadata": {
        "colab": {
          "base_uri": "https://localhost:8080/"
        },
        "id": "UbMe7HB7ylUm",
        "outputId": "a5054d3e-306a-45fb-9859-58ceddc14ea3"
      },
      "execution_count": 42,
      "outputs": [
        {
          "output_type": "stream",
          "name": "stdout",
          "text": [
            "[74  6 93 55 24 99 70 54  7 78]\n",
            "74\n",
            "[74 93 24]\n",
            "[74]\n"
          ]
        }
      ]
    },
    {
      "cell_type": "markdown",
      "source": [
        "### Boolean indexing\n",
        "\n",
        "* 논리값(True/False)들의 배열(리스트, tuple, set,...)을 사용한 fancy indexing 방법.\n",
        "* 배열에서 조건을 만족하는 원소들로 이루어진 부분집합(ndarray)를 만드는 방법.\n",
        "* 배열의 원소 개수와 동일하게 True/False 넘기기.\n"
      ],
      "metadata": {
        "id": "lK_FePOI0pbd"
      }
    },
    {
      "cell_type": "code",
      "source": [
        "print(array)\n",
        "print(array[[True,False,True,False,True,False,True,False,True,False]])"
      ],
      "metadata": {
        "colab": {
          "base_uri": "https://localhost:8080/"
        },
        "id": "i5Tai88zzJL5",
        "outputId": "f47add6f-3cbd-47b0-b4eb-b94ea645d65b"
      },
      "execution_count": 44,
      "outputs": [
        {
          "output_type": "stream",
          "name": "stdout",
          "text": [
            "[74  6 93 55 24 99 70 54  7 78]\n",
            "[74 93 24 70  7]\n"
          ]
        }
      ]
    },
    {
      "cell_type": "code",
      "source": [
        "# 배열 array의 원소들 중 홀수들만 찾기:\n",
        "print(array % 2)\n",
        "print(array % 2 == 1)\n",
        "print(array[array % 2 == 1]) # Boolean indexing"
      ],
      "metadata": {
        "colab": {
          "base_uri": "https://localhost:8080/"
        },
        "id": "1v9vdIva1FyR",
        "outputId": "ba6ea095-af02-4bcb-a731-29722c1d83a0"
      },
      "execution_count": 47,
      "outputs": [
        {
          "output_type": "stream",
          "name": "stdout",
          "text": [
            "[0 0 1 1 0 1 0 0 1 0]\n",
            "[False False  True  True False  True False False  True False]\n",
            "[93 55 99  7]\n"
          ]
        }
      ]
    },
    {
      "cell_type": "code",
      "source": [
        "# 배열 array의 원소들 중에서 50 이상인 숫자들의 배열을 찾기:\n",
        "print(array[array >= 50])"
      ],
      "metadata": {
        "colab": {
          "base_uri": "https://localhost:8080/"
        },
        "id": "hWawQdoV1zf_",
        "outputId": "06e80a34-ebe5-41e5-c9eb-e04249852433"
      },
      "execution_count": 48,
      "outputs": [
        {
          "output_type": "stream",
          "name": "stdout",
          "text": [
            "[74 93 55 99 70 54 78]\n"
          ]
        }
      ]
    },
    {
      "cell_type": "markdown",
      "source": [
        "## NumPy의 통계 함수, 메서드\n",
        "똑같은 기능을 하는 것들이 대부분 함수, 메서드 2가지 형태로 만들어져 있음.\n",
        "\n",
        "* np.function(ndarray) 함수\n",
        "* np.ndarray.method() 메서드"
      ],
      "metadata": {
        "id": "-X3XD1-Q3nR0"
      }
    },
    {
      "cell_type": "code",
      "source": [
        "array = np.array([1,2,3,4,5])\n",
        "print(array)"
      ],
      "metadata": {
        "colab": {
          "base_uri": "https://localhost:8080/"
        },
        "id": "RCoWf6Nz22Ym",
        "outputId": "3b553353-6cad-46be-99f8-123798e5233f"
      },
      "execution_count": 50,
      "outputs": [
        {
          "output_type": "stream",
          "name": "stdout",
          "text": [
            "[1 2 3 4 5]\n"
          ]
        }
      ]
    },
    {
      "cell_type": "code",
      "source": [
        "# 합계:\n",
        "print(np.sum(array)) # 함수\n",
        "print(array.sum()) # 메서드 -> 배열(객체)에서 메서드를 호출을 하면 arg로 넘겨줄 필요가 없음. 메서드는 선언시 sum(self)가 기본값임.\n"
      ],
      "metadata": {
        "colab": {
          "base_uri": "https://localhost:8080/"
        },
        "id": "MymoDjGb4Ejc",
        "outputId": "d1ad368d-45bf-42b8-a621-2bfbe0443a0e"
      },
      "execution_count": 52,
      "outputs": [
        {
          "output_type": "stream",
          "name": "stdout",
          "text": [
            "15\n",
            "15\n"
          ]
        }
      ]
    },
    {
      "cell_type": "code",
      "source": [
        "# 평균\n",
        "print(np.mean(array)) # 함수\n",
        "print(array.mean()) # 메서드"
      ],
      "metadata": {
        "colab": {
          "base_uri": "https://localhost:8080/"
        },
        "id": "D4ActUDi4TW3",
        "outputId": "87163ef7-4b0c-4d0d-f9f8-4565eb997e18"
      },
      "execution_count": 53,
      "outputs": [
        {
          "output_type": "stream",
          "name": "stdout",
          "text": [
            "3.0\n",
            "3.0\n"
          ]
        }
      ]
    }
  ]
}