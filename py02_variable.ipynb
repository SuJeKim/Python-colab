{
  "nbformat": 4,
  "nbformat_minor": 0,
  "metadata": {
    "colab": {
      "provenance": [],
      "authorship_tag": "ABX9TyNEVshbRi23bIf+v6++VaC4",
      "include_colab_link": true
    },
    "kernelspec": {
      "name": "python3",
      "display_name": "Python 3"
    },
    "language_info": {
      "name": "python"
    }
  },
  "cells": [
    {
      "cell_type": "markdown",
      "metadata": {
        "id": "view-in-github",
        "colab_type": "text"
      },
      "source": [
        "<a href=\"https://colab.research.google.com/github/SuJeKim/Python-colab/blob/main/py02_variable.ipynb\" target=\"_parent\"><img src=\"https://colab.research.google.com/assets/colab-badge.svg\" alt=\"Open In Colab\"/></a>"
      ]
    },
    {
      "cell_type": "markdown",
      "source": [
        "# 파이썬 자료 타입(data Type)\n",
        "자바: 컴파일 할 시(코드 작성 할 떄) 타입이 정해짐 <br/>\n",
        "js, python: 변수를 선언하는 시점에는 타입 명시하지 않음 + 실행되는 시점에 타입을 알 수 있음 => 존재하나 명시하지 않음.\n",
        "\n",
        "* 숫자 타입\n",
        "  * `int`: 정수\n",
        "  * `float`: 실수\n",
        "\n",
        "* 문자열 타입\n",
        "  \n",
        "  * `str`\n",
        "\n",
        "* 논리 타입\n",
        "  * `bool`: True/False\n",
        "    * 키워드 대소문자 구분함.\n",
        "\n",
        "* 객체 타입\n",
        "\n",
        "파이썬에서는 변수를 선언할 때 자료 타입을 명시하지 않음.\n",
        "\n",
        "변수의 자료 타입은 코드가 실행 될 떄 결정됨.\n"
      ],
      "metadata": {
        "id": "ygIgMe03mh1R"
      }
    },
    {
      "cell_type": "code",
      "execution_count": null,
      "metadata": {
        "colab": {
          "base_uri": "https://localhost:8080/"
        },
        "id": "TSq0raYBle-n",
        "outputId": "16adfe6b-d2cf-4811-dcbc-ed887c141ab3"
      },
      "outputs": [
        {
          "output_type": "stream",
          "name": "stdout",
          "text": [
            "3.14\n"
          ]
        },
        {
          "output_type": "execute_result",
          "data": {
            "text/plain": [
              "float"
            ]
          },
          "metadata": {},
          "execution_count": 2
        }
      ],
      "source": [
        "pi = 3.14\n",
        "print(pi)\n",
        "type(pi) # print(type(pi))"
      ]
    },
    {
      "cell_type": "markdown",
      "source": [
        "## 명시적 타입 변환\n",
        "\n",
        "* `int(arg)`: arg를 정수 타입으로 변환해서 리턴.\n",
        "* `float(arg)`: arg를 실수 타입으로 변환해서 리턴.\n",
        "* `str(arg)`: arg를 문자열로 변환해서 리턴."
      ],
      "metadata": {
        "id": "q0yDSQz7orJD"
      }
    },
    {
      "cell_type": "code",
      "source": [
        "# Colab 노트북에서 콘솔 입력:\n",
        "n = input('정수 입력>>> ')\n",
        "type(n) # str"
      ],
      "metadata": {
        "colab": {
          "base_uri": "https://localhost:8080/"
        },
        "id": "lhvYTttGoo5p",
        "outputId": "5f31fd35-2564-48f4-d8c0-ad13fb504431"
      },
      "execution_count": null,
      "outputs": [
        {
          "name": "stdout",
          "output_type": "stream",
          "text": [
            "정수 입력>>> 123\n"
          ]
        },
        {
          "output_type": "execute_result",
          "data": {
            "text/plain": [
              "str"
            ]
          },
          "metadata": {},
          "execution_count": 7
        }
      ]
    },
    {
      "cell_type": "code",
      "source": [
        "int(n) + 1 # 123 + 1"
      ],
      "metadata": {
        "colab": {
          "base_uri": "https://localhost:8080/"
        },
        "id": "pMUreCAApfaD",
        "outputId": "ef7a014a-be18-4485-d1aa-4cf3b68b9514"
      },
      "execution_count": null,
      "outputs": [
        {
          "output_type": "execute_result",
          "data": {
            "text/plain": [
              "124"
            ]
          },
          "metadata": {},
          "execution_count": 10
        }
      ]
    },
    {
      "cell_type": "code",
      "source": [
        "n + str(1) # '123' + '1'"
      ],
      "metadata": {
        "colab": {
          "base_uri": "https://localhost:8080/",
          "height": 35
        },
        "id": "9fS0C60pqNC0",
        "outputId": "7cf74440-b049-4360-883a-eb0c77eada9a"
      },
      "execution_count": null,
      "outputs": [
        {
          "output_type": "execute_result",
          "data": {
            "text/plain": [
              "'1231'"
            ],
            "application/vnd.google.colaboratory.intrinsic+json": {
              "type": "string"
            }
          },
          "metadata": {},
          "execution_count": 12
        }
      ]
    },
    {
      "cell_type": "markdown",
      "source": [
        "# 산술 연산자\n",
        "\n",
        "`+, -, *, /, //, %, **`\n",
        "\n",
        "* `/`: (정수 타입, 실수 타입 둘 다) 소수점까지 계산하는 나눗셈\n",
        "* `//`: 나눈 몫.\n",
        "* `%`: 나눈 나머지.\n",
        "* `**`: 거듭제곱."
      ],
      "metadata": {
        "id": "-VAtJN_-rHr4"
      }
    },
    {
      "cell_type": "code",
      "source": [
        "10 / 3"
      ],
      "metadata": {
        "colab": {
          "base_uri": "https://localhost:8080/"
        },
        "id": "j7YRQ7fTq-NO",
        "outputId": "7d316761-2ec2-41a6-db15-7d0723a95487"
      },
      "execution_count": null,
      "outputs": [
        {
          "output_type": "execute_result",
          "data": {
            "text/plain": [
              "3.3333333333333335"
            ]
          },
          "metadata": {},
          "execution_count": 13
        }
      ]
    },
    {
      "cell_type": "code",
      "source": [
        "10 // 3"
      ],
      "metadata": {
        "colab": {
          "base_uri": "https://localhost:8080/"
        },
        "id": "RPJ1BbJGr3Lp",
        "outputId": "aa09a2b5-cea9-4901-d7dd-6c72191353cd"
      },
      "execution_count": null,
      "outputs": [
        {
          "output_type": "execute_result",
          "data": {
            "text/plain": [
              "3"
            ]
          },
          "metadata": {},
          "execution_count": 14
        }
      ]
    },
    {
      "cell_type": "code",
      "source": [
        "3 ** 3"
      ],
      "metadata": {
        "colab": {
          "base_uri": "https://localhost:8080/"
        },
        "id": "eteFP8xfr8f1",
        "outputId": "5d0dc758-f4c3-4cf0-c35b-ae19916cba37"
      },
      "execution_count": null,
      "outputs": [
        {
          "output_type": "execute_result",
          "data": {
            "text/plain": [
              "27"
            ]
          },
          "metadata": {},
          "execution_count": 15
        }
      ]
    },
    {
      "cell_type": "markdown",
      "source": [
        "# 비교 연산자, 논리 연산자, 항당 연산자\n",
        "\n",
        "* 비교 연산자: `==, !=, > , >=, <, <=`\n",
        "* 논리 연산자: `and, or, not`\n",
        "* 할당 연산자: `=`\n"
      ],
      "metadata": {
        "id": "YZzfziersOaQ"
      }
    },
    {
      "cell_type": "code",
      "source": [
        "x = 100\n",
        "(x > 50) and (x < 150)"
      ],
      "metadata": {
        "colab": {
          "base_uri": "https://localhost:8080/"
        },
        "id": "8P6nt-GhsAJ7",
        "outputId": "4ecc72c2-fd70-40fc-f0ea-1fe7589d062a"
      },
      "execution_count": null,
      "outputs": [
        {
          "output_type": "execute_result",
          "data": {
            "text/plain": [
              "True"
            ]
          },
          "metadata": {},
          "execution_count": 17
        }
      ]
    },
    {
      "cell_type": "code",
      "source": [
        "50 < x < 150"
      ],
      "metadata": {
        "colab": {
          "base_uri": "https://localhost:8080/"
        },
        "id": "2eMHf4mMtA0k",
        "outputId": "dc97a6c7-f7bb-4c0e-dfc8-2970fe7f2fcb"
      },
      "execution_count": null,
      "outputs": [
        {
          "output_type": "execute_result",
          "data": {
            "text/plain": [
              "True"
            ]
          },
          "metadata": {},
          "execution_count": 18
        }
      ]
    }
  ]
}