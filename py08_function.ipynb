{
  "nbformat": 4,
  "nbformat_minor": 0,
  "metadata": {
    "colab": {
      "provenance": [],
      "authorship_tag": "ABX9TyOfEurXRLA5K2UEELyxT4rM",
      "include_colab_link": true
    },
    "kernelspec": {
      "name": "python3",
      "display_name": "Python 3"
    },
    "language_info": {
      "name": "python"
    }
  },
  "cells": [
    {
      "cell_type": "markdown",
      "metadata": {
        "id": "view-in-github",
        "colab_type": "text"
      },
      "source": [
        "<a href=\"https://colab.research.google.com/github/SuJeKim/Python-colab/blob/main/py08_function.ipynb\" target=\"_parent\"><img src=\"https://colab.research.google.com/assets/colab-badge.svg\" alt=\"Open In Colab\"/></a>"
      ]
    },
    {
      "cell_type": "markdown",
      "source": [
        "# 08. 함수 고급 기능 설명.\n",
        "# 1급 객체(first-class object)로서의 함수\n",
        "1급 객체: 값으로 동작하는 객체\n",
        "* 함수는 변수에 할당할 수 있음.\n",
        "* 함수의 파라미터에 아규먼트로 다른 함수를 전달할 수 있음.\n",
        "  * 함수는 아규먼트가 될 수 있음.\n",
        "* 함수는 다른 함수의 리턴 값이 될 수 있음.\n",
        "* 함수 내부에서 다른 함수를 정의할 수 있음."
      ],
      "metadata": {
        "id": "sz939ZuQxMDF"
      }
    },
    {
      "cell_type": "markdown",
      "source": [
        "## 함수를 변수에 할당"
      ],
      "metadata": {
        "id": "0SP3Oxk7yIqV"
      }
    },
    {
      "cell_type": "code",
      "execution_count": 1,
      "metadata": {
        "id": "X33e29HzxAtn"
      },
      "outputs": [],
      "source": [
        "def twice(x):\n",
        "  return 2 * x"
      ]
    },
    {
      "cell_type": "code",
      "source": [
        "result = twice(100) # 함수 호출 결과(리턴 값)을 변수에 저장.\n",
        "result"
      ],
      "metadata": {
        "colab": {
          "base_uri": "https://localhost:8080/"
        },
        "id": "60_s_xfEyRbI",
        "outputId": "ff57d561-8073-4fe1-aa3d-d3c89024c7e8"
      },
      "execution_count": 2,
      "outputs": [
        {
          "output_type": "execute_result",
          "data": {
            "text/plain": [
              "200"
            ]
          },
          "metadata": {},
          "execution_count": 2
        }
      ]
    },
    {
      "cell_type": "code",
      "source": [
        "double = twice # 함수 (객체)를 변수에 저장.\n",
        "double"
      ],
      "metadata": {
        "colab": {
          "base_uri": "https://localhost:8080/"
        },
        "id": "PGfPjqAsyh5B",
        "outputId": "b7c3dccc-d8dc-40c8-be47-e6faf7114ee2"
      },
      "execution_count": 3,
      "outputs": [
        {
          "output_type": "execute_result",
          "data": {
            "text/plain": [
              "<function __main__.twice(x)>"
            ]
          },
          "metadata": {},
          "execution_count": 3
        }
      ]
    },
    {
      "cell_type": "code",
      "source": [
        "double(12)"
      ],
      "metadata": {
        "colab": {
          "base_uri": "https://localhost:8080/"
        },
        "id": "iSb7qOOryp-e",
        "outputId": "d8019af6-fe35-4112-e62a-e5915444361f"
      },
      "execution_count": 4,
      "outputs": [
        {
          "output_type": "execute_result",
          "data": {
            "text/plain": [
              "24"
            ]
          },
          "metadata": {},
          "execution_count": 4
        }
      ]
    },
    {
      "cell_type": "markdown",
      "source": [
        "## 함수를 아규먼트로 사용"
      ],
      "metadata": {
        "id": "DLg1I4NTy-bT"
      }
    },
    {
      "cell_type": "code",
      "source": [
        "def calculate(x, y, fn):\n",
        "  result = fn(x,y) # 함수 호출\n",
        "  return result"
      ],
      "metadata": {
        "id": "HuSKwmhoy3uo"
      },
      "execution_count": 5,
      "outputs": []
    },
    {
      "cell_type": "code",
      "source": [
        "def plus(x, y):\n",
        "  return x + y"
      ],
      "metadata": {
        "id": "crjX4bpIzMO7"
      },
      "execution_count": 6,
      "outputs": []
    },
    {
      "cell_type": "code",
      "source": [
        "calculate(3,5,plus)"
      ],
      "metadata": {
        "colab": {
          "base_uri": "https://localhost:8080/"
        },
        "id": "LpOLdEkizfss",
        "outputId": "e73160a2-edbc-480a-bca9-b86c9fcbbf8c"
      },
      "execution_count": 7,
      "outputs": [
        {
          "output_type": "execute_result",
          "data": {
            "text/plain": [
              "8"
            ]
          },
          "metadata": {},
          "execution_count": 7
        }
      ]
    },
    {
      "cell_type": "code",
      "source": [
        "def minus(x, y):\n",
        "  return x - y"
      ],
      "metadata": {
        "id": "a-UmjnnKzjLq"
      },
      "execution_count": 8,
      "outputs": []
    },
    {
      "cell_type": "code",
      "source": [
        "calculate(2, 4, minus)"
      ],
      "metadata": {
        "colab": {
          "base_uri": "https://localhost:8080/"
        },
        "id": "05LV8yRY0M0t",
        "outputId": "c0e499e9-ee4d-4571-cf63-1256d23eb617"
      },
      "execution_count": 9,
      "outputs": [
        {
          "output_type": "execute_result",
          "data": {
            "text/plain": [
              "-2"
            ]
          },
          "metadata": {},
          "execution_count": 9
        }
      ]
    },
    {
      "cell_type": "markdown",
      "source": [
        "## 내부 함수, 함수 리턴\n",
        "\n",
        "* 내부 함수는 외부 함수의 지역변수를 이용할 수 있음."
      ],
      "metadata": {
        "id": "WsYXZKbs1DQq"
      }
    },
    {
      "cell_type": "code",
      "source": [
        "def make_increment(n): # 외부 함수\n",
        "\n",
        "  # 내부 함수, 지역 함수\n",
        "  def add_n(x):\n",
        "    return x + n # 내부 함수는 외부 함수의 지역 변수(파라미터 포함)들을 사용할 수 있음.\n",
        "\n",
        "  return add_n"
      ],
      "metadata": {
        "id": "DT2BTHU70Paf"
      },
      "execution_count": 10,
      "outputs": []
    },
    {
      "cell_type": "code",
      "source": [
        "increase_by_2 = make_increment(2) # 함수 호출\n",
        "increase_by_2 # add_n(x)가 저장이 됨.\n",
        "\n",
        "# <function __main__.make_increment.<locals>.add_n(x)>\n",
        "# main: 실행 중인 노트북\n",
        "# <locals>.add_n(x): 지역 함수"
      ],
      "metadata": {
        "colab": {
          "base_uri": "https://localhost:8080/"
        },
        "id": "qQxlR84g1r-A",
        "outputId": "7482b833-97ab-4898-81c6-d29b001e72d5"
      },
      "execution_count": 12,
      "outputs": [
        {
          "output_type": "execute_result",
          "data": {
            "text/plain": [
              "<function __main__.make_increment.<locals>.add_n(x)>"
            ]
          },
          "metadata": {},
          "execution_count": 12
        }
      ]
    },
    {
      "cell_type": "code",
      "source": [
        "increase_by_2(100)"
      ],
      "metadata": {
        "colab": {
          "base_uri": "https://localhost:8080/"
        },
        "id": "q3pEbRVs1_G0",
        "outputId": "75fb050e-08cc-412e-e965-fe2d06b3afcd"
      },
      "execution_count": 13,
      "outputs": [
        {
          "output_type": "execute_result",
          "data": {
            "text/plain": [
              "102"
            ]
          },
          "metadata": {},
          "execution_count": 13
        }
      ]
    },
    {
      "cell_type": "code",
      "source": [
        "increase_by_10 = make_increment(10)\n",
        "increase_by_10(100)"
      ],
      "metadata": {
        "colab": {
          "base_uri": "https://localhost:8080/"
        },
        "id": "uXaDBsCb2Nlm",
        "outputId": "f0b89fd4-5131-4877-dd45-2b48e57babb8"
      },
      "execution_count": 14,
      "outputs": [
        {
          "output_type": "execute_result",
          "data": {
            "text/plain": [
              "110"
            ]
          },
          "metadata": {},
          "execution_count": 14
        }
      ]
    },
    {
      "cell_type": "code",
      "source": [
        "make_increment(5)"
      ],
      "metadata": {
        "colab": {
          "base_uri": "https://localhost:8080/"
        },
        "id": "pws9kq3h26u1",
        "outputId": "c550449f-c0fa-4f56-eda0-3fbd9065ab7f"
      },
      "execution_count": 17,
      "outputs": [
        {
          "output_type": "execute_result",
          "data": {
            "text/plain": [
              "<function __main__.make_increment.<locals>.add_n(x)>"
            ]
          },
          "metadata": {},
          "execution_count": 17
        }
      ]
    },
    {
      "cell_type": "code",
      "source": [
        "make_increment(5)(100) # 내부함수에 100을 넘김."
      ],
      "metadata": {
        "colab": {
          "base_uri": "https://localhost:8080/"
        },
        "id": "gZ4uciI84C3T",
        "outputId": "93ff7843-106c-4b78-85ae-65729b3eb34d"
      },
      "execution_count": 18,
      "outputs": [
        {
          "output_type": "execute_result",
          "data": {
            "text/plain": [
              "105"
            ]
          },
          "metadata": {},
          "execution_count": 18
        }
      ]
    },
    {
      "cell_type": "markdown",
      "source": [
        "# Lambda expression(람다 표현식)\n",
        "\n",
        "```\n",
        "lambda param1, param2,....: expression\n",
        "```\n",
        "* 이름이 없는 함수 표기법\n",
        "* 함수 이름 없이 함수의 파라미터 선언과 반환 값 또는 반환 식으로만 함수를 정의하는 법\n",
        "* 파이썬은 2줄 이상의 문장이 표현된 람다 표현식 문법을 제공하지 않음.\n",
        "\n",
        "* 다른 함수에 argument로 넘겨 줄 때, 간단한 함수일 경우 그 자리에서 정의 + 많이 사용함.\n"
      ],
      "metadata": {
        "id": "QpFHMuuS8WdA"
      }
    },
    {
      "cell_type": "code",
      "source": [
        "minus = lambda x, y: x-y\n",
        "minus"
      ],
      "metadata": {
        "colab": {
          "base_uri": "https://localhost:8080/"
        },
        "id": "tymcrFYT4KIv",
        "outputId": "14da2e9e-727a-4eef-b996-ad79d6beb3c9"
      },
      "execution_count": 19,
      "outputs": [
        {
          "output_type": "execute_result",
          "data": {
            "text/plain": [
              "<function __main__.<lambda>(x, y)>"
            ]
          },
          "metadata": {},
          "execution_count": 19
        }
      ]
    },
    {
      "cell_type": "code",
      "source": [
        "minus(1,2)"
      ],
      "metadata": {
        "colab": {
          "base_uri": "https://localhost:8080/"
        },
        "id": "f8yWXR8x9iQV",
        "outputId": "2b021caa-ae0e-459d-9fa9-5a641529ca68"
      },
      "execution_count": 20,
      "outputs": [
        {
          "output_type": "execute_result",
          "data": {
            "text/plain": [
              "-1"
            ]
          },
          "metadata": {},
          "execution_count": 20
        }
      ]
    },
    {
      "cell_type": "code",
      "source": [
        "calculate(2, 3, lambda x, y: x * y)"
      ],
      "metadata": {
        "colab": {
          "base_uri": "https://localhost:8080/"
        },
        "id": "R1skTXGb9p30",
        "outputId": "085aef36-0b4c-416b-c140-ed95cf0f1162"
      },
      "execution_count": 21,
      "outputs": [
        {
          "output_type": "execute_result",
          "data": {
            "text/plain": [
              "6"
            ]
          },
          "metadata": {},
          "execution_count": 21
        }
      ]
    },
    {
      "cell_type": "code",
      "source": [
        "calculate(2, 3, lambda x, y: x / y)"
      ],
      "metadata": {
        "colab": {
          "base_uri": "https://localhost:8080/"
        },
        "id": "r9WZCVCE-bWX",
        "outputId": "fb40b250-dcfc-46aa-e468-7ef6e38e82ee"
      },
      "execution_count": 22,
      "outputs": [
        {
          "output_type": "execute_result",
          "data": {
            "text/plain": [
              "0.6666666666666666"
            ]
          },
          "metadata": {},
          "execution_count": 22
        }
      ]
    },
    {
      "cell_type": "markdown",
      "source": [
        "Ex 1. calculate 함수에 2개의 숫자 중에서 더 큰 수를 리턴하는 람다 표현식을 전달."
      ],
      "metadata": {
        "id": "puV-clfz_IwZ"
      }
    },
    {
      "cell_type": "code",
      "source": [
        "calculate(3,6, lambda x , y: x if x > y else y) # 파이썬에서의 삼항 연산자."
      ],
      "metadata": {
        "colab": {
          "base_uri": "https://localhost:8080/"
        },
        "id": "XtdFvAqx-s3G",
        "outputId": "09e7aa2e-74f7-48cf-ab83-0852143c8606"
      },
      "execution_count": 23,
      "outputs": [
        {
          "output_type": "execute_result",
          "data": {
            "text/plain": [
              "6"
            ]
          },
          "metadata": {},
          "execution_count": 23
        }
      ]
    },
    {
      "cell_type": "markdown",
      "source": [
        "EX 2. calculate 함수에 첫번째 아규먼트가 크면 True, 아니면 False를 리턴하는 람다 표현식을 전달. + 출력."
      ],
      "metadata": {
        "id": "q2XPMlNL_TY4"
      }
    },
    {
      "cell_type": "code",
      "source": [
        "calculate(3, 5, lambda x, y: True if x > y else False)"
      ],
      "metadata": {
        "colab": {
          "base_uri": "https://localhost:8080/"
        },
        "id": "D8Lccnh2A0UH",
        "outputId": "515ced2d-b5d9-4291-ad0d-da5e4c66297b"
      },
      "execution_count": 24,
      "outputs": [
        {
          "output_type": "execute_result",
          "data": {
            "text/plain": [
              "False"
            ]
          },
          "metadata": {},
          "execution_count": 24
        }
      ]
    },
    {
      "cell_type": "code",
      "source": [
        "calculate(3, 5, lambda x, y: x > y)"
      ],
      "metadata": {
        "colab": {
          "base_uri": "https://localhost:8080/"
        },
        "id": "4hGCXlyzBBHm",
        "outputId": "8a045ab5-a678-4ba6-abe7-5d261dde758b"
      },
      "execution_count": 25,
      "outputs": [
        {
          "output_type": "execute_result",
          "data": {
            "text/plain": [
              "False"
            ]
          },
          "metadata": {},
          "execution_count": 25
        }
      ]
    },
    {
      "cell_type": "markdown",
      "source": [
        "# Filter 함수\n",
        "조건에 맞는 원소들만 선택."
      ],
      "metadata": {
        "id": "9uCEUf7CCFTh"
      }
    },
    {
      "cell_type": "code",
      "source": [
        "def my_filter(iterable, fn):\n",
        "  \"\"\"\n",
        "  리스트 iterable의 원소들 중에서 함수 fn의 호출 결과 값이 True인 원소들로만 이루어진 리스트를 리턴.\n",
        "\n",
        "  Param interable: 리스트.\n",
        "  Parma fn: argument가 1개이고, True/ False를 리턴하는 함수.\n",
        "  \"\"\"\n",
        "  return [x for x in iterable if fn(x)]\n",
        "\n",
        "  # list_result = [] # 필터링된 원소들을 저장할 빈 리스트\n",
        "  # for x in iterable: # 리스트의 원소들을 순서대로 반복하면서,\n",
        "  #   if fn(x): # 그 원소를 함수에게 전달했을 떄 True를 리턴하면\n",
        "  #     # 필터링 조건을 만족하면\n",
        "  #     list_result.append(x) # 결과 리스트에 필터링된 원소를 추가.\n",
        "\n",
        "  # return list_result # 필터링된 결과를 가지고 있는 리스트\n"
      ],
      "metadata": {
        "id": "zJr-763EBcRS"
      },
      "execution_count": 38,
      "outputs": []
    },
    {
      "cell_type": "code",
      "source": [
        "list1 = [1, 3, 4, -1, 0, -8]\n",
        "\n",
        "def test(x):\n",
        "\n",
        "    if x > 0:\n",
        "      return True\n",
        "    else:\n",
        "      return False\n",
        "\n",
        "print(my_filter(list1, lambda x: x > 0))\n",
        "print(my_filter(list1, test))"
      ],
      "metadata": {
        "colab": {
          "base_uri": "https://localhost:8080/"
        },
        "id": "YBwmEWLUD0B8",
        "outputId": "939388fc-05f5-47a6-8290-fac8b686967e"
      },
      "execution_count": 40,
      "outputs": [
        {
          "output_type": "stream",
          "name": "stdout",
          "text": [
            "[1, 3, 4]\n",
            "[1, 3, 4]\n"
          ]
        }
      ]
    },
    {
      "cell_type": "code",
      "source": [
        "my_filter(list1, lambda x: x % 2 == 0)"
      ],
      "metadata": {
        "colab": {
          "base_uri": "https://localhost:8080/"
        },
        "id": "T8fMp-kBE3FG",
        "outputId": "6873698b-2361-455b-86a7-479e3a3163ac"
      },
      "execution_count": 39,
      "outputs": [
        {
          "output_type": "execute_result",
          "data": {
            "text/plain": [
              "[4, 0, -8]"
            ]
          },
          "metadata": {},
          "execution_count": 39
        }
      ]
    },
    {
      "cell_type": "code",
      "source": [
        "strings = ['python', 'java', 'javascript', 'sql']\n",
        "# my_filter 함수를 사용해서 strings에서 5글자 이상인 문자열들만 필터링.\n",
        "my_filter(strings, lambda x: len(x) >= 5 )"
      ],
      "metadata": {
        "colab": {
          "base_uri": "https://localhost:8080/"
        },
        "id": "3UnaxcqrLXhP",
        "outputId": "2e5b40f5-2a97-4068-a349-8a4f91f3546c"
      },
      "execution_count": 42,
      "outputs": [
        {
          "output_type": "execute_result",
          "data": {
            "text/plain": [
              "['python', 'javascript']"
            ]
          },
          "metadata": {},
          "execution_count": 42
        }
      ]
    },
    {
      "cell_type": "markdown",
      "source": [
        "## map 함수\n",
        "\n",
        "원소들을 어떤 규칙에 따라서 다른 값으로 변환."
      ],
      "metadata": {
        "id": "fAJR-5buODME"
      }
    },
    {
      "cell_type": "code",
      "source": [
        "def my_mapper(iterable, fn):\n",
        "  \"\"\"\n",
        "  리스트 iterable의 원소들을 함수 fn의 리턴 값으로 변환한 리스트를 리턴.\n",
        "\n",
        "  Param iterable: 리스트.\n",
        "  Param fn; argument가 1개이고 리턴 값이 있는 함수.\n",
        "  \"\"\"\n",
        "  result = []\n",
        "  for x in iterable:\n",
        "    result.append(fn(x))\n",
        "\n",
        "  return result\n",
        "\n",
        "  # return [fn(x) for x in iterable]\n",
        "\n"
      ],
      "metadata": {
        "id": "28ZhOlxKNMc9"
      },
      "execution_count": 44,
      "outputs": []
    },
    {
      "cell_type": "code",
      "source": [
        "list2 = [1, 35, -3, 4, -6, -29]\n",
        "list3 = ['안녕', '하세요', '집', 'java']\n",
        "\n",
        "my_mapper(list2, lambda x: x > 0)\n"
      ],
      "metadata": {
        "colab": {
          "base_uri": "https://localhost:8080/"
        },
        "id": "bdGomO2vO01n",
        "outputId": "4ef75d26-eb51-4393-f677-abde3d303baf"
      },
      "execution_count": 48,
      "outputs": [
        {
          "output_type": "execute_result",
          "data": {
            "text/plain": [
              "[True, True, False, True, False, False]"
            ]
          },
          "metadata": {},
          "execution_count": 48
        }
      ]
    },
    {
      "cell_type": "code",
      "source": [
        "my_mapper(list3, lambda x: len(x) )"
      ],
      "metadata": {
        "colab": {
          "base_uri": "https://localhost:8080/"
        },
        "id": "ZthbcBxvP1qq",
        "outputId": "bcc0114a-4555-468b-e23d-a246acdba2e8"
      },
      "execution_count": 47,
      "outputs": [
        {
          "output_type": "execute_result",
          "data": {
            "text/plain": [
              "[2, 3, 1, 4]"
            ]
          },
          "metadata": {},
          "execution_count": 47
        }
      ]
    },
    {
      "cell_type": "code",
      "source": [
        "# 리스트 list2의 원소들의 제곱으로 이루어진 리스트\n",
        "my_mapper(list2, lambda x: x**2)\n"
      ],
      "metadata": {
        "colab": {
          "base_uri": "https://localhost:8080/"
        },
        "id": "VK4MVji-QP1P",
        "outputId": "84cc3deb-4ce2-49b8-f151-1e48c69f7e94"
      },
      "execution_count": 49,
      "outputs": [
        {
          "output_type": "execute_result",
          "data": {
            "text/plain": [
              "[1, 1225, 9, 16, 36, 841]"
            ]
          },
          "metadata": {},
          "execution_count": 49
        }
      ]
    },
    {
      "cell_type": "code",
      "source": [
        "# 리스트 list2의 원소가 짝수이면 'even', 홀수이면 'odd'\n",
        "my_mapper(list2, lambda x: 'even' if x % 2 == 0 else 'odd')\n"
      ],
      "metadata": {
        "colab": {
          "base_uri": "https://localhost:8080/"
        },
        "id": "QRmbdiR6QWvE",
        "outputId": "48ddd7c4-5c42-44e2-e909-0f027be7392d"
      },
      "execution_count": 52,
      "outputs": [
        {
          "output_type": "execute_result",
          "data": {
            "text/plain": [
              "['odd', 'odd', 'odd', 'even', 'even', 'odd']"
            ]
          },
          "metadata": {},
          "execution_count": 52
        }
      ]
    },
    {
      "cell_type": "code",
      "source": [
        "# strings가 가지고 잇는 문자열의 길이들로 이루어진 리스트\n",
        "my_mapper(strings, lambda x: len(x))"
      ],
      "metadata": {
        "colab": {
          "base_uri": "https://localhost:8080/"
        },
        "id": "KYhj38d1Q6Fc",
        "outputId": "3bd74fcd-8f4b-436c-a281-8fe29eb066e1"
      },
      "execution_count": 54,
      "outputs": [
        {
          "output_type": "execute_result",
          "data": {
            "text/plain": [
              "[6, 4, 10, 3]"
            ]
          },
          "metadata": {},
          "execution_count": 54
        }
      ]
    },
    {
      "cell_type": "code",
      "source": [
        "# strings의 문자열들을 모두 대문자로 변환한 리스트\n",
        "my_mapper(strings, lambda x: x.upper())"
      ],
      "metadata": {
        "colab": {
          "base_uri": "https://localhost:8080/"
        },
        "id": "K1iKRfR6RxAm",
        "outputId": "3d7f22e9-bedb-42cc-bd18-7de2cc570c37"
      },
      "execution_count": 55,
      "outputs": [
        {
          "output_type": "execute_result",
          "data": {
            "text/plain": [
              "['PYTHON', 'JAVA', 'JAVASCRIPT', 'SQL']"
            ]
          },
          "metadata": {},
          "execution_count": 55
        }
      ]
    }
  ]
}