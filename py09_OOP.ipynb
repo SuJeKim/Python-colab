{
  "nbformat": 4,
  "nbformat_minor": 0,
  "metadata": {
    "colab": {
      "provenance": [],
      "include_colab_link": true
    },
    "kernelspec": {
      "name": "python3",
      "display_name": "Python 3"
    },
    "language_info": {
      "name": "python"
    }
  },
  "cells": [
    {
      "cell_type": "markdown",
      "metadata": {
        "id": "view-in-github",
        "colab_type": "text"
      },
      "source": [
        "<a href=\"https://colab.research.google.com/github/SuJeKim/Python-colab/blob/main/py09_OOP.ipynb\" target=\"_parent\"><img src=\"https://colab.research.google.com/assets/colab-badge.svg\" alt=\"Open In Colab\"/></a>"
      ]
    },
    {
      "cell_type": "markdown",
      "source": [
        "# 객체 지향 프로그래밍(OOP: Object-Oriented Programing)"
      ],
      "metadata": {
        "id": "pnp0ODGzz1zb"
      }
    },
    {
      "cell_type": "code",
      "execution_count": null,
      "metadata": {
        "id": "qOUZhtkRzrvD"
      },
      "outputs": [],
      "source": [
        "class Student:\n",
        "    # 생성자 함수: 생성자를 호출하면 파이썬 인터프리터에 의해서 자동으로 호출되는 메서드.\n",
        "    def __init__(self, no, name, python, java, javascript): # 맴버변수 선언 + 초기화\n",
        "        self.no = no\n",
        "        self.name = name\n",
        "        self.python = python\n",
        "        self.java = java\n",
        "        self.javascript = javascript\n",
        "\n",
        "    def get_total(self):\n",
        "        # 파이썬의 메서드는 멤버들을 접근할 때 반드시 self 키워드를 사용해야 함.\n",
        "        return self.python + self.java + self.javascript\n",
        "\n",
        "    def get_mean(self):\n",
        "        return self.get_total() / 3\n",
        "\n",
        "    def print_info(self):\n",
        "        print(f'Student(번호={self.no}, 이름={self.name}, python={self.python}, java={self.java}, javascript={self.javascript})')"
      ]
    },
    {
      "cell_type": "code",
      "source": [
        "# Student 타입의 객체 생성\n",
        "student1 = Student(1, '홍길동', 100, 90, 50)  # 생성자 호출: 생성자 이름-클래스 이름, new 키워드를 사용하지 않음."
      ],
      "metadata": {
        "id": "3S3rww1n14y8"
      },
      "execution_count": null,
      "outputs": []
    },
    {
      "cell_type": "code",
      "source": [
        "print(student1)  # 객체 student1을 문자열로 출력"
      ],
      "metadata": {
        "colab": {
          "base_uri": "https://localhost:8080/"
        },
        "id": "hGsU-Owu4OmD",
        "outputId": "de0b5740-06b0-459d-fbfa-c1de33b0a6f7"
      },
      "execution_count": null,
      "outputs": [
        {
          "output_type": "stream",
          "name": "stdout",
          "text": [
            "<__main__.Student object at 0x7f7f5f894a60>\n"
          ]
        }
      ]
    },
    {
      "cell_type": "code",
      "source": [
        "student1  # 객체 students1의 식(expression)을 출력 -> 문자열임."
      ],
      "metadata": {
        "colab": {
          "base_uri": "https://localhost:8080/"
        },
        "id": "bI2k7KQO4RAT",
        "outputId": "8b9b58f1-e246-4004-8bc7-2692e9a2f480"
      },
      "execution_count": null,
      "outputs": [
        {
          "output_type": "execute_result",
          "data": {
            "text/plain": [
              "<__main__.Student at 0x7f7f5f894a60>"
            ]
          },
          "metadata": {},
          "execution_count": 18
        }
      ]
    },
    {
      "cell_type": "code",
      "source": [
        "student1.no"
      ],
      "metadata": {
        "colab": {
          "base_uri": "https://localhost:8080/"
        },
        "id": "-mD_Xb5M4oBj",
        "outputId": "f9bdc04f-0d0a-43f2-fbe4-8543a5da2a95"
      },
      "execution_count": null,
      "outputs": [
        {
          "output_type": "execute_result",
          "data": {
            "text/plain": [
              "1"
            ]
          },
          "metadata": {},
          "execution_count": 19
        }
      ]
    },
    {
      "cell_type": "code",
      "source": [
        "student1.name"
      ],
      "metadata": {
        "colab": {
          "base_uri": "https://localhost:8080/",
          "height": 36
        },
        "id": "PoOt0GdH5tz7",
        "outputId": "f3f2bcb5-75ab-40a8-9018-1f3b8b91e827"
      },
      "execution_count": null,
      "outputs": [
        {
          "output_type": "execute_result",
          "data": {
            "text/plain": [
              "'홍길동'"
            ],
            "application/vnd.google.colaboratory.intrinsic+json": {
              "type": "string"
            }
          },
          "metadata": {},
          "execution_count": 20
        }
      ]
    },
    {
      "cell_type": "code",
      "source": [
        "student1.get_total()"
      ],
      "metadata": {
        "colab": {
          "base_uri": "https://localhost:8080/"
        },
        "id": "ffemiVmF7VJh",
        "outputId": "8ca5065b-51d6-43e9-9db3-e15fe77c0c76"
      },
      "execution_count": null,
      "outputs": [
        {
          "output_type": "execute_result",
          "data": {
            "text/plain": [
              "240"
            ]
          },
          "metadata": {},
          "execution_count": 21
        }
      ]
    },
    {
      "cell_type": "code",
      "source": [
        "student1.get_mean()"
      ],
      "metadata": {
        "colab": {
          "base_uri": "https://localhost:8080/"
        },
        "id": "O5pNE7vo9Gyy",
        "outputId": "98c3dc8a-aecf-4232-bf39-fd9ad5395c3a"
      },
      "execution_count": null,
      "outputs": [
        {
          "output_type": "execute_result",
          "data": {
            "text/plain": [
              "80.0"
            ]
          },
          "metadata": {},
          "execution_count": 22
        }
      ]
    },
    {
      "cell_type": "code",
      "source": [
        "student1.print_info()"
      ],
      "metadata": {
        "colab": {
          "base_uri": "https://localhost:8080/"
        },
        "id": "PxFa9vU59NQz",
        "outputId": "b3f436c9-0593-498f-ea57-35261f816616"
      },
      "execution_count": null,
      "outputs": [
        {
          "output_type": "stream",
          "name": "stdout",
          "text": [
            "Student(번호=1, 이름=홍길동, python=100, java=90, javascript=50)\n"
          ]
        }
      ]
    },
    {
      "cell_type": "code",
      "source": [
        "import math\n",
        "# math 모듈을 임포트 -> math.sqrt()"
      ],
      "metadata": {
        "id": "gxqO4s49Bi05"
      },
      "execution_count": null,
      "outputs": []
    },
    {
      "cell_type": "markdown",
      "source": [
        "*  class: Point\n",
        "    *  2차원 평면의 점의 좌표 (x, y)를 표현하는 클래스.\n",
        "*  생성자 함수: x, y를 초기화. x, y의 기본값은 0.\n",
        "*  메서드:\n",
        "    *  move: 점의 좌표를 원래 위치에서 dx, dy만큼 이동시키는 메서드.\n",
        "    *  distance: 현재 점의 위치에서 다른 점까지의 거리를 계산해서 리턴하는 메서드.\n",
        "        *  `sqrt((x1 - x2)**2 + (y1 - y2)**2)`\n",
        "        \n",
        ">>> $ \\sqrt{(x_1 - x_2)^2 + (y_1 - y_2)^2} $"
      ],
      "metadata": {
        "id": "xAnjrhVyBhWZ"
      }
    },
    {
      "cell_type": "code",
      "source": [
        "class Point:\n",
        "    def __init__(self, x=0, y=0):\n",
        "        self.x = x\n",
        "        self.y = y\n",
        "\n",
        "    def move(self, dx, dy):\n",
        "        self.x += dx\n",
        "        self.y += dy\n",
        "\n",
        "    def distance(self, pt):\n",
        "        return math.sqrt((self.x - pt.x) ** 2 + (self.y - pt.y) ** 2)"
      ],
      "metadata": {
        "id": "xkTGfnh0Gc0q"
      },
      "execution_count": null,
      "outputs": []
    },
    {
      "cell_type": "code",
      "source": [
        "pt1 = Point()  # 생성자 함수의 default argument 사용\n",
        "pt1"
      ],
      "metadata": {
        "colab": {
          "base_uri": "https://localhost:8080/"
        },
        "id": "QPBLab98ICTR",
        "outputId": "211860ee-3c7a-4ba0-ce4f-1b25c80ea9d5"
      },
      "execution_count": null,
      "outputs": [
        {
          "output_type": "execute_result",
          "data": {
            "text/plain": [
              "<__main__.Point at 0x7f7f5f897430>"
            ]
          },
          "metadata": {},
          "execution_count": 26
        }
      ]
    },
    {
      "cell_type": "code",
      "source": [
        "print(f'x={pt1.x}, y={pt1.y}')"
      ],
      "metadata": {
        "colab": {
          "base_uri": "https://localhost:8080/"
        },
        "id": "N9VSKT99IUZY",
        "outputId": "b8a43ffa-e24c-49de-927e-b3735d4e3f09"
      },
      "execution_count": null,
      "outputs": [
        {
          "output_type": "stream",
          "name": "stdout",
          "text": [
            "x=0, y=0\n"
          ]
        }
      ]
    },
    {
      "cell_type": "code",
      "source": [
        "pt1.move(1, 1)\n",
        "print(f'x={pt1.x}, y={pt1.y}')"
      ],
      "metadata": {
        "colab": {
          "base_uri": "https://localhost:8080/"
        },
        "id": "cNe8rlyBI5NB",
        "outputId": "3bc8852b-bdf5-4d23-ed52-61aaa12f0575"
      },
      "execution_count": null,
      "outputs": [
        {
          "output_type": "stream",
          "name": "stdout",
          "text": [
            "x=1, y=1\n"
          ]
        }
      ]
    },
    {
      "cell_type": "code",
      "source": [
        "pt2 = Point(1, 2)\n",
        "print(f'x={pt2.x}, y={pt2.y}')"
      ],
      "metadata": {
        "colab": {
          "base_uri": "https://localhost:8080/"
        },
        "id": "7Qw47U0nJAjo",
        "outputId": "c3b80bcb-6aa0-4042-f9ee-12f779795630"
      },
      "execution_count": null,
      "outputs": [
        {
          "output_type": "stream",
          "name": "stdout",
          "text": [
            "x=1, y=2\n"
          ]
        }
      ]
    },
    {
      "cell_type": "code",
      "source": [
        "pt1.distance(pt2)"
      ],
      "metadata": {
        "colab": {
          "base_uri": "https://localhost:8080/"
        },
        "id": "xEUxuSFBJRbY",
        "outputId": "6b8a8aa7-1e01-44f3-df56-8df5f227cf27"
      },
      "execution_count": null,
      "outputs": [
        {
          "output_type": "execute_result",
          "data": {
            "text/plain": [
              "1.0"
            ]
          },
          "metadata": {},
          "execution_count": 30
        }
      ]
    },
    {
      "cell_type": "markdown",
      "source": [
        "# magic method"
      ],
      "metadata": {
        "id": "_qMdxDAtOs3f"
      }
    },
    {
      "cell_type": "markdown",
      "source": [
        "모든 클래스가 같은 이름으로 가지고 있는 메서드.\n",
        "\n",
        "특별한 경우에 파이썬 인터프리터에 의해서 호출되는 메서드.\n",
        "\n",
        "*  `__init__()`:\n",
        "    *  생성자를 호출하면 자동으로 호출되는 메서드.\n",
        "    *  인스턴스의 필드(프로퍼티)들을 선언하고 초기화하는 메서드.\n",
        "*  `__str__()`:\n",
        "    *  `print()`함수의 아규먼트 객체일 때 자동으로 호출되는 메서드.\n",
        "    *  문자열을 리턴하는 메서드.\n",
        "    *  인자를 ‘문자열화’해 반환\n",
        "*  `__repr__()`: representation.\n",
        "    *  식(expression)을 출력할 때 자동으로 호출되는 메서드.\n",
        "    * 객체를 인간이 이해할 수 있는 평문으로 ‘표현’\n",
        "    *  `print()` 함수의 동작 방식:\n",
        "        *  객체를 출력하기 위해서, 그 객체의 `__str__()` 메서드를 호출함.\n",
        "        *  `__str__()` 메서드가 없는 경우에는, `__repr__()` 메서드를 호출함.\n",
        "        *  `__str__()` 메서드와 `__repr__()` 메서드가 모두 없는 경우에는, 기본 문자열 (... object at 0x....)로 출력."
      ],
      "metadata": {
        "id": "EZ9wQ8LSOwcX"
      }
    },
    {
      "cell_type": "code",
      "source": [
        "class T:\n",
        "    def __str__(self):\n",
        "        return 'class T instance'\n",
        "\n",
        "    def __repr__(self):\n",
        "        return 'T'"
      ],
      "metadata": {
        "id": "uDs743TERVY4"
      },
      "execution_count": null,
      "outputs": []
    },
    {
      "cell_type": "code",
      "source": [
        "t = T()  # 생성자 호출 -> __init__() 메서드 호출"
      ],
      "metadata": {
        "id": "kJZsfsKxRZAA"
      },
      "execution_count": null,
      "outputs": []
    },
    {
      "cell_type": "code",
      "source": [
        "print(t)  # __str__() 메서드 자동 호출"
      ],
      "metadata": {
        "colab": {
          "base_uri": "https://localhost:8080/"
        },
        "id": "_L5ZUOHGRsUw",
        "outputId": "ec4a028c-dc8b-4b30-b126-a49e0d9f761e"
      },
      "execution_count": null,
      "outputs": [
        {
          "output_type": "stream",
          "name": "stdout",
          "text": [
            "class T instance\n"
          ]
        }
      ]
    },
    {
      "cell_type": "code",
      "source": [
        "t  # __repr__() 메서드 자동 호출"
      ],
      "metadata": {
        "colab": {
          "base_uri": "https://localhost:8080/"
        },
        "id": "m8-tJ_6rRtH_",
        "outputId": "03a26ef4-5b01-4393-b6fc-ac66448d914c"
      },
      "execution_count": null,
      "outputs": [
        {
          "output_type": "execute_result",
          "data": {
            "text/plain": [
              "T"
            ]
          },
          "metadata": {},
          "execution_count": 46
        }
      ]
    },
    {
      "cell_type": "markdown",
      "source": [
        "*  `__eq__()`: eqaul\n",
        "    *  `==` 연산자를 사용했을 때 자동으로 호출되는 메서드.\n",
        "    *  두 객체가 같은 지(True) 다른 지(False)를 리턴."
      ],
      "metadata": {
        "id": "EaElaHDGT4yP"
      }
    },
    {
      "cell_type": "code",
      "source": [
        "list1 = [1, 2, 3]\n",
        "list2 = [1, 2, 3]\n",
        "list1 == list2  # list 클래스가 __eq__ 메서드를 구현하고 있기 때문에."
      ],
      "metadata": {
        "colab": {
          "base_uri": "https://localhost:8080/"
        },
        "id": "dVEzZAn6T4TX",
        "outputId": "e8d9d3cd-88a4-45dd-db98-be547f627067"
      },
      "execution_count": null,
      "outputs": [
        {
          "output_type": "execute_result",
          "data": {
            "text/plain": [
              "True"
            ]
          },
          "metadata": {},
          "execution_count": 47
        }
      ]
    },
    {
      "cell_type": "code",
      "source": [
        "class Number:\n",
        "    def __init__(self, n):\n",
        "        self.n = n\n",
        "\n",
        "    def __repr__(self):\n",
        "        return str(self.n)\n",
        "\n",
        "    def __eq__(self, other):\n",
        "        return self.n == other.n"
      ],
      "metadata": {
        "id": "EtuVuvRqU224"
      },
      "execution_count": null,
      "outputs": []
    },
    {
      "cell_type": "code",
      "source": [
        "n1 = Number(1)\n",
        "n1"
      ],
      "metadata": {
        "colab": {
          "base_uri": "https://localhost:8080/"
        },
        "id": "6n6DF_XlVtR_",
        "outputId": "de17d90e-6a25-446f-9ab2-ff92109a9af5"
      },
      "execution_count": null,
      "outputs": [
        {
          "output_type": "execute_result",
          "data": {
            "text/plain": [
              "1"
            ]
          },
          "metadata": {},
          "execution_count": 53
        }
      ]
    },
    {
      "cell_type": "code",
      "source": [
        "n2 = Number(1)\n",
        "n2"
      ],
      "metadata": {
        "colab": {
          "base_uri": "https://localhost:8080/"
        },
        "id": "hnOwHqE5VzjP",
        "outputId": "c805057c-9bc9-4627-a07f-b7988f1ca96f"
      },
      "execution_count": null,
      "outputs": [
        {
          "output_type": "execute_result",
          "data": {
            "text/plain": [
              "1"
            ]
          },
          "metadata": {},
          "execution_count": 54
        }
      ]
    },
    {
      "cell_type": "code",
      "source": [
        "n1 == n2  # n1.__eq__(n2)"
      ],
      "metadata": {
        "colab": {
          "base_uri": "https://localhost:8080/"
        },
        "id": "udaNSCs2V93-",
        "outputId": "acc7838a-f5e7-45ef-b75c-c39d4d6e13b6"
      },
      "execution_count": null,
      "outputs": [
        {
          "output_type": "execute_result",
          "data": {
            "text/plain": [
              "True"
            ]
          },
          "metadata": {},
          "execution_count": 55
        }
      ]
    },
    {
      "cell_type": "markdown",
      "source": [
        "# Exercise\n",
        "\n",
        "*  class Score\n",
        "    *  프로퍼티: korean, math, science (int 타입)\n",
        "    *  메서드: `__init__`, `__repr__`, `__eq__`, `get_total`, `get_mean`\n",
        "*  class Student\n",
        "    *  프로퍼티: no(int), name(str), score(Score)\n",
        "    *  메서드: `__init__`, `__repr__`\n"
      ],
      "metadata": {
        "id": "cR-BcSjLn-yN"
      }
    },
    {
      "cell_type": "code",
      "source": [
        "class Score:\n",
        "    def __init__(self, korean=0, math=0, science=0):\n",
        "        self.korean = korean\n",
        "        self.math = math\n",
        "        self.science = science\n",
        "\n",
        "    def __repr__(self):\n",
        "        return f'Score(korean={self.korean}, math={self.math}, science={self.science})'\n",
        "\n",
        "    def __eq__(self, other):\n",
        "        return self.korean == other.korean and \\\n",
        "                self.math == other.math and \\\n",
        "                self.science == other.science\n",
        "\n",
        "    def get_total(self):\n",
        "        return self.korean + self.math + self.science\n",
        "\n",
        "    def get_mean(self):\n",
        "        return self.get_total() / 3"
      ],
      "metadata": {
        "id": "UQIDLuRzo8zN"
      },
      "execution_count": null,
      "outputs": []
    },
    {
      "cell_type": "code",
      "source": [
        "score1 = Score()\n",
        "score1"
      ],
      "metadata": {
        "colab": {
          "base_uri": "https://localhost:8080/"
        },
        "id": "C5c-XKlLwMON",
        "outputId": "ec1c5ee0-37fd-44b5-ae4c-c0f5abc294e1"
      },
      "execution_count": null,
      "outputs": [
        {
          "output_type": "execute_result",
          "data": {
            "text/plain": [
              "Score(korean=0, math=0, science=0)"
            ]
          },
          "metadata": {},
          "execution_count": 57
        }
      ]
    },
    {
      "cell_type": "code",
      "source": [
        "score2 = Score(90, 80, 50)\n",
        "score2"
      ],
      "metadata": {
        "colab": {
          "base_uri": "https://localhost:8080/"
        },
        "id": "yq6m3BOVwjA8",
        "outputId": "41568eff-aa99-4208-dd8d-4fad2d6675af"
      },
      "execution_count": null,
      "outputs": [
        {
          "output_type": "execute_result",
          "data": {
            "text/plain": [
              "Score(korean=90, math=80, science=50)"
            ]
          },
          "metadata": {},
          "execution_count": 58
        }
      ]
    },
    {
      "cell_type": "code",
      "source": [
        "score3 = Score(math=100)\n",
        "score3"
      ],
      "metadata": {
        "colab": {
          "base_uri": "https://localhost:8080/"
        },
        "id": "uT0SA8Eqw0lb",
        "outputId": "32013a06-7902-4fa1-e7f2-7aab70729afc"
      },
      "execution_count": null,
      "outputs": [
        {
          "output_type": "execute_result",
          "data": {
            "text/plain": [
              "Score(korean=0, math=100, science=0)"
            ]
          },
          "metadata": {},
          "execution_count": 59
        }
      ]
    },
    {
      "cell_type": "code",
      "source": [
        "score1 == score2"
      ],
      "metadata": {
        "colab": {
          "base_uri": "https://localhost:8080/"
        },
        "id": "QX21zxVXx_H8",
        "outputId": "96e9c422-1f9e-4df0-deff-643905f039ee"
      },
      "execution_count": null,
      "outputs": [
        {
          "output_type": "execute_result",
          "data": {
            "text/plain": [
              "False"
            ]
          },
          "metadata": {},
          "execution_count": 60
        }
      ]
    },
    {
      "cell_type": "code",
      "source": [
        "score4 = Score(math=80, science=50, korean=90)\n",
        "score4"
      ],
      "metadata": {
        "colab": {
          "base_uri": "https://localhost:8080/"
        },
        "id": "HFmkJt3vyH2k",
        "outputId": "8183e06d-a726-4a34-c9bd-f8764ecdaa24"
      },
      "execution_count": null,
      "outputs": [
        {
          "output_type": "execute_result",
          "data": {
            "text/plain": [
              "Score(korean=90, math=80, science=50)"
            ]
          },
          "metadata": {},
          "execution_count": 61
        }
      ]
    },
    {
      "cell_type": "code",
      "source": [
        "score2 == score4"
      ],
      "metadata": {
        "colab": {
          "base_uri": "https://localhost:8080/"
        },
        "id": "2BB83LrryZks",
        "outputId": "4db66baf-fe8a-4b2b-9d4c-d68fd81cd6b3"
      },
      "execution_count": null,
      "outputs": [
        {
          "output_type": "execute_result",
          "data": {
            "text/plain": [
              "True"
            ]
          },
          "metadata": {},
          "execution_count": 62
        }
      ]
    },
    {
      "cell_type": "code",
      "source": [
        "score4.get_total()"
      ],
      "metadata": {
        "colab": {
          "base_uri": "https://localhost:8080/"
        },
        "id": "JCP-3CC5yi5D",
        "outputId": "d05bada9-1742-4a79-efc3-f4f70e5f7109"
      },
      "execution_count": null,
      "outputs": [
        {
          "output_type": "execute_result",
          "data": {
            "text/plain": [
              "220"
            ]
          },
          "metadata": {},
          "execution_count": 63
        }
      ]
    },
    {
      "cell_type": "code",
      "source": [
        "score4.get_mean()"
      ],
      "metadata": {
        "colab": {
          "base_uri": "https://localhost:8080/"
        },
        "id": "QrqLOqNoyvor",
        "outputId": "eebbb24b-a7da-4814-850e-ac8745c21549"
      },
      "execution_count": null,
      "outputs": [
        {
          "output_type": "execute_result",
          "data": {
            "text/plain": [
              "73.33333333333333"
            ]
          },
          "metadata": {},
          "execution_count": 64
        }
      ]
    },
    {
      "cell_type": "code",
      "source": [
        "class Student:\n",
        "    def __init__(self, no, name, score):\n",
        "        self.no = no\n",
        "        self.name = name\n",
        "        self.score = score\n",
        "\n",
        "    def __repr__(self):\n",
        "        return f'Student(no={self.no}, name={self.name}, score={self.score})'"
      ],
      "metadata": {
        "id": "_9b2UV3gy_5L"
      },
      "execution_count": null,
      "outputs": []
    },
    {
      "cell_type": "code",
      "source": [
        "student1 = Student(1, '오쌤', score1)\n",
        "student1"
      ],
      "metadata": {
        "colab": {
          "base_uri": "https://localhost:8080/"
        },
        "id": "PXB_4HXXzgHN",
        "outputId": "01d49a16-df26-493e-e61d-7b03abb38c52"
      },
      "execution_count": null,
      "outputs": [
        {
          "output_type": "execute_result",
          "data": {
            "text/plain": [
              "Student(no=1, name=오쌤, score=Score(korean=0, math=0, science=0))"
            ]
          },
          "metadata": {},
          "execution_count": 66
        }
      ]
    },
    {
      "cell_type": "code",
      "source": [
        "student2 = Student(2, '홍길동', Score())\n",
        "student2"
      ],
      "metadata": {
        "colab": {
          "base_uri": "https://localhost:8080/"
        },
        "id": "uzPFFadNzq0L",
        "outputId": "b027c892-a28c-4a0b-bf31-7e48151f055b"
      },
      "execution_count": null,
      "outputs": [
        {
          "output_type": "execute_result",
          "data": {
            "text/plain": [
              "Student(no=2, name=홍길동, score=Score(korean=0, math=0, science=0))"
            ]
          },
          "metadata": {},
          "execution_count": 67
        }
      ]
    },
    {
      "cell_type": "code",
      "source": [
        "student1.score == student2.score\n",
        "# student1.score.__eq__(student2.score)"
      ],
      "metadata": {
        "colab": {
          "base_uri": "https://localhost:8080/"
        },
        "id": "lQDSgcYj0JcU",
        "outputId": "328fdbe6-2b83-4864-bb70-2724e9b84a1b"
      },
      "execution_count": null,
      "outputs": [
        {
          "output_type": "execute_result",
          "data": {
            "text/plain": [
              "True"
            ]
          },
          "metadata": {},
          "execution_count": 68
        }
      ]
    },
    {
      "cell_type": "markdown",
      "source": [
        "# 상속(Inheritance)"
      ],
      "metadata": {
        "id": "OVeGAnGN58fU"
      }
    },
    {
      "cell_type": "markdown",
      "source": [
        "*  super class(상위 클래스), parent class(부모 클래스), base class(기본 클래스)\n",
        "*  sub class(하위 클래스), child class(자식 클래스), derived class(유도 클래스)\n",
        "*  상속: 상위 클래스의 속성(데이터)들과 기능(메서드)들을 하위 클래스에서 재상용하는 것.\n",
        "*  일반적으로 **IS-A** 관계가 성립하는 객체들을 상속을 사용해서 구현함.\n",
        "    *  학생은 사람이다(Student IS A Person)."
      ],
      "metadata": {
        "id": "8F6SMEpD6AXT"
      }
    },
    {
      "cell_type": "code",
      "source": [
        "class Person:\n",
        "    def __init__(self, name, age=0):\n",
        "        self.name = name\n",
        "        self.age = age\n",
        "\n",
        "    def hello(self):\n",
        "        print(f'안녕하세요, 저는 {self.name}입니다. 나이는 {self.age}입니다.')"
      ],
      "metadata": {
        "id": "7EocAxyx7Xoe"
      },
      "execution_count": null,
      "outputs": []
    },
    {
      "cell_type": "code",
      "source": [
        "gildong = Person('홍길동')\n",
        "gildong.hello()"
      ],
      "metadata": {
        "colab": {
          "base_uri": "https://localhost:8080/"
        },
        "id": "jNaMCHcd8ZV6",
        "outputId": "7d20f7d5-0ff9-4a27-fb23-14ae33dbd9f7"
      },
      "execution_count": null,
      "outputs": [
        {
          "output_type": "stream",
          "name": "stdout",
          "text": [
            "안녕하세요, 저는 홍길동입니다. 나이는 0입니다.\n"
          ]
        }
      ]
    },
    {
      "cell_type": "code",
      "source": [
        "# Person을 상속하는 Student 클래스 정의\n",
        "class Student(Person):\n",
        "    # 생성자 method override\n",
        "    def __init__(self, name, age=0, school='Test'):\n",
        "        # 하위 클래스에서 상위 클래스의 메서드를 호출:\n",
        "        super().__init__(name, age)\n",
        "        self.school = school\n",
        "\n",
        "    # hello method override\n",
        "    def hello(self):\n",
        "        super().hello()\n",
        "        print(f'학교는 {self.school}입니다.')"
      ],
      "metadata": {
        "id": "zmVQuaK08zAK"
      },
      "execution_count": null,
      "outputs": []
    },
    {
      "cell_type": "code",
      "source": [
        "stu = Student(name='오쌤', age=16, school='아이티윌')"
      ],
      "metadata": {
        "id": "kCnb__1P9AEC"
      },
      "execution_count": null,
      "outputs": []
    },
    {
      "cell_type": "code",
      "source": [
        "stu.hello()"
      ],
      "metadata": {
        "colab": {
          "base_uri": "https://localhost:8080/"
        },
        "id": "S4L2HkWm_21U",
        "outputId": "6ed6d324-b3b5-479d-bd4f-48e385b023d7"
      },
      "execution_count": null,
      "outputs": [
        {
          "output_type": "stream",
          "name": "stdout",
          "text": [
            "안녕하세요, 저는 오쌤입니다. 나이는 16입니다.\n",
            "학교는 아이티윌입니다.\n"
          ]
        }
      ]
    },
    {
      "cell_type": "markdown",
      "source": [
        "**Method Override**\n",
        "\n",
        "* 상위 클래스의 메서드를 하위 클래스에서 재정의하는 것.\n",
        "    * 파이썬에서는 메서드의 이름만 같으면 (파라미터 타입/개수와 상관 없이) 메서드가 재정의됨.\n",
        "        * 파이썬은 같은 이름으로 2개 이상의 메서드(함수)를 가질 수 없음 - overloading은 제공하지 않음.\n",
        "    * 자바에서는 메서드 이름, 파라미터 타입/개수/순서가 모두 동일한 경우에 메서드가 재정의됨.\n",
        "        * 파라미터가 다르면 같은 이름의 메서드가 2개 이상 있을 수 있음 - overloading\n",
        "* 하위 클래스에서 재정의(overrid)된 상위 클래스의 메서드를 명시적으로 호출하기 위해서는 `super().method_name(...)`의 형식으로 호출함."
      ],
      "metadata": {
        "id": "uHZIBVplBZSS"
      }
    },
    {
      "cell_type": "code",
      "source": [
        "def a():\n",
        "    print('a')"
      ],
      "metadata": {
        "id": "7RomA5mnE-RS"
      },
      "execution_count": null,
      "outputs": []
    },
    {
      "cell_type": "code",
      "source": [
        "def a(msg):\n",
        "    print(msg)"
      ],
      "metadata": {
        "id": "tqqgMyDhFGrr"
      },
      "execution_count": null,
      "outputs": []
    },
    {
      "cell_type": "code",
      "source": [
        "a('test')"
      ],
      "metadata": {
        "colab": {
          "base_uri": "https://localhost:8080/"
        },
        "id": "2zCi1_kjFT-Z",
        "outputId": "5ad5a589-e799-4711-a3fa-e1aa02c9c5ad"
      },
      "execution_count": null,
      "outputs": [
        {
          "output_type": "stream",
          "name": "stdout",
          "text": [
            "test\n"
          ]
        }
      ]
    },
    {
      "cell_type": "markdown",
      "source": [
        "파이썬은 함수(메서드) 오버로딩을 제공하지 않음.\n",
        "\n",
        "파라미터가 다르다고 해서 같은 이름으로 함수(메서드)를 정의할 수 없음.\n",
        "\n",
        "같은 이름으로 함수를 정의하면, 가장 마지막에서 정의한 함수만 남음.\n",
        "\n",
        "파이썬은 함수(메서드) 오버로딩 대신에, default argument를 이용하면, 같은 이름의 함수를 여러가지 방법으로 호출할 수 있음."
      ],
      "metadata": {
        "id": "6qGDmQWnGEFR"
      }
    },
    {
      "cell_type": "code",
      "source": [
        "def a(msg='a'):\n",
        "    print(msg)"
      ],
      "metadata": {
        "id": "vwm0auw-GgZE"
      },
      "execution_count": null,
      "outputs": []
    },
    {
      "cell_type": "code",
      "source": [
        "a()"
      ],
      "metadata": {
        "colab": {
          "base_uri": "https://localhost:8080/"
        },
        "id": "oqdvAOizGnnC",
        "outputId": "a5ace81c-0126-45e7-a3fc-164e1c927910"
      },
      "execution_count": null,
      "outputs": [
        {
          "output_type": "stream",
          "name": "stdout",
          "text": [
            "a\n"
          ]
        }
      ]
    },
    {
      "cell_type": "code",
      "source": [
        "a('TEST')"
      ],
      "metadata": {
        "colab": {
          "base_uri": "https://localhost:8080/"
        },
        "id": "tUd6_XhjGrOx",
        "outputId": "3591c332-6266-4956-cf39-8810f5219fb6"
      },
      "execution_count": null,
      "outputs": [
        {
          "output_type": "stream",
          "name": "stdout",
          "text": [
            "TEST\n"
          ]
        }
      ]
    }
  ]
}