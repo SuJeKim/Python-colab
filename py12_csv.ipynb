{
  "nbformat": 4,
  "nbformat_minor": 0,
  "metadata": {
    "colab": {
      "provenance": [],
      "mount_file_id": "1w0oC773pk_nAwPRVbQecIdXQvQ5oQ4qu",
      "authorship_tag": "ABX9TyNtUNnBNOGQ9UDI+1ZY8eMF",
      "include_colab_link": true
    },
    "kernelspec": {
      "name": "python3",
      "display_name": "Python 3"
    },
    "language_info": {
      "name": "python"
    }
  },
  "cells": [
    {
      "cell_type": "markdown",
      "metadata": {
        "id": "view-in-github",
        "colab_type": "text"
      },
      "source": [
        "<a href=\"https://colab.research.google.com/github/SuJeKim/Python-colab/blob/main/py12_csv.ipynb\" target=\"_parent\"><img src=\"https://colab.research.google.com/assets/colab-badge.svg\" alt=\"Open In Colab\"/></a>"
      ]
    },
    {
      "cell_type": "markdown",
      "source": [
        "CSV(Comma-Separated Values) 파일: 쉼표(,)로 값들이 구분된 텍스트 파일."
      ],
      "metadata": {
        "id": "kPPuiQESqIbj"
      }
    },
    {
      "cell_type": "markdown",
      "source": [
        "* Colab 연결(가상 머신 할당)\n",
        "* Colab에서 Google Drive를 마운트(연결)\n",
        "* Google Drive colab Notebooks/lab_python 폴더에 csv_exam.csv 파일을 업로드\n",
        "\n",
        "1. csv_exam.csv 파일을 읽기 모드로 open.\n",
        "1. 파일의 첫번째 줄은 컬럼이름이기 때문에 읽고 추가 작업 없이 건너뜀.\n",
        "1. 파이알의 두번쨰 줄부터 마지막 줄까지 한 줄씩 반복:\n",
        "  * 각 줄에서 읽은 내용을 쉼표(,)로 구분한 리스트들을 저장하는 리스트를 만듦.\n",
        "  * `[['1','2',....],[],[]]`\n",
        "1. 위에서 만들어진 2차원 리스트의 모든 값들을 숫자로 변환.\n",
        "  * `[[1,1,...],[],...]`\n",
        "1, 2차원 숫자 리스트에서 수학점수들로만 이루어진 1차원 리스트를 만듦.\n",
        "  *`[50, 50, ...]`\n",
        "1. 수학 점수의 평균, 최댓값, 최솟값을 찾음.\n",
        "1. 1반(class=1) 학생들의 수학점수의 총점, 평균, 최댓값, 최솟값을 찾음."
      ],
      "metadata": {
        "id": "zF3RJJ4qqVS7"
      }
    },
    {
      "cell_type": "code",
      "source": [
        "import os\n",
        "\n",
        "# Mount시 구글 드라이브 폴더 절대 경로\n",
        "dir_path = '/content/drive/MyDrive/Colab Notebooks/lab_python'\n",
        "\n",
        "# 저장할 파일 이름\n",
        "file_name = 'csv_exam.csv'\n",
        "\n",
        "file = os.path.join(dir_path, file_name)\n"
      ],
      "metadata": {
        "id": "tO1ioaRVulGz"
      },
      "execution_count": 2,
      "outputs": []
    },
    {
      "cell_type": "code",
      "source": [
        "exam = [] # 각 학생들의 데이터(id, class, math, english, sciece)를 저장할 리스트"
      ],
      "metadata": {
        "id": "5M_RCeY3Hx38"
      },
      "execution_count": 19,
      "outputs": []
    },
    {
      "cell_type": "code",
      "execution_count": 23,
      "metadata": {
        "colab": {
          "base_uri": "https://localhost:8080/"
        },
        "id": "H7UIsievp-GG",
        "outputId": "e4717b8c-c204-4352-80e1-c6dacb434b2a"
      },
      "outputs": [
        {
          "output_type": "stream",
          "name": "stdout",
          "text": [
            "[['1', '1', '50', '98', '50'], ['2', '1', '60', '97', '60'], ['3', '1', '45', '86', '78'], ['4', '1', '30', '98', '58'], ['5', '2', '25', '80', '65'], ['6', '2', '50', '89', '98'], ['7', '2', '80', '90', '45'], ['8', '2', '90', '78', '25'], ['9', '3', '20', '98', '15'], ['10', '3', '50', '98', '45'], ['11', '3', '65', '65', '65'], ['12', '3', '45', '85', '32'], ['13', '4', '46', '98', '65'], ['14', '4', '48', '87', '12'], ['15', '4', '75', '56', '78'], ['16', '4', '58', '98', '65'], ['17', '5', '65', '68', '98'], ['18', '5', '80', '78', '90'], ['19', '5', '89', '68', '87'], ['20', '5', '78', '83', '58']]\n"
          ]
        }
      ],
      "source": [
        "with open(file,mode='rt') as f:\n",
        "  f.readline() # 파일에서 첫번째 줄을 읽고 넘어감.\n",
        "  for line in f:\n",
        "    # 읽은 한 줄에서 앞뒤의 공백 문자를 제거하고, 쉼표로 구분된 문자열 리스트를 만듦.\n",
        "    temp = line.strip().split(',')\n",
        "    exam.append(temp) # 리스트 exam에 리스트를 추가(append)\n",
        "\n",
        "print(exam)\n",
        "\n",
        "\n"
      ]
    },
    {
      "cell_type": "code",
      "source": [
        "with open(file, mode='rt') as f:\n",
        "  f.readline()\n",
        "  exam = [line.strip().split(',') for line in f]\n",
        "\n",
        "exam"
      ],
      "metadata": {
        "colab": {
          "base_uri": "https://localhost:8080/"
        },
        "id": "no5NUn9pueii",
        "outputId": "0ba90735-a756-4c9c-e4cf-706918690240"
      },
      "execution_count": 25,
      "outputs": [
        {
          "output_type": "execute_result",
          "data": {
            "text/plain": [
              "[['1', '1', '50', '98', '50'],\n",
              " ['2', '1', '60', '97', '60'],\n",
              " ['3', '1', '45', '86', '78'],\n",
              " ['4', '1', '30', '98', '58'],\n",
              " ['5', '2', '25', '80', '65'],\n",
              " ['6', '2', '50', '89', '98'],\n",
              " ['7', '2', '80', '90', '45'],\n",
              " ['8', '2', '90', '78', '25'],\n",
              " ['9', '3', '20', '98', '15'],\n",
              " ['10', '3', '50', '98', '45'],\n",
              " ['11', '3', '65', '65', '65'],\n",
              " ['12', '3', '45', '85', '32'],\n",
              " ['13', '4', '46', '98', '65'],\n",
              " ['14', '4', '48', '87', '12'],\n",
              " ['15', '4', '75', '56', '78'],\n",
              " ['16', '4', '58', '98', '65'],\n",
              " ['17', '5', '65', '68', '98'],\n",
              " ['18', '5', '80', '78', '90'],\n",
              " ['19', '5', '89', '68', '87'],\n",
              " ['20', '5', '78', '83', '58']]"
            ]
          },
          "metadata": {},
          "execution_count": 25
        }
      ]
    },
    {
      "cell_type": "code",
      "source": [
        "exam2 = []\n",
        "for row in exam:\n",
        "  row_num = []\n",
        "  for x in row:\n",
        "    row_num.append(int(x))\n",
        "  exam2.append(row_num)\n",
        "\n",
        "exam2"
      ],
      "metadata": {
        "colab": {
          "base_uri": "https://localhost:8080/"
        },
        "id": "lDVuFNpAJFB4",
        "outputId": "b3acc0a2-5782-400e-a237-341c26a46354"
      },
      "execution_count": 26,
      "outputs": [
        {
          "output_type": "execute_result",
          "data": {
            "text/plain": [
              "[[1, 1, 50, 98, 50],\n",
              " [2, 1, 60, 97, 60],\n",
              " [3, 1, 45, 86, 78],\n",
              " [4, 1, 30, 98, 58],\n",
              " [5, 2, 25, 80, 65],\n",
              " [6, 2, 50, 89, 98],\n",
              " [7, 2, 80, 90, 45],\n",
              " [8, 2, 90, 78, 25],\n",
              " [9, 3, 20, 98, 15],\n",
              " [10, 3, 50, 98, 45],\n",
              " [11, 3, 65, 65, 65],\n",
              " [12, 3, 45, 85, 32],\n",
              " [13, 4, 46, 98, 65],\n",
              " [14, 4, 48, 87, 12],\n",
              " [15, 4, 75, 56, 78],\n",
              " [16, 4, 58, 98, 65],\n",
              " [17, 5, 65, 68, 98],\n",
              " [18, 5, 80, 78, 90],\n",
              " [19, 5, 89, 68, 87],\n",
              " [20, 5, 78, 83, 58]]"
            ]
          },
          "metadata": {},
          "execution_count": 26
        }
      ]
    },
    {
      "cell_type": "code",
      "source": [
        "exam2 = []\n",
        "for row in exam:\n",
        "  row_num = [int(x) for x in row]\n",
        "  exam2.append(row_num)\n",
        "\n",
        "exam2"
      ],
      "metadata": {
        "colab": {
          "base_uri": "https://localhost:8080/"
        },
        "id": "W1hPCtbaKsxE",
        "outputId": "c1a12003-f5f8-4bd3-9e44-b92ae889748d"
      },
      "execution_count": 27,
      "outputs": [
        {
          "output_type": "execute_result",
          "data": {
            "text/plain": [
              "[[1, 1, 50, 98, 50],\n",
              " [2, 1, 60, 97, 60],\n",
              " [3, 1, 45, 86, 78],\n",
              " [4, 1, 30, 98, 58],\n",
              " [5, 2, 25, 80, 65],\n",
              " [6, 2, 50, 89, 98],\n",
              " [7, 2, 80, 90, 45],\n",
              " [8, 2, 90, 78, 25],\n",
              " [9, 3, 20, 98, 15],\n",
              " [10, 3, 50, 98, 45],\n",
              " [11, 3, 65, 65, 65],\n",
              " [12, 3, 45, 85, 32],\n",
              " [13, 4, 46, 98, 65],\n",
              " [14, 4, 48, 87, 12],\n",
              " [15, 4, 75, 56, 78],\n",
              " [16, 4, 58, 98, 65],\n",
              " [17, 5, 65, 68, 98],\n",
              " [18, 5, 80, 78, 90],\n",
              " [19, 5, 89, 68, 87],\n",
              " [20, 5, 78, 83, 58]]"
            ]
          },
          "metadata": {},
          "execution_count": 27
        }
      ]
    },
    {
      "cell_type": "code",
      "source": [
        "exam2 = [[int(x) for x in row] for row in exam]\n",
        "\n",
        "exam2"
      ],
      "metadata": {
        "colab": {
          "base_uri": "https://localhost:8080/"
        },
        "id": "eA25U6FlK7id",
        "outputId": "4bb4fc69-d3fb-4be7-97cb-1e6cba5c42f0"
      },
      "execution_count": 28,
      "outputs": [
        {
          "output_type": "execute_result",
          "data": {
            "text/plain": [
              "[[1, 1, 50, 98, 50],\n",
              " [2, 1, 60, 97, 60],\n",
              " [3, 1, 45, 86, 78],\n",
              " [4, 1, 30, 98, 58],\n",
              " [5, 2, 25, 80, 65],\n",
              " [6, 2, 50, 89, 98],\n",
              " [7, 2, 80, 90, 45],\n",
              " [8, 2, 90, 78, 25],\n",
              " [9, 3, 20, 98, 15],\n",
              " [10, 3, 50, 98, 45],\n",
              " [11, 3, 65, 65, 65],\n",
              " [12, 3, 45, 85, 32],\n",
              " [13, 4, 46, 98, 65],\n",
              " [14, 4, 48, 87, 12],\n",
              " [15, 4, 75, 56, 78],\n",
              " [16, 4, 58, 98, 65],\n",
              " [17, 5, 65, 68, 98],\n",
              " [18, 5, 80, 78, 90],\n",
              " [19, 5, 89, 68, 87],\n",
              " [20, 5, 78, 83, 58]]"
            ]
          },
          "metadata": {},
          "execution_count": 28
        }
      ]
    },
    {
      "cell_type": "code",
      "source": [
        "math = []\n",
        "for row in exam2:\n",
        "   math.append(row[2])\n",
        "\n",
        "math"
      ],
      "metadata": {
        "colab": {
          "base_uri": "https://localhost:8080/"
        },
        "id": "QiO6FPBnLc-Q",
        "outputId": "a0597393-7653-4bb5-9e39-86532771fae0"
      },
      "execution_count": 29,
      "outputs": [
        {
          "output_type": "execute_result",
          "data": {
            "text/plain": [
              "[50,\n",
              " 60,\n",
              " 45,\n",
              " 30,\n",
              " 25,\n",
              " 50,\n",
              " 80,\n",
              " 90,\n",
              " 20,\n",
              " 50,\n",
              " 65,\n",
              " 45,\n",
              " 46,\n",
              " 48,\n",
              " 75,\n",
              " 58,\n",
              " 65,\n",
              " 80,\n",
              " 89,\n",
              " 78]"
            ]
          },
          "metadata": {},
          "execution_count": 29
        }
      ]
    },
    {
      "cell_type": "code",
      "source": [
        "math = [row[2] for row in exam2]\n",
        "\n",
        "math"
      ],
      "metadata": {
        "colab": {
          "base_uri": "https://localhost:8080/"
        },
        "id": "jfSU9_shMZJP",
        "outputId": "b3872648-047f-4688-f227-26f2d813d0d7"
      },
      "execution_count": 30,
      "outputs": [
        {
          "output_type": "execute_result",
          "data": {
            "text/plain": [
              "[50,\n",
              " 60,\n",
              " 45,\n",
              " 30,\n",
              " 25,\n",
              " 50,\n",
              " 80,\n",
              " 90,\n",
              " 20,\n",
              " 50,\n",
              " 65,\n",
              " 45,\n",
              " 46,\n",
              " 48,\n",
              " 75,\n",
              " 58,\n",
              " 65,\n",
              " 80,\n",
              " 89,\n",
              " 78]"
            ]
          },
          "metadata": {},
          "execution_count": 30
        }
      ]
    },
    {
      "cell_type": "code",
      "source": [
        "# 수학 평균\n",
        "sum(math) / len(math)"
      ],
      "metadata": {
        "colab": {
          "base_uri": "https://localhost:8080/"
        },
        "id": "s_JdkUhVM5Um",
        "outputId": "e7bd7777-7144-4f75-e6ae-04fc73605e23"
      },
      "execution_count": 31,
      "outputs": [
        {
          "output_type": "execute_result",
          "data": {
            "text/plain": [
              "57.45"
            ]
          },
          "metadata": {},
          "execution_count": 31
        }
      ]
    },
    {
      "cell_type": "code",
      "source": [
        "# 수학 최댓값\n",
        "max(math)"
      ],
      "metadata": {
        "colab": {
          "base_uri": "https://localhost:8080/"
        },
        "id": "giCAeE3xNF6_",
        "outputId": "5aca8eb5-15e8-4993-e345-94df912711f6"
      },
      "execution_count": 32,
      "outputs": [
        {
          "output_type": "execute_result",
          "data": {
            "text/plain": [
              "90"
            ]
          },
          "metadata": {},
          "execution_count": 32
        }
      ]
    },
    {
      "cell_type": "code",
      "source": [
        "# 최솟값\n",
        "min(math)"
      ],
      "metadata": {
        "colab": {
          "base_uri": "https://localhost:8080/"
        },
        "id": "LOxyYEevNHoL",
        "outputId": "394bad52-85be-490e-fdcf-fe92d68d2dd1"
      },
      "execution_count": 33,
      "outputs": [
        {
          "output_type": "execute_result",
          "data": {
            "text/plain": [
              "20"
            ]
          },
          "metadata": {},
          "execution_count": 33
        }
      ]
    },
    {
      "cell_type": "code",
      "source": [
        "# 1반(class = 1) 학생들의 수학점수\n",
        "math_class1 = math[:4] # 20명 학생들 중 앞에서 4개 선택 -> 1반\n",
        "math_class1"
      ],
      "metadata": {
        "colab": {
          "base_uri": "https://localhost:8080/"
        },
        "id": "c4Eb6unmNNjL",
        "outputId": "d1d10ffd-1591-47ce-cd80-7395b78411c5"
      },
      "execution_count": 34,
      "outputs": [
        {
          "output_type": "execute_result",
          "data": {
            "text/plain": [
              "[50, 60, 45, 30]"
            ]
          },
          "metadata": {},
          "execution_count": 34
        }
      ]
    },
    {
      "cell_type": "code",
      "source": [
        "math_class1 = []\n",
        "for row in exam2:\n",
        "  if row[1] == 1: # class 값이 1인 경우\n",
        "    math_class1.append(row[2]) # 수학 점수를 append\n",
        "\n",
        "math_class1"
      ],
      "metadata": {
        "colab": {
          "base_uri": "https://localhost:8080/"
        },
        "id": "waHpxqy5OMFp",
        "outputId": "a63d179d-2148-496b-b856-47228e1f2267"
      },
      "execution_count": 35,
      "outputs": [
        {
          "output_type": "execute_result",
          "data": {
            "text/plain": [
              "[50, 60, 45, 30]"
            ]
          },
          "metadata": {},
          "execution_count": 35
        }
      ]
    },
    {
      "cell_type": "code",
      "source": [
        "math_class1 = [row[2] for row in exam2 if row[1] == 1]\n",
        "math_class1"
      ],
      "metadata": {
        "colab": {
          "base_uri": "https://localhost:8080/"
        },
        "id": "EEIrOxTvO33Z",
        "outputId": "e3475829-b29a-49e9-d974-28a9a36a4db0"
      },
      "execution_count": 36,
      "outputs": [
        {
          "output_type": "execute_result",
          "data": {
            "text/plain": [
              "[50, 60, 45, 30]"
            ]
          },
          "metadata": {},
          "execution_count": 36
        }
      ]
    },
    {
      "cell_type": "code",
      "source": [
        "sum(math_class1)"
      ],
      "metadata": {
        "colab": {
          "base_uri": "https://localhost:8080/"
        },
        "id": "kFw_R2foPL4-",
        "outputId": "a20c4b59-863e-4d62-aa7b-9028d39b5344"
      },
      "execution_count": 37,
      "outputs": [
        {
          "output_type": "execute_result",
          "data": {
            "text/plain": [
              "185"
            ]
          },
          "metadata": {},
          "execution_count": 37
        }
      ]
    },
    {
      "cell_type": "code",
      "source": [
        "sum(math_class1) / len(math_class1)"
      ],
      "metadata": {
        "colab": {
          "base_uri": "https://localhost:8080/"
        },
        "id": "wfIlk_oaPcfX",
        "outputId": "fd92fc0c-6894-4c61-845f-33c50304d029"
      },
      "execution_count": 38,
      "outputs": [
        {
          "output_type": "execute_result",
          "data": {
            "text/plain": [
              "46.25"
            ]
          },
          "metadata": {},
          "execution_count": 38
        }
      ]
    },
    {
      "cell_type": "code",
      "source": [
        "max(math_class1)"
      ],
      "metadata": {
        "colab": {
          "base_uri": "https://localhost:8080/"
        },
        "id": "hiU7mLL0PgI2",
        "outputId": "6cd8fb9b-019a-4a4f-92c9-75fc6f621bd8"
      },
      "execution_count": 39,
      "outputs": [
        {
          "output_type": "execute_result",
          "data": {
            "text/plain": [
              "60"
            ]
          },
          "metadata": {},
          "execution_count": 39
        }
      ]
    },
    {
      "cell_type": "code",
      "source": [
        "min(math_class1)"
      ],
      "metadata": {
        "colab": {
          "base_uri": "https://localhost:8080/"
        },
        "id": "92WKEz4ePkrr",
        "outputId": "34f664a7-c91a-44fa-f467-bfa4a137481a"
      },
      "execution_count": 40,
      "outputs": [
        {
          "output_type": "execute_result",
          "data": {
            "text/plain": [
              "30"
            ]
          },
          "metadata": {},
          "execution_count": 40
        }
      ]
    }
  ]
}