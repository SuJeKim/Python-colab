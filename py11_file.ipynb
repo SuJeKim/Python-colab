{
  "nbformat": 4,
  "nbformat_minor": 0,
  "metadata": {
    "colab": {
      "provenance": [],
      "mount_file_id": "1wahbe8wk_U7p8qkstwpbEbAIcmQuvKBQ",
      "authorship_tag": "ABX9TyPuWZ7nFPS/rQnw723w2+ER",
      "include_colab_link": true
    },
    "kernelspec": {
      "name": "python3",
      "display_name": "Python 3"
    },
    "language_info": {
      "name": "python"
    }
  },
  "cells": [
    {
      "cell_type": "markdown",
      "metadata": {
        "id": "view-in-github",
        "colab_type": "text"
      },
      "source": [
        "<a href=\"https://colab.research.google.com/github/SuJeKim/Python-colab/blob/main/py11_file.ipynb\" target=\"_parent\"><img src=\"https://colab.research.google.com/assets/colab-badge.svg\" alt=\"Open In Colab\"/></a>"
      ]
    },
    {
      "cell_type": "markdown",
      "source": [
        "# 파일 쓰기(wirte)"
      ],
      "metadata": {
        "id": "W-TjOek9RzT_"
      }
    },
    {
      "cell_type": "markdown",
      "source": [
        "파일 쓰기 순서:\n",
        "\n",
        "1. 파일 열기(open)\n",
        "1. 파일 내용 쓰기(wirte)\n",
        "1. 파일 닫기(close)\n",
        "\n",
        "(opesn, write, close): 파이썬에서 기본으로 제공하는 함수이름.\n",
        "\n",
        "`open(file, mode='rt',...)`:\n",
        "* file: 폴더(디렉토리)를 포함한 파일 이름.\n",
        "* mode: 파일 여는 방법(모드).\n",
        "  * r(read): 읽기. 기본값. -> 파일 변경 안됨.\n",
        "    * 파일이 하드에 없을 경우 FileNotFoundError 에러 발생\n",
        "  * w(write): 쓰기.\n",
        "    * 파일이 있으면 기존 내용이 모두 삭제되고 파일의 처음부터 다시 쓰기 시작.\n",
        "    * 파일이 없으면 새로운 파일을 생성하고 파일 쓰기가 됨.\n",
        "  * a(append): 이어쓰기.\n",
        "    * 파일이 있으면 기존 작성된 내용 이후부터 이어서 쓰기.\n",
        "    * 파일이 없으면 새로운 파일을 생성하고 이어쓰기.\n",
        "  * t(text): 텍스트 (읽기/ 쓰기). 기본값\n",
        "    * 인코딩된 문자열.\n",
        "  * b(binary): 이진 데이터(읽기/쓰기).\n",
        "    * (예) 이미지, 동영상,...."
      ],
      "metadata": {
        "id": "T08QhsZAR4VH"
      }
    },
    {
      "cell_type": "code",
      "execution_count": 7,
      "metadata": {
        "id": "j3Sd9SZTRboh"
      },
      "outputs": [],
      "source": [
        "# 1. 파일을 텍스트 쓰기 모드로 open:\n",
        "f = open('test1.txt', mode='wt')\n",
        "\n",
        "# 2. 파일 쓰기:\n",
        "## 자동 줄바꿈 안됨. \\n: 줄바꿈\n",
        "f.write('안녕하세요...\\n')\n",
        "f.write('Hello, python!\\n')\n",
        "f.write('1232343\\n')\n",
        "\n",
        "# 3. 파일 닫기:\n",
        "f.close()"
      ]
    },
    {
      "cell_type": "code",
      "source": [
        "# close()를 사용하지 않아도 되는 라이브러리\n",
        "# with ~ as 구문: 오픈된 리소스(파일)에서 close() 메서드를 자동으로 호출.\n",
        "with open('test2.txt', 'wt') as f: # 오픈된 리소스를 f라는 변수에 할당.\n",
        "  f.write('hello\\n')\n",
        "  f.write('즐거운 월요일\\n')"
      ],
      "metadata": {
        "id": "2jumD3BnXQ0O"
      },
      "execution_count": 6,
      "outputs": []
    },
    {
      "cell_type": "markdown",
      "source": [
        "# 파일 읽기."
      ],
      "metadata": {
        "id": "RuJCLZwGcuKa"
      }
    },
    {
      "cell_type": "code",
      "source": [
        "with open('test.txt', mode='rt') as f:\n",
        "  pass"
      ],
      "metadata": {
        "colab": {
          "base_uri": "https://localhost:8080/",
          "height": 193
        },
        "id": "8F1Mt9LQcwaS",
        "outputId": "3253c5bf-c025-4702-c6bd-9b32b64ea86a"
      },
      "execution_count": 8,
      "outputs": [
        {
          "output_type": "error",
          "ename": "FileNotFoundError",
          "evalue": "ignored",
          "traceback": [
            "\u001b[0;31m---------------------------------------------------------------------------\u001b[0m",
            "\u001b[0;31mFileNotFoundError\u001b[0m                         Traceback (most recent call last)",
            "\u001b[0;32m<ipython-input-8-ddc3c4a6255d>\u001b[0m in \u001b[0;36m<cell line: 1>\u001b[0;34m()\u001b[0m\n\u001b[0;32m----> 1\u001b[0;31m \u001b[0;32mwith\u001b[0m \u001b[0mopen\u001b[0m\u001b[0;34m(\u001b[0m\u001b[0;34m'test.txt'\u001b[0m\u001b[0;34m,\u001b[0m \u001b[0mmode\u001b[0m\u001b[0;34m=\u001b[0m\u001b[0;34m'rt'\u001b[0m\u001b[0;34m)\u001b[0m \u001b[0;32mas\u001b[0m \u001b[0mf\u001b[0m\u001b[0;34m:\u001b[0m\u001b[0;34m\u001b[0m\u001b[0;34m\u001b[0m\u001b[0m\n\u001b[0m\u001b[1;32m      2\u001b[0m   \u001b[0;32mpass\u001b[0m\u001b[0;34m\u001b[0m\u001b[0;34m\u001b[0m\u001b[0m\n",
            "\u001b[0;31mFileNotFoundError\u001b[0m: [Errno 2] No such file or directory: 'test.txt'"
          ]
        }
      ]
    },
    {
      "cell_type": "code",
      "source": [
        "with open('test1.txt', mode='rt') as f:\n",
        "  line =  f.readline()  # readline: 줄 바꿈이 있을 때까지 한 줄을 읽음(그 줄에 줄바꿈\\n이 있는 것까지 읽음). -> 파일 내용을 알아야 함. 몇 줄이 있는지 확인해야 함.(줄 만큼 반복)\n",
        "  print(line.strip())\n",
        "  # 문자열.strip():  # 문자열의 왼쪽과 오른쪽 에 있는 공백 문자들(space, tab, 줄바꿈)을 제거.\n",
        "  line = f.readline()\n",
        "  print(line)\n",
        "  line = f.readline()\n",
        "  print(line) # print 자체가 출력 전 줄 바꿈 존재. + readline에서 줄바꿈 읽음 => 공백 나옴."
      ],
      "metadata": {
        "colab": {
          "base_uri": "https://localhost:8080/"
        },
        "id": "Vgej5yhZdHtZ",
        "outputId": "b9b38353-d261-4d0c-d904-00d6004251c2"
      },
      "execution_count": 16,
      "outputs": [
        {
          "output_type": "stream",
          "name": "stdout",
          "text": [
            "안녕하세요...\n",
            "Hello, python!\n",
            "\n",
            "1232343\n",
            "\n"
          ]
        }
      ]
    },
    {
      "cell_type": "code",
      "source": [
        "with open('test2.txt', mode='rt') as f:\n",
        "  for line in f: # file 객체도 반복 가능한 객체\n",
        "  # 파일의 처음부터 끝까지 readline()을 호출\n",
        "    print(line.strip())"
      ],
      "metadata": {
        "colab": {
          "base_uri": "https://localhost:8080/"
        },
        "id": "vpSmneJTdYJu",
        "outputId": "e7134f83-000e-455f-de20-a161ed46248a"
      },
      "execution_count": 18,
      "outputs": [
        {
          "output_type": "stream",
          "name": "stdout",
          "text": [
            "hello\n",
            "즐거운 월요일\n"
          ]
        }
      ]
    },
    {
      "cell_type": "markdown",
      "source": [
        "지금까지의 과정은 Google Colab에서 할당받은 가상머신(개발 환경)의 하드디스크에 파일을 쓰고, 파일을 읽는 기능을 수행한 것임.\n",
        "\n",
        "Google Colab과 연결이 끊어진 후 재연결(가상머신 재할당)을 하면, 가상 머신의 리소스(RAM, HDD, CPU,...)들은 초기화 됨. 저장했던 파일들도 모두 삭제됨.\n",
        "\n",
        "파일을 개인 Google 드라이브에 저장하고 읽은 방법이 제공됨."
      ],
      "metadata": {
        "id": "LXb5lFc4g0Fp"
      }
    },
    {
      "cell_type": "markdown",
      "source": [
        "# Colab 가상머신에서 구글 드라이브 연결(Mount)"
      ],
      "metadata": {
        "id": "Mq8B_lMUh9wa"
      }
    },
    {
      "cell_type": "code",
      "source": [
        "# Mount시 구글 드라이브 폴더 절대 경로\n",
        "dir_path = '/content/drive/MyDrive/Colab Notebooks/lab_python'\n",
        "\n",
        "# 저장할 파일 이름\n",
        "file_name = 'test.txt'"
      ],
      "metadata": {
        "id": "7DhNlv-ugLO_"
      },
      "execution_count": 19,
      "outputs": []
    },
    {
      "cell_type": "code",
      "source": [
        "import os # os 모듈 임포트: os.path.join() 함수 이용하기 위해서"
      ],
      "metadata": {
        "id": "DydEpOIjj8sm"
      },
      "execution_count": 20,
      "outputs": []
    },
    {
      "cell_type": "code",
      "source": [
        "file = os.path.join(dir_path, file_name)\n",
        "file"
      ],
      "metadata": {
        "colab": {
          "base_uri": "https://localhost:8080/",
          "height": 35
        },
        "id": "wvv-qg5jkKZU",
        "outputId": "ce9e5056-c1cd-48b6-c1ae-2d009443c35c"
      },
      "execution_count": 21,
      "outputs": [
        {
          "output_type": "execute_result",
          "data": {
            "text/plain": [
              "'/content/drive/MyDrive/Colab Notebooks/lab_python/test.txt'"
            ],
            "application/vnd.google.colaboratory.intrinsic+json": {
              "type": "string"
            }
          },
          "metadata": {},
          "execution_count": 21
        }
      ]
    },
    {
      "cell_type": "code",
      "source": [
        "with open(file, mode='wt') as f:\n",
        "  f.write('hellp\\n')\n",
        "  f.write('go\\n')\n",
        "  f.write('home\\n')"
      ],
      "metadata": {
        "id": "I_mqAEEzkQMl"
      },
      "execution_count": 22,
      "outputs": []
    },
    {
      "cell_type": "code",
      "source": [
        "with open(file,mode='rt') as f:\n",
        "  for line in f:\n",
        "    print(line.strip())"
      ],
      "metadata": {
        "colab": {
          "base_uri": "https://localhost:8080/"
        },
        "id": "gbTl5WygknqV",
        "outputId": "8947f7db-c834-4543-e250-de9e15a5f699"
      },
      "execution_count": 25,
      "outputs": [
        {
          "output_type": "stream",
          "name": "stdout",
          "text": [
            "hellp\n",
            "go\n",
            "home\n"
          ]
        }
      ]
    },
    {
      "cell_type": "code",
      "source": [
        "\n"
      ],
      "metadata": {
        "id": "7oLWdbmrlP87"
      },
      "execution_count": null,
      "outputs": []
    }
  ]
}